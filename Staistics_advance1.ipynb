{
 "cells": [
  {
   "cell_type": "code",
   "execution_count": 1,
   "id": "57df3b0b-8b77-45f8-91cb-f80168813034",
   "metadata": {},
   "outputs": [],
   "source": [
    "#Q1 What is the Probability density function?"
   ]
  },
  {
   "cell_type": "code",
   "execution_count": null,
   "id": "f4a6c5d8-ef2a-4c62-afb2-64464bf28eca",
   "metadata": {},
   "outputs": [],
   "source": [
    "# The Probability Density Function (PDF) is a fundamental concept in probability theory and statistics.\n",
    "# It is used to describe the likelihood of a continuous random variable taking on a particular value within a given range.\n",
    "# The PDF provides a continuous function that represents the distribution of the random variable."
   ]
  },
  {
   "cell_type": "code",
   "execution_count": null,
   "id": "739ae6c9-3293-43cf-9a37-e62717035a7f",
   "metadata": {},
   "outputs": [],
   "source": []
  },
  {
   "cell_type": "code",
   "execution_count": null,
   "id": "c2192dd7-1bc2-4468-a7fa-49468fd815fc",
   "metadata": {},
   "outputs": [],
   "source": [
    "#Q2 What are the types of Probability distribution?"
   ]
  },
  {
   "cell_type": "code",
   "execution_count": null,
   "id": "e1c4cab6-9f27-4571-8daf-342a904e5187",
   "metadata": {},
   "outputs": [],
   "source": [
    "# Normal/Gaussian Distribution\n",
    "# Bernaulli Distribution\n",
    "# Uniform Distribution\n",
    "# poisson distribution\n",
    "# log normal distribution\n",
    "# Binomial distribution"
   ]
  },
  {
   "cell_type": "code",
   "execution_count": null,
   "id": "4c96f7f2-cee0-4b19-aabb-fab52b79a8ed",
   "metadata": {},
   "outputs": [],
   "source": []
  },
  {
   "cell_type": "code",
   "execution_count": null,
   "id": "c9f7cc07-034e-4f5c-9e33-c32ace815cb6",
   "metadata": {},
   "outputs": [],
   "source": [
    "#Q3.Write a Python function to calculate the probability density function of a normal distribution with\n",
    "#given mean and standard deviation at a given point."
   ]
  },
  {
   "cell_type": "code",
   "execution_count": 2,
   "id": "cb9c2148-5b5d-4e4f-a488-d1bf8bddd060",
   "metadata": {},
   "outputs": [
    {
     "name": "stdout",
     "output_type": "stream",
     "text": [
      "PDF at point 1.5 is: 0.12951759566589174\n"
     ]
    }
   ],
   "source": [
    "from scipy.stats import norm\n",
    "\n",
    "def normal_pdf(x, mean, std_dev):\n",
    "    \"\"\"\n",
    "    Calculate the Probability Density Function (PDF) of a normal distribution.\n",
    "\n",
    "    Parameters:\n",
    "        x (float): The point at which to evaluate the PDF.\n",
    "        mean (float): Mean of the normal distribution.\n",
    "        std_dev (float): Standard deviation of the normal distribution.\n",
    "\n",
    "    Returns:\n",
    "        float: The PDF value at the given point.\n",
    "    \"\"\"\n",
    "    pdf_value = norm.pdf(x, mean, std_dev)\n",
    "    return pdf_value\n",
    "\n",
    "# Example usage:\n",
    "mean = 0.0\n",
    "std_dev = 1.0\n",
    "point = 1.5\n",
    "pdf_at_point = normal_pdf(point, mean, std_dev)\n",
    "print(f\"PDF at point {point} is: {pdf_at_point}\")\n"
   ]
  },
  {
   "cell_type": "code",
   "execution_count": null,
   "id": "1840163d-1fdf-4da8-bd71-917a52b93a9d",
   "metadata": {},
   "outputs": [],
   "source": []
  },
  {
   "cell_type": "code",
   "execution_count": null,
   "id": "3f39bbe2-3d35-4382-bdf3-b00a2afc1ecf",
   "metadata": {},
   "outputs": [],
   "source": [
    "# Q4. What are the properties of Binomial distribution? Give two examples of events where binomial\n",
    "# distribution can be applied."
   ]
  },
  {
   "cell_type": "code",
   "execution_count": 3,
   "id": "ef99f666-227f-4a1d-a1a5-658d281b92be",
   "metadata": {},
   "outputs": [],
   "source": [
    "# Fixed Number of Trials: The number of trials, denoted as 'n', is fixed in a binomial experiment. Each trial is independent of the others.\n",
    "\n",
    "# Two Possible Outcomes: In each trial, there are only two possible outcomes, often referred to as \"success\" and \"failure.\" \n",
    "# The probability of success in a single trial is denoted as 'p', and the probability of failure is 'q', where q = 1 - p.\n",
    "\n",
    "# Independence: Each trial is independent of the others, meaning the outcome of one trial does not affect the outcome of any other trial.\n",
    "\n",
    "# Discreteness: The Binomial distribution deals with a discrete random variable, as it counts the number of successes, which must be a whole number.\n",
    "\n",
    "# Counting Successes: The Binomial distribution calculates the probability of getting exactly 'k' successes in 'n' trials.\n",
    "\n",
    "\n",
    "\n",
    "# Examples of events where the Binomial distribution can be applied:\n",
    "    \n",
    "# Coin Tossing: Suppose you toss a fair coin 10 times and want to calculate the probability of getting exactly 5 heads. \n",
    "# Here, each toss of the coin can be considered an independent trial with two possible outcomes (heads or tails),\n",
    "# making it suitable for a binomial distribution.\n",
    "\n",
    "# Quality Control: A factory produces light bulbs, and the probability of any bulb being defective is known to be 0.1. \n",
    "# If a sample of 20 bulbs is randomly selected, you can use the Binomial distribution to calculate the probability of\n",
    "# finding exactly 3 defective bulbs in the sample. Each bulb in the sample can be considered an independent trial with two outcomes\n",
    "# (defective or non-defective)."
   ]
  },
  {
   "cell_type": "code",
   "execution_count": null,
   "id": "420a9ed4-4042-4fb2-b1ca-fb81a9a6e383",
   "metadata": {},
   "outputs": [],
   "source": []
  },
  {
   "cell_type": "code",
   "execution_count": null,
   "id": "0bc33d25-c8d6-4682-a548-9933712eba94",
   "metadata": {},
   "outputs": [],
   "source": [
    "# Q5. Generate a random sample of size 1000 from a binomial distribution with probability of success 0.4 and \n",
    "# plot a histogram of the results using matplotlib."
   ]
  },
  {
   "cell_type": "code",
   "execution_count": 4,
   "id": "e3e134f3-3c3b-431f-af6d-91123c7008ad",
   "metadata": {},
   "outputs": [
    {
     "data": {
      "image/png": "[encoded data removed]",
      "text/plain": [
       "<Figure size 640x480 with 1 Axes>"
      ]
     },
     "metadata": {},
     "output_type": "display_data"
    }
   ],
   "source": [
    "import numpy as np\n",
    "import matplotlib.pyplot as plt\n",
    "\n",
    "def generate_binomial_sample(size, prob_success):\n",
    "    \"\"\"\n",
    "    Generate a random sample from a binomial distribution.\n",
    "\n",
    "    Parameters:\n",
    "        size (int): The size of the sample.\n",
    "        prob_success (float): The probability of success in a single trial.\n",
    "\n",
    "    Returns:\n",
    "        numpy.ndarray: The generated random sample.\n",
    "    \"\"\"\n",
    "    return np.random.binomial(1, prob_success, size)\n",
    "\n",
    "# Parameters for the binomial distribution\n",
    "sample_size = 1000\n",
    "probability_of_success = 0.4\n",
    "\n",
    "# Generate a random sample from the binomial distribution\n",
    "sample = generate_binomial_sample(sample_size, probability_of_success)\n",
    "\n",
    "# Plot a histogram of the sample\n",
    "plt.hist(sample, bins=2, edgecolor='black')\n",
    "plt.xlabel('Success (1) or Failure (0)')\n",
    "plt.ylabel('Frequency')\n",
    "plt.title('Binomial Distribution Sample')\n",
    "plt.xticks([0, 1], ['Failure', 'Success'])\n",
    "plt.show()\n"
   ]
  },
  {
   "cell_type": "code",
   "execution_count": null,
   "id": "2af95601-2163-4d29-903b-302184ba62fb",
   "metadata": {},
   "outputs": [],
   "source": []
  },
  {
   "cell_type": "code",
   "execution_count": null,
   "id": "a7bfc87c-8994-4543-8682-14fc7d87fb59",
   "metadata": {},
   "outputs": [],
   "source": [
    "# Q6. Write a Python function to calculate the cumulative distribution function of a Poisson distribution\n",
    "# with given mean at a given point."
   ]
  },
  {
   "cell_type": "code",
   "execution_count": 5,
   "id": "42cd980c-c6dd-4bbd-a155-2f3f5d9241f2",
   "metadata": {},
   "outputs": [
    {
     "name": "stdout",
     "output_type": "stream",
     "text": [
      "CDF at point 5 is: 0.8576135530957782\n"
     ]
    }
   ],
   "source": [
    "from scipy.stats import poisson\n",
    "\n",
    "def poisson_cdf(x, mean):\n",
    "    \"\"\"\n",
    "    Calculate the Cumulative Distribution Function (CDF) of a Poisson distribution.\n",
    "\n",
    "    Parameters:\n",
    "        x (int): The point at which to evaluate the CDF.\n",
    "        mean (float): Mean of the Poisson distribution.\n",
    "\n",
    "    Returns:\n",
    "        float: The CDF value at the given point.\n",
    "    \"\"\"\n",
    "    cdf_value = poisson.cdf(x, mean)\n",
    "    return cdf_value\n",
    "\n",
    "# Example usage:\n",
    "mean = 3.5\n",
    "point = 5\n",
    "cdf_at_point = poisson_cdf(point, mean)\n",
    "print(f\"CDF at point {point} is: {cdf_at_point}\")\n"
   ]
  },
  {
   "cell_type": "code",
   "execution_count": null,
   "id": "e14bb445-2d02-42dd-aee6-d658b9f6f4ca",
   "metadata": {},
   "outputs": [],
   "source": []
  },
  {
   "cell_type": "code",
   "execution_count": null,
   "id": "ff1955dc-6d9c-4e2f-865b-96267987251a",
   "metadata": {},
   "outputs": [],
   "source": [
    "# Q7. How Binomial distribution different from Poisson distribution?"
   ]
  },
  {
   "cell_type": "code",
   "execution_count": 6,
   "id": "f1279782-447a-4202-a42d-e903920398c8",
   "metadata": {},
   "outputs": [],
   "source": [
    "# the main difference between the Binomial and Poisson distributions lies in the nature of trials and the types of events they model.\n",
    "# The Binomial distribution is used for a fixed number of independent trials with binary outcomes, while the Poisson distribution is\n",
    "# used to model the occurrence of rare events at a constant rate over a fixed interval.\n",
    "\n",
    "# Nature of Trials:\n",
    "\n",
    "# Binomial Distribution: The Binomial distribution deals with a fixed number of independent trials, \n",
    "# where each trial can have two possible outcomes (success or failure). The number of trials, denoted by 'n', is predetermined.\n",
    "# Poisson Distribution: The Poisson distribution deals with the number of events occurring in a fixed interval of time or space.\n",
    "# It is used to model the number of rare events that happen independently in continuous time or space.\n",
    " \n",
    "# Number of Possible Outcomes:\n",
    "\n",
    "# Binomial Distribution: In each trial, there are two possible outcomes: success or failure.\n",
    "# The probability of success remains constant across all trials and is denoted as 'p'.\n",
    "# Poisson Distribution: The Poisson distribution represents the number of occurrences of a rare event within a fixed interval. \n",
    "# The possible outcomes are non-negative integers (0, 1, 2, ...).\n",
    "\n",
    "# Probability of Success:\n",
    "\n",
    "# Binomial Distribution: In a Binomial distribution, the probability of success in each trial, denoted by 'p', remains constant.\n",
    "# Poisson Distribution: The Poisson distribution does not have a notion of success or failure.\n",
    "# It models the occurrence of rare events at a constant rate, denoted by the parameter 'λ' (lambda).\n",
    "\n",
    "# Assumptions:\n",
    "\n",
    "# Binomial Distribution: The Binomial distribution assumes a fixed number of trials, independence between trials, \n",
    "# and a constant probability of success in each trial.\n",
    "# Poisson Distribution: The Poisson distribution assumes a constant rate of occurrence for rare events within a\n",
    "# fixed interval and that events happen independently of each other.\n",
    "\n",
    "# Types of Events Modeled:\n",
    "\n",
    "# Binomial Distribution: The Binomial distribution is used to model events with a binary outcome,\n",
    "# such as success/failure, yes/no, heads/tails, etc.\n",
    "# Poisson Distribution: The Poisson distribution is used to model the number of rare events occurring \n",
    "# within a fixed time period or in a specific region, such as the number of accidents in a day, \n",
    "# the number of customer arrivals at a store per hour, etc."
   ]
  },
  {
   "cell_type": "code",
   "execution_count": null,
   "id": "1ddd9e2b-5fb8-4525-abb6-f425872c7055",
   "metadata": {},
   "outputs": [],
   "source": []
  },
  {
   "cell_type": "code",
   "execution_count": null,
   "id": "544e1391-99fc-483c-8e7d-62e1ae814cc3",
   "metadata": {},
   "outputs": [],
   "source": [
    "# Q8. Generate a random sample of size 1000 from a Poisson distribution with mean 5 and calculate the\n",
    "# sample mean and variance."
   ]
  },
  {
   "cell_type": "code",
   "execution_count": 7,
   "id": "93747e2a-8616-47fe-bc1d-16a5bdee260f",
   "metadata": {},
   "outputs": [
    {
     "name": "stdout",
     "output_type": "stream",
     "text": [
      "Sample Mean: 5.015\n",
      "Sample Variance: 5.023798798798799\n"
     ]
    }
   ],
   "source": [
    "from scipy.stats import poisson\n",
    "import numpy as np\n",
    "\n",
    "def generate_poisson_sample(size, mean):\n",
    "    \"\"\"\n",
    "    Generate a random sample from a Poisson distribution.\n",
    "\n",
    "    Parameters:\n",
    "        size (int): The size of the sample.\n",
    "        mean (float): Mean of the Poisson distribution.\n",
    "\n",
    "    Returns:\n",
    "        numpy.ndarray: The generated random sample.\n",
    "    \"\"\"\n",
    "    return poisson.rvs(mean, size=size)\n",
    "\n",
    "# Parameters for the Poisson distribution\n",
    "sample_size = 1000\n",
    "mean = 5\n",
    "\n",
    "# Generate a random sample from the Poisson distribution\n",
    "sample = generate_poisson_sample(sample_size, mean)\n",
    "\n",
    "# Calculate the sample mean and variance\n",
    "sample_mean = np.mean(sample)\n",
    "sample_variance = np.var(sample, ddof=1)  # Use ddof=1 for unbiased sample variance\n",
    "\n",
    "print(f\"Sample Mean: {sample_mean}\")\n",
    "print(f\"Sample Variance: {sample_variance}\")\n"
   ]
  },
  {
   "cell_type": "code",
   "execution_count": null,
   "id": "c5beaab1-c596-41b2-862e-0749c41ec155",
   "metadata": {},
   "outputs": [],
   "source": []
  },
  {
   "cell_type": "code",
   "execution_count": null,
   "id": "5a95f156-6636-4559-97bb-620bb2a386fd",
   "metadata": {},
   "outputs": [],
   "source": [
    "# Q9. How mean and variance are related in Binomial distribution and Poisson distribution?"
   ]
  },
  {
   "cell_type": "code",
   "execution_count": 8,
   "id": "cf339cf7-adc4-4f1e-aff0-e67c102b9d9e",
   "metadata": {},
   "outputs": [],
   "source": [
    "# The key takeaway from these relationships is that in both the Binomial and Poisson distributions, \n",
    "# the variance is equal to the mean (μ = σ^2) in the respective distributions. \n",
    "# This property simplifies calculations and allows us to fully describe the spread and \n",
    "# central tendency of the distributions using a single parameter.\n",
    "\n",
    "# Binomial Distribution:\n",
    "\n",
    "# Mean: The mean of a Binomial distribution is given by the product of the number of trials (n) and the probability of success in each trial (p). \n",
    "# Mathematically, the mean of a Binomial distribution is μ = n * p.\n",
    "# Variance: The variance of a Binomial distribution is calculated as the product of the number of trials (n),\n",
    "# the probability of success (p), and the probability of failure (q = 1 - p). \n",
    "# Mathematically, the variance of a Binomial distribution is σ^2 = n * p * q.\n",
    "\n",
    "# Poisson Distribution:\n",
    "\n",
    "# Mean: The mean of a Poisson distribution is equal to its parameter λ (lambda).\n",
    "# It represents the average rate at which events occur in a fixed interval of time or space. \n",
    "# Mathematically, the mean of a Poisson distribution is μ = λ.\n",
    "# Variance: The variance of a Poisson distribution is also equal to its parameter λ (lambda).\n",
    "# In other words, the variance is the same as the mean for a Poisson distribution.\n",
    "# Mathematically, the variance of a Poisson distribution is σ^2 = λ.\n",
    "\n"
   ]
  },
  {
   "cell_type": "code",
   "execution_count": null,
   "id": "fbfc4aa1-afbf-4f0e-95ae-537675bfbf21",
   "metadata": {},
   "outputs": [],
   "source": []
  },
  {
   "cell_type": "code",
   "execution_count": null,
   "id": "26d24e51-b883-494a-b5f4-e5e88d946a58",
   "metadata": {},
   "outputs": [],
   "source": [
    "# Q10. In normal distribution with respect to mean position, where does the least frequent data appear?"
   ]
  },
  {
   "cell_type": "code",
   "execution_count": null,
   "id": "22a4728a-9112-48d3-9b66-52b5de5afb70",
   "metadata": {},
   "outputs": [],
   "source": [
    "In a normal distribution, the least frequent data points appear at the tails of the distribution, \n",
    "farthest away from the mean. The normal distribution is a symmetric distribution, and its shape is characterized by a bell-shaped curve.\n",
    "\n",
    "The mean of a normal distribution is located at the center of the curve,\n",
    "and it represents the average or central value of the data. \n",
    "The curve is symmetric around the mean, which means that half of the data points lie to the left of the mean, and the other half lie to the right.\n",
    "\n",
    "As we move away from the mean towards the tails of the distribution, the data points become less frequent. \n",
    "The probability of observing data points at extreme values (far from the mean) is lower compared to the\n",
    "probability of observing data points closer to the mean.\n",
    "\n",
    "In a standard normal distribution (a normal distribution with a mean of 0 and a standard deviation of 1),\n",
    "approximately 68% of the data falls within one standard deviation of the mean, about 95% falls within two standard deviations, \n",
    "and around 99.7% falls within three standard deviations."
   ]
  }
 ],
 "metadata": {
  "kernelspec": {
   "display_name": "Python 3 (ipykernel)",
   "language": "python",
   "name": "python3"
  },
  "language_info": {
   "codemirror_mode": {
    "name": "ipython",
    "version": 3
   },
   "file_extension": ".py",
   "mimetype": "text/x-python",
   "name": "python",
   "nbconvert_exporter": "python",
   "pygments_lexer": "ipython3",
   "version": "3.10.8"
  }
 },
 "nbformat": 4,
 "nbformat_minor": 5
}
