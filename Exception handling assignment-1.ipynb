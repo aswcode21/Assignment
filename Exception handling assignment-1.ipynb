{
 "cells": [
  {
   "cell_type": "code",
   "execution_count": 1,
   "id": "afe7748a-b631-4d56-9866-79177604b5d0",
   "metadata": {},
   "outputs": [],
   "source": [
    "#Question 1"
   ]
  },
  {
   "cell_type": "code",
   "execution_count": 2,
   "id": "d7cab843-1e3a-4ed1-8263-3b13be974bb0",
   "metadata": {},
   "outputs": [],
   "source": [
    "#When in the runtime an error that occurs after passing the syntax test is called exception or logical type. For example, when we divide any number by zero then the ZeroDivisionError exception is raised,\n",
    "#or when we import a module that does not exist then ImportError is raised."
   ]
  },
  {
   "cell_type": "code",
   "execution_count": 3,
   "id": "04ee7c6b-d225-43fd-8901-79a9e95d4247",
   "metadata": {},
   "outputs": [],
   "source": [
    "#Errors are the problems in a program due to which the program will stop the execution. On the other hand, exceptions are raised when some \n",
    "#internal events occur which changes the normal flow of the program. "
   ]
  },
  {
   "cell_type": "code",
   "execution_count": 4,
   "id": "79774518-06dc-4300-83da-a0fba955fa9b",
   "metadata": {},
   "outputs": [
    {
     "ename": "SyntaxError",
     "evalue": "expected ':' (4215128690.py, line 3)",
     "output_type": "error",
     "traceback": [
      "\u001b[0;36m  Cell \u001b[0;32mIn[4], line 3\u001b[0;36m\u001b[0m\n\u001b[0;31m    if(amount>2999)\u001b[0m\n\u001b[0m                   ^\u001b[0m\n\u001b[0;31mSyntaxError\u001b[0m\u001b[0;31m:\u001b[0m expected ':'\n"
     ]
    }
   ],
   "source": [
    "amount = 10000\n",
    "  \n",
    "if(amount>2999)\n",
    "    print(\"You are eligible to purchase Dsa Self Paced\")"
   ]
  },
  {
   "cell_type": "code",
   "execution_count": 5,
   "id": "ea2f0088-2f96-4d92-a53e-836dbc3c4a6a",
   "metadata": {},
   "outputs": [
    {
     "ename": "ZeroDivisionError",
     "evalue": "division by zero",
     "output_type": "error",
     "traceback": [
      "\u001b[0;31m---------------------------------------------------------------------------\u001b[0m",
      "\u001b[0;31mZeroDivisionError\u001b[0m                         Traceback (most recent call last)",
      "Cell \u001b[0;32mIn[5], line 4\u001b[0m\n\u001b[1;32m      1\u001b[0m marks \u001b[38;5;241m=\u001b[39m \u001b[38;5;241m10000\u001b[39m\n\u001b[1;32m      3\u001b[0m \u001b[38;5;66;03m# perform division with 0\u001b[39;00m\n\u001b[0;32m----> 4\u001b[0m a \u001b[38;5;241m=\u001b[39m \u001b[43mmarks\u001b[49m\u001b[43m \u001b[49m\u001b[38;5;241;43m/\u001b[39;49m\u001b[43m \u001b[49m\u001b[38;5;241;43m0\u001b[39;49m\n\u001b[1;32m      5\u001b[0m \u001b[38;5;28mprint\u001b[39m(a)\n",
      "\u001b[0;31mZeroDivisionError\u001b[0m: division by zero"
     ]
    }
   ],
   "source": [
    "marks = 10000\n",
    "  \n",
    "# perform division with 0\n",
    "a = marks / 0\n",
    "print(a)"
   ]
  },
  {
   "cell_type": "code",
   "execution_count": 6,
   "id": "50d786bf-d977-48ed-9c91-5a56cb15409e",
   "metadata": {},
   "outputs": [
    {
     "name": "stdout",
     "output_type": "stream",
     "text": [
      "division by zero\n"
     ]
    }
   ],
   "source": [
    "#Exception handling\n",
    "try:\n",
    "    a=10/0\n",
    "except ZeroDivisionError as e:\n",
    "    print(e)"
   ]
  },
  {
   "cell_type": "code",
   "execution_count": null,
   "id": "dd5b2bce-3fe9-4c2b-a420-3e71ed0dda9b",
   "metadata": {},
   "outputs": [],
   "source": []
  },
  {
   "cell_type": "code",
   "execution_count": null,
   "id": "85e07364-b512-454e-91fb-a1add273ba19",
   "metadata": {},
   "outputs": [],
   "source": [
    "#Question2"
   ]
  },
  {
   "cell_type": "code",
   "execution_count": 7,
   "id": "a36c8c92-a6ca-47cb-a53d-f4ba4e0c92c1",
   "metadata": {},
   "outputs": [],
   "source": [
    "#when an exception occurs and is not handled, it results in the termination of the program's execution and the display of an error message known as a traceback. The traceback provides information about the unhandled exception, including the type of exception,\n",
    "#the line of code where it occurred, and the sequence of function calls that led to the exception."
   ]
  },
  {
   "cell_type": "code",
   "execution_count": 8,
   "id": "cb46bbda-2de2-4d06-855f-b3a20ecb3726",
   "metadata": {},
   "outputs": [
    {
     "ename": "ZeroDivisionError",
     "evalue": "division by zero",
     "output_type": "error",
     "traceback": [
      "\u001b[0;31m---------------------------------------------------------------------------\u001b[0m",
      "\u001b[0;31mZeroDivisionError\u001b[0m                         Traceback (most recent call last)",
      "Cell \u001b[0;32mIn[8], line 8\u001b[0m\n\u001b[1;32m      5\u001b[0m num1 \u001b[38;5;241m=\u001b[39m \u001b[38;5;241m10\u001b[39m\n\u001b[1;32m      6\u001b[0m num2 \u001b[38;5;241m=\u001b[39m \u001b[38;5;241m0\u001b[39m\n\u001b[0;32m----> 8\u001b[0m result \u001b[38;5;241m=\u001b[39m \u001b[43mdivide_numbers\u001b[49m\u001b[43m(\u001b[49m\u001b[43mnum1\u001b[49m\u001b[43m,\u001b[49m\u001b[43m \u001b[49m\u001b[43mnum2\u001b[49m\u001b[43m)\u001b[49m\n\u001b[1;32m      9\u001b[0m \u001b[38;5;28mprint\u001b[39m(\u001b[38;5;124m\"\u001b[39m\u001b[38;5;124mResult:\u001b[39m\u001b[38;5;124m\"\u001b[39m, result)\n",
      "Cell \u001b[0;32mIn[8], line 2\u001b[0m, in \u001b[0;36mdivide_numbers\u001b[0;34m(a, b)\u001b[0m\n\u001b[1;32m      1\u001b[0m \u001b[38;5;28;01mdef\u001b[39;00m \u001b[38;5;21mdivide_numbers\u001b[39m(a, b):\n\u001b[0;32m----> 2\u001b[0m     result \u001b[38;5;241m=\u001b[39m \u001b[43ma\u001b[49m\u001b[43m \u001b[49m\u001b[38;5;241;43m/\u001b[39;49m\u001b[43m \u001b[49m\u001b[43mb\u001b[49m\n\u001b[1;32m      3\u001b[0m     \u001b[38;5;28;01mreturn\u001b[39;00m result\n",
      "\u001b[0;31mZeroDivisionError\u001b[0m: division by zero"
     ]
    }
   ],
   "source": [
    "def divide_numbers(a, b):\n",
    "    result = a / b\n",
    "    return result\n",
    "\n",
    "num1 = 10\n",
    "num2 = 0\n",
    "\n",
    "result = divide_numbers(num1, num2)\n",
    "print(\"Result:\", result)"
   ]
  },
  {
   "cell_type": "code",
   "execution_count": null,
   "id": "e529ade6-e564-4b56-b594-d1243a1a54df",
   "metadata": {},
   "outputs": [],
   "source": []
  },
  {
   "cell_type": "code",
   "execution_count": null,
   "id": "61863654-e491-42e2-a901-68df0fbe7136",
   "metadata": {},
   "outputs": [],
   "source": [
    "#Question3"
   ]
  },
  {
   "cell_type": "code",
   "execution_count": 9,
   "id": "129e090f-d79a-490e-949f-d18e39f679a6",
   "metadata": {},
   "outputs": [],
   "source": [
    "#In Python, you can handle exceptions using the try, except, else, and finally statements. These statements allow you to catch and handle specific types\n",
    "#of errors that may occur during the execution of your program."
   ]
  },
  {
   "cell_type": "code",
   "execution_count": 10,
   "id": "b73907a9-f0df-43aa-8812-87fa021f903b",
   "metadata": {},
   "outputs": [
    {
     "name": "stdout",
     "output_type": "stream",
     "text": [
      "Error: Division by zero!\n",
      "The 'finally' block is executed.\n"
     ]
    }
   ],
   "source": [
    "try:\n",
    "    # Code that may raise an exception\n",
    "    x = 10 / 0  # Attempting to divide by zero\n",
    "    print(\"This line will not be executed.\")  # This line is skipped due to the exception\n",
    "except ZeroDivisionError:\n",
    "    # Handling the specific exception type (ZeroDivisionError)\n",
    "    print(\"Error: Division by zero!\")\n",
    "else:\n",
    "    # This block is executed if no exceptions occur in the try block\n",
    "    print(\"No exception occurred.\")\n",
    "finally:\n",
    "    # This block is always executed, regardless of whether an exception occurred or not\n",
    "    print(\"The 'finally' block is executed.\")"
   ]
  },
  {
   "cell_type": "code",
   "execution_count": null,
   "id": "ac951164-3cb1-4ac1-b3ea-dca8fb08aa76",
   "metadata": {},
   "outputs": [],
   "source": []
  },
  {
   "cell_type": "code",
   "execution_count": null,
   "id": "9d25f795-2aec-46d1-a8be-35bee12e090e",
   "metadata": {},
   "outputs": [],
   "source": [
    "#Question4"
   ]
  },
  {
   "cell_type": "code",
   "execution_count": null,
   "id": "56b4967c-f116-453b-aee5-c2bf28f9c1da",
   "metadata": {},
   "outputs": [],
   "source": [
    "# 1.try and else"
   ]
  },
  {
   "cell_type": "code",
   "execution_count": 11,
   "id": "d0c486f6-cf1a-40c0-92c1-01de7227b49b",
   "metadata": {},
   "outputs": [
    {
     "name": "stdin",
     "output_type": "stream",
     "text": [
      "Enter a number:  \n"
     ]
    },
    {
     "name": "stdout",
     "output_type": "stream",
     "text": [
      "Invalid input. Please enter a valid number.\n"
     ]
    }
   ],
   "source": [
    "try:\n",
    "    x = int(input(\"Enter a number: \"))  # Attempting to convert user input to an integer\n",
    "except ValueError:\n",
    "    print(\"Invalid input. Please enter a valid number.\")\n",
    "else:\n",
    "    # This block is executed if no exception occurs in the try block\n",
    "    result = x * 2\n",
    "    print(\"The result is:\", result)"
   ]
  },
  {
   "cell_type": "code",
   "execution_count": 12,
   "id": "76aa868c-facd-4fb8-a861-4853b9f239b5",
   "metadata": {},
   "outputs": [
    {
     "name": "stdin",
     "output_type": "stream",
     "text": [
      "Enter a number:  234\n"
     ]
    },
    {
     "name": "stdout",
     "output_type": "stream",
     "text": [
      "The result is: 468\n"
     ]
    }
   ],
   "source": [
    "try:\n",
    "    x = int(input(\"Enter a number: \"))  # Attempting to convert user input to an integer\n",
    "except ValueError:\n",
    "    print(\"Invalid input. Please enter a valid number.\")\n",
    "else:\n",
    "    # This block is executed if no exception occurs in the try block\n",
    "    result = x * 2\n",
    "    print(\"The result is:\", result)"
   ]
  },
  {
   "cell_type": "code",
   "execution_count": null,
   "id": "37ae4785-87fb-4d8a-87b7-8740f65b6292",
   "metadata": {},
   "outputs": [],
   "source": [
    "#2.finally"
   ]
  },
  {
   "cell_type": "code",
   "execution_count": 13,
   "id": "6695f464-d939-40dd-8e13-daa9a33ae318",
   "metadata": {},
   "outputs": [
    {
     "name": "stdout",
     "output_type": "stream",
     "text": [
      "The file does not exist.\n"
     ]
    }
   ],
   "source": [
    "try:\n",
    "    file = open(\"example.txt\", \"r\")  # Attempting to open a file for reading\n",
    "    content = file.read()\n",
    "    print(content)\n",
    "except FileNotFoundError:\n",
    "    print(\"The file does not exist.\")\n",
    "finally:\n",
    "    # This block is always executed, regardless of whether an exception occurred or not\n",
    "    if 'file' in locals():\n",
    "        file.close()"
   ]
  },
  {
   "cell_type": "code",
   "execution_count": 14,
   "id": "8d84282e-0a05-4bc8-b34e-7b1dbd22f030",
   "metadata": {},
   "outputs": [
    {
     "name": "stdout",
     "output_type": "stream",
     "text": [
      "Data Science Masters course is highly curated and uniquely designed according to the latest industry standards. This program instills students the skills essential to knowledge discovery efforts to identify standard, novel, and truly differentiated solutions and decision-making, including skills in managing, querying, analyzing, visualizing, and extracting meaning from extremely large data sets. This trending program provides students with the statistical, mathematical, and computational skills needed to meet the large-scale data science challenges of today's professional world. You will learn all the stack required to work in data science, data analytics, and big data industry including cloud infrastructure and real-time industry projects.\n"
     ]
    }
   ],
   "source": [
    "try:\n",
    "    file = open(\"test2.txt\", \"r\")  # Attempting to open a file for reading\n",
    "    content = file.read()\n",
    "    print(content)\n",
    "except FileNotFoundError:\n",
    "    print(\"The file does not exist.\")\n",
    "finally:\n",
    "    # This block is always executed, regardless of whether an exception occurred or not\n",
    "    if 'file' in locals():\n",
    "        file.close()"
   ]
  },
  {
   "cell_type": "code",
   "execution_count": null,
   "id": "3e6a80b9-1f54-4030-8f80-a72033862952",
   "metadata": {},
   "outputs": [],
   "source": [
    "#3.raise"
   ]
  },
  {
   "cell_type": "code",
   "execution_count": null,
   "id": "a8db9d8a-bcf7-4463-a17b-b5e9437840fb",
   "metadata": {},
   "outputs": [],
   "source": [
    "#the raise statement is used to explicitly raise exceptions.\n",
    "#It allows you to raise built-in exceptions or create your own custom exceptions."
   ]
  },
  {
   "cell_type": "code",
   "execution_count": 15,
   "id": "f7f8c694-e4f6-4639-a416-ed1041a8b06f",
   "metadata": {},
   "outputs": [
    {
     "name": "stdout",
     "output_type": "stream",
     "text": [
      "Error: Cannot calculate square root of a negative number.\n"
     ]
    }
   ],
   "source": [
    "def calculate_square_root(number):\n",
    "    if number < 0:\n",
    "        raise ValueError(\"Cannot calculate square root of a negative number.\")\n",
    "    else:\n",
    "        return number ** 0.5\n",
    "\n",
    "try:\n",
    "    result = calculate_square_root(-4)\n",
    "    print(\"The square root is:\", result)\n",
    "except ValueError as error:\n",
    "    print(\"Error:\", str(error))"
   ]
  },
  {
   "cell_type": "code",
   "execution_count": null,
   "id": "fe2ee103-d77b-466e-8cf4-b06bdd1fc826",
   "metadata": {},
   "outputs": [],
   "source": []
  },
  {
   "cell_type": "code",
   "execution_count": null,
   "id": "89af009c-3616-49ed-8610-2785d44c75ca",
   "metadata": {},
   "outputs": [],
   "source": [
    "#4.custom exception"
   ]
  },
  {
   "cell_type": "code",
   "execution_count": 1,
   "id": "ef5094d0-b663-4e6a-9117-5c40e82470c7",
   "metadata": {},
   "outputs": [],
   "source": [
    "#CustomException is defined as a custom exception that inherits from the base Exception class. You can add your own custom logic and \n",
    "#behavior to this class by defining methods and attributes specific to your needs."
   ]
  },
  {
   "cell_type": "code",
   "execution_count": 2,
   "id": "d2767906-204e-49f3-a579-e9d2852bbce9",
   "metadata": {},
   "outputs": [
    {
     "name": "stdout",
     "output_type": "stream",
     "text": [
      "CustomException: This is a custom exception\n"
     ]
    }
   ],
   "source": [
    "class CustomException(Exception):\n",
    "    def __init__(self, message):\n",
    "        self.message = message\n",
    "\n",
    "try:\n",
    "    #Raise the custom exception\n",
    "    raise CustomException(\"This is a custom exception\")\n",
    "except CustomException as e:\n",
    "    #Handle the custom exception\n",
    "    print(\"CustomException:\", e.message)"
   ]
  },
  {
   "cell_type": "code",
   "execution_count": 3,
   "id": "11a4f1d8-2bda-4df4-9db1-8e2e67262238",
   "metadata": {},
   "outputs": [
    {
     "name": "stdout",
     "output_type": "stream",
     "text": [
      "CustomException: 500 - Internal Server Error\n"
     ]
    }
   ],
   "source": [
    "class CustomException(Exception):\n",
    "    def __init__(self, error_code, message):\n",
    "        self.error_code = error_code\n",
    "        self.message = message\n",
    "\n",
    "try:\n",
    "    raise CustomException(500, \"Internal Server Error\")\n",
    "except CustomException as e:\n",
    "    print(\"CustomException:\", e.error_code, \"-\", e.message)"
   ]
  },
  {
   "cell_type": "code",
   "execution_count": 4,
   "id": "c4bf62d6-7579-40f7-b5aa-5bcf5f710376",
   "metadata": {},
   "outputs": [
    {
     "name": "stdout",
     "output_type": "stream",
     "text": [
      "Error logged: An error occurred\n"
     ]
    }
   ],
   "source": [
    "class CustomException(Exception):\n",
    "    def __init__(self, message):\n",
    "        self.message = message\n",
    "\n",
    "    def log_error(self):\n",
    "        # Implement custom logging logic here\n",
    "        print(\"Error logged:\", self.message)\n",
    "\n",
    "try:\n",
    "    raise CustomException(\"An error occurred\")\n",
    "except CustomException as e:\n",
    "    e.log_error()"
   ]
  },
  {
   "cell_type": "code",
   "execution_count": null,
   "id": "d0e0f302-8394-4686-9117-c77b59e9a1d4",
   "metadata": {},
   "outputs": [],
   "source": [
    "#We need custom exception due to folloeing reasons:-"
   ]
  },
  {
   "cell_type": "code",
   "execution_count": null,
   "id": "dc76892e-9d6f-4224-8bf4-e7941b1b8d7d",
   "metadata": {},
   "outputs": [],
   "source": [
    "#Clear and specific error handling\n",
    "#Modularity and organization\n",
    "#Exception customization\n",
    "#Exception hierarchy and inheritance\n",
    "#Code readability and maintainability"
   ]
  },
  {
   "cell_type": "code",
   "execution_count": 5,
   "id": "a2f29300-e9a8-4712-979a-cd3f96f55640",
   "metadata": {},
   "outputs": [
    {
     "name": "stdout",
     "output_type": "stream",
     "text": [
      "Error: Invalid file format. Only '.txt' files are supported.\n"
     ]
    }
   ],
   "source": [
    "class InvalidFileFormatError(Exception):\n",
    "    pass\n",
    "\n",
    "def read_file(file_path):\n",
    "    if not file_path.endswith('.txt'):\n",
    "        raise InvalidFileFormatError(\"Invalid file format. Only '.txt' files are supported.\")\n",
    "    # Perform the file reading logic\n",
    "\n",
    "# Usage\n",
    "try:\n",
    "    read_file(\"data.csv\")\n",
    "except InvalidFileFormatError as e:\n",
    "    print(\"Error:\", e)"
   ]
  },
  {
   "cell_type": "code",
   "execution_count": null,
   "id": "9302bef8-85bf-41e5-a26d-20f1d23bd152",
   "metadata": {},
   "outputs": [],
   "source": []
  },
  {
   "cell_type": "code",
   "execution_count": null,
   "id": "980b6adb-684b-425b-b840-665083c7377d",
   "metadata": {},
   "outputs": [],
   "source": [
    "#Question5"
   ]
  },
  {
   "cell_type": "code",
   "execution_count": 6,
   "id": "588dd235-c084-4d02-b1cd-d83c0689d431",
   "metadata": {},
   "outputs": [
    {
     "name": "stdout",
     "output_type": "stream",
     "text": [
      "CustomException: Invalid value. Value must be positive.\n"
     ]
    }
   ],
   "source": [
    "class CustomException(Exception):\n",
    "    def __init__(self, message):\n",
    "        self.message = message\n",
    "\n",
    "def perform_calculation(value):\n",
    "    if value < 0:\n",
    "        raise CustomException(\"Invalid value. Value must be positive.\")\n",
    "    else:\n",
    "        # Perform calculation\n",
    "        return value * 2\n",
    "\n",
    "# Usage\n",
    "try:\n",
    "    result = perform_calculation(-5)\n",
    "    print(\"Result:\", result)\n",
    "except CustomException as e:\n",
    "    print(\"CustomException:\", e.message)"
   ]
  },
  {
   "cell_type": "code",
   "execution_count": 9,
   "id": "4fa9798e-9c74-4a09-98fa-669cc2f917a5",
   "metadata": {},
   "outputs": [
    {
     "name": "stdout",
     "output_type": "stream",
     "text": [
      "CustomException: Cannot divide by zero.\n"
     ]
    }
   ],
   "source": [
    "class CustomException(Exception):\n",
    "    def __init__(self, message):\n",
    "        self.message = message\n",
    "\n",
    "def divide_numbers(a, b):\n",
    "    if b == 0:\n",
    "        raise CustomException(\"Cannot divide by zero.\")\n",
    "    else:\n",
    "        return a / b\n",
    "\n",
    "# Usage\n",
    "try:\n",
    "    result = divide_numbers(10, 0)\n",
    "    print(\"Result:\", result)\n",
    "except CustomException as e:\n",
    "    print(\"CustomException:\", e.message)"
   ]
  },
  {
   "cell_type": "code",
   "execution_count": null,
   "id": "8ac85271-98f7-4e1a-b0a2-36bf7ee134fd",
   "metadata": {},
   "outputs": [],
   "source": []
  }
 ],
 "metadata": {
  "kernelspec": {
   "display_name": "Python 3 (ipykernel)",
   "language": "python",
   "name": "python3"
  },
  "language_info": {
   "codemirror_mode": {
    "name": "ipython",
    "version": 3
   },
   "file_extension": ".py",
   "mimetype": "text/x-python",
   "name": "python",
   "nbconvert_exporter": "python",
   "pygments_lexer": "ipython3",
   "version": "3.10.8"
  }
 },
 "nbformat": 4,
 "nbformat_minor": 5
}
