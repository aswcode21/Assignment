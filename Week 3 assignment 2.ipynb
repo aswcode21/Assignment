{
 "cells": [
  {
   "cell_type": "code",
   "execution_count": 1,
   "id": "8c93325a-155c-4e1c-abb0-397ac1c9b440",
   "metadata": {},
   "outputs": [],
   "source": [
    "#Question1"
   ]
  },
  {
   "cell_type": "code",
   "execution_count": 2,
   "id": "913f8de1-32f3-4683-bb32-ac0a47991f61",
   "metadata": {},
   "outputs": [
    {
     "name": "stdout",
     "output_type": "stream",
     "text": [
      "[('Virat Kohli', 24936), ('Jack Kallis', 25534), ('Ricky Ponting', 27483), ('Sachin Tendulkar', 34357)]\n"
     ]
    }
   ],
   "source": [
    "sample = [('Sachin Tendulkar', 34357), ('Ricky Ponting', 27483), ('Jack Kallis', 25534), ('Virat Kohli', 24936)]\n",
    "sample.sort(key=lambda a: a[1])\n",
    "print(sample)"
   ]
  },
  {
   "cell_type": "code",
   "execution_count": null,
   "id": "1f84e337-1f81-48db-bf86-39f60f5089c7",
   "metadata": {},
   "outputs": [],
   "source": []
  },
  {
   "cell_type": "code",
   "execution_count": 3,
   "id": "bd5bea98-1f6b-43a8-802b-229c34a1439f",
   "metadata": {},
   "outputs": [],
   "source": [
    "#Question2"
   ]
  },
  {
   "cell_type": "code",
   "execution_count": 4,
   "id": "d48b9cf3-4410-49b0-90be-12bcf35d0b13",
   "metadata": {},
   "outputs": [],
   "source": [
    "l=[1, 2, 3, 4, 5, 6, 7, 8, 9, 10]"
   ]
  },
  {
   "cell_type": "code",
   "execution_count": 5,
   "id": "8bbe410a-4647-453a-a23a-8c78737448e7",
   "metadata": {},
   "outputs": [
    {
     "data": {
      "text/plain": [
       "[1, 4, 9, 16, 25, 36, 49, 64, 81, 100]"
      ]
     },
     "execution_count": 5,
     "metadata": {},
     "output_type": "execute_result"
    }
   ],
   "source": [
    "list(map(lambda x: x**2,l))"
   ]
  },
  {
   "cell_type": "code",
   "execution_count": null,
   "id": "e57f3041-36f5-424b-917f-fd60548de10c",
   "metadata": {},
   "outputs": [],
   "source": []
  },
  {
   "cell_type": "code",
   "execution_count": null,
   "id": "2551a85d-de5d-4ed6-8b87-2ee4b5188aed",
   "metadata": {},
   "outputs": [],
   "source": [
    "#Question3"
   ]
  },
  {
   "cell_type": "code",
   "execution_count": 6,
   "id": "513ee622-9f76-4ddb-82cf-1cefbba66907",
   "metadata": {},
   "outputs": [],
   "source": [
    "l1=[1,2,3,4,5,6,7,8,9,10]"
   ]
  },
  {
   "cell_type": "code",
   "execution_count": 9,
   "id": "61fa1444-1e72-4100-aa3c-3e36e7338eb2",
   "metadata": {},
   "outputs": [
    {
     "data": {
      "text/plain": [
       "('1', '2', '3', '4', '5', '6', '7', '8', '9', '10')"
      ]
     },
     "execution_count": 9,
     "metadata": {},
     "output_type": "execute_result"
    }
   ],
   "source": [
    "tuple(map(lambda x: str(x),l))"
   ]
  },
  {
   "cell_type": "code",
   "execution_count": null,
   "id": "6e752282-af57-44ba-b82f-6ea2a97b9076",
   "metadata": {},
   "outputs": [],
   "source": []
  },
  {
   "cell_type": "code",
   "execution_count": null,
   "id": "b0c1b44e-548e-45fa-9866-2770bed5b304",
   "metadata": {},
   "outputs": [],
   "source": [
    "#Question4"
   ]
  },
  {
   "cell_type": "code",
   "execution_count": 10,
   "id": "e8082438-854b-4d0f-8afc-6195bd8c0bff",
   "metadata": {},
   "outputs": [],
   "source": [
    "l=[1, 2, 3, 4, 5, 6, 7, 8, 9, 10, 11, 12, 13, 14, 15, 16, 17, 18, 19, 20, 21, 22, 23, 24, 25]"
   ]
  },
  {
   "cell_type": "code",
   "execution_count": 12,
   "id": "aa39ac64-6297-4684-8a85-9282d7f25410",
   "metadata": {},
   "outputs": [],
   "source": [
    "from functools import reduce"
   ]
  },
  {
   "cell_type": "code",
   "execution_count": 13,
   "id": "bd24c04d-8bb2-410d-9115-a3dc5d538a62",
   "metadata": {},
   "outputs": [
    {
     "data": {
      "text/plain": [
       "15511210043330985984000000"
      ]
     },
     "execution_count": 13,
     "metadata": {},
     "output_type": "execute_result"
    }
   ],
   "source": [
    " reduce(lambda x, y: x * y,l)"
   ]
  },
  {
   "cell_type": "code",
   "execution_count": null,
   "id": "e02af7ca-67a5-49ae-b774-ba249637511d",
   "metadata": {},
   "outputs": [],
   "source": []
  },
  {
   "cell_type": "code",
   "execution_count": null,
   "id": "426ec212-eb8f-49c6-aee9-5f3b9dcf56dc",
   "metadata": {},
   "outputs": [],
   "source": [
    "#Question5"
   ]
  },
  {
   "cell_type": "code",
   "execution_count": 14,
   "id": "1d65df18-8259-42d8-804e-0d9d3a622ab5",
   "metadata": {},
   "outputs": [],
   "source": [
    "l2=[2, 3, 6, 9, 27, 60, 90, 120, 55, 46]"
   ]
  },
  {
   "cell_type": "code",
   "execution_count": 15,
   "id": "ce443562-e2e3-4425-90ce-b729d60999cc",
   "metadata": {},
   "outputs": [
    {
     "data": {
      "text/plain": [
       "[6, 60, 90, 120]"
      ]
     },
     "execution_count": 15,
     "metadata": {},
     "output_type": "execute_result"
    }
   ],
   "source": [
    "list(filter(lambda x: x%6==0,l2))"
   ]
  },
  {
   "cell_type": "code",
   "execution_count": null,
   "id": "e20ae99c-9499-42b0-9734-da864df71a37",
   "metadata": {},
   "outputs": [],
   "source": []
  },
  {
   "cell_type": "code",
   "execution_count": null,
   "id": "2ad0a519-655d-494c-961a-62fbc6ce2f40",
   "metadata": {},
   "outputs": [],
   "source": [
    "#Question6"
   ]
  },
  {
   "cell_type": "code",
   "execution_count": 17,
   "id": "c87ab17b-1430-4a22-8265-53ff42a64d74",
   "metadata": {},
   "outputs": [],
   "source": [
    "l3=['python', 'php', 'aba', 'radar', 'level']"
   ]
  },
  {
   "cell_type": "code",
   "execution_count": null,
   "id": "e8a53847-f6f2-4a3b-88ec-3b7bc51fdb74",
   "metadata": {},
   "outputs": [],
   "source": [
    "result = list(filter(lambda x: (x == \"\".join(reversed(x))), l3)) \n",
    "print()"
   ]
  }
 ],
 "metadata": {
  "kernelspec": {
   "display_name": "Python 3 (ipykernel)",
   "language": "python",
   "name": "python3"
  },
  "language_info": {
   "codemirror_mode": {
    "name": "ipython",
    "version": 3
   },
   "file_extension": ".py",
   "mimetype": "text/x-python",
   "name": "python",
   "nbconvert_exporter": "python",
   "pygments_lexer": "ipython3",
   "version": "3.10.8"
  }
 },
 "nbformat": 4,
 "nbformat_minor": 5
}
