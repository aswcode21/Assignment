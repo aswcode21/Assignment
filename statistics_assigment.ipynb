{
 "cells": [
  {
   "cell_type": "code",
   "execution_count": null,
   "id": "32fc03ee-9d93-4ce3-afc0-2a02d12e8c54",
   "metadata": {},
   "outputs": [],
   "source": [
    "#Q1"
   ]
  },
  {
   "cell_type": "code",
   "execution_count": 1,
   "id": "2ba68bc7-dfe9-4eb6-bdf2-f9d089a90f82",
   "metadata": {},
   "outputs": [],
   "source": [
    "# Statistics is a branch of mathematics that deals with the collection, analysis, interpretation, presentation,\n",
    "# and organization of data. It involves the study of methods for collecting, summarizing, and analyzing data to\n",
    "# extract meaningful information and draw conclusions. "
   ]
  },
  {
   "cell_type": "code",
   "execution_count": null,
   "id": "cb6059b2-33aa-4b7f-9e79-5c36b9f8db54",
   "metadata": {},
   "outputs": [],
   "source": []
  },
  {
   "cell_type": "code",
   "execution_count": null,
   "id": "af6e6a68-1d1e-4010-b536-c61d0347a864",
   "metadata": {},
   "outputs": [],
   "source": [
    "#Q2"
   ]
  },
  {
   "cell_type": "code",
   "execution_count": null,
   "id": "33fd1399-0794-4147-878f-86b0d34101de",
   "metadata": {},
   "outputs": [],
   "source": [
    "# Descriptive Statistics:\n",
    "# Descriptive statistics involves summarizing and describing the main features of a dataset.\n",
    "# It provides a way to organize, present, and analyze data in a meaningful manner"
   ]
  },
  {
   "cell_type": "code",
   "execution_count": 2,
   "id": "545b7d1a-f9b3-4ce1-b821-28223b6b1131",
   "metadata": {},
   "outputs": [],
   "source": [
    "# Inferential statistics involves making inferences and drawing conclusions about a population based on a sample of data.\n",
    "# It allows researchers to make generalizations and predictions based on the information gathered from a subset of the population"
   ]
  },
  {
   "cell_type": "code",
   "execution_count": null,
   "id": "05e419d4-09f0-45fc-bb8d-85c66543f98e",
   "metadata": {},
   "outputs": [],
   "source": []
  },
  {
   "cell_type": "code",
   "execution_count": null,
   "id": "8b4dbc24-4d79-43d6-aa67-c64956e7c463",
   "metadata": {},
   "outputs": [],
   "source": [
    "#Q3"
   ]
  },
  {
   "cell_type": "code",
   "execution_count": 1,
   "id": "b7a0ea54-daf3-46a0-afdb-cf4f1b7adefd",
   "metadata": {},
   "outputs": [],
   "source": [
    "# Quantitative data, also referred to as numerical data, consists of numerical values that represent quantities or measurements.\n",
    "# It is based on a numerical scale and allows for mathematical operations and calculations."
   ]
  },
  {
   "cell_type": "code",
   "execution_count": null,
   "id": "b2ac3ad3-148f-41b4-a694-2d7665472de7",
   "metadata": {},
   "outputs": [],
   "source": [
    "#  Quantitative data can be further divided into two subtypes:\n",
    "\n",
    "# a. Discrete Data: Discrete data represents values that are distinct and separate.\n",
    "# It consists of whole numbers or counts that cannot be subdivided. \n",
    "# Examples of discrete data include the number of students in a class, the number of cars in a parking lot,\n",
    "# or the number of goals scored in a soccer match.\n",
    "\n",
    "# b. Continuous Data: Continuous data represents values that can take on any numerical value within a certain range.\n",
    "# It is based on a continuous scale and allows for fractional or decimal values. Examples of continuous data include height, \n",
    "# weight, temperature, time, or age."
   ]
  },
  {
   "cell_type": "code",
   "execution_count": null,
   "id": "d7377412-64b4-4abe-bd0d-a198fa289b3a",
   "metadata": {},
   "outputs": [],
   "source": []
  },
  {
   "cell_type": "code",
   "execution_count": null,
   "id": "b8c4c1be-1a53-4f94-bcc3-7f822e6bde8f",
   "metadata": {},
   "outputs": [],
   "source": [
    "# Qualitative data, also known as categorical data, represents non-numerical values that describe characteristics,\n",
    "# attributes, or qualities. It consists of categories or groups that cannot be measured on a numerical scale."
   ]
  },
  {
   "cell_type": "code",
   "execution_count": null,
   "id": "f82d1a17-bb8d-4434-8c04-b01a885c9003",
   "metadata": {},
   "outputs": [],
   "source": [
    "# Nominal Data: Nominal data represents categories or labels without any inherent order.\n",
    "# The categories are distinct and do not have a numerical value. \n",
    "# Examples of nominal data include gender (male, female), ethnicity (Caucasian, African American, Asian), or eye color (blue, green, brown)."
   ]
  },
  {
   "cell_type": "code",
   "execution_count": null,
   "id": "284c7c1e-b445-430e-ac1e-d5255ef202db",
   "metadata": {},
   "outputs": [],
   "source": [
    "# Ordinal Data: Ordinal data represents categories or labels with a specific order or ranking.\n",
    "# The categories have a relative ranking, but the numerical difference between them may not be equal or meaningful.\n",
    "# Examples of ordinal data include survey responses with a Likert scale (e.g., strongly disagree, disagree, neutral,\n",
    "# agree, strongly agree) or educational levels (e.g., elementary, high school, bachelor's, master's)."
   ]
  },
  {
   "cell_type": "code",
   "execution_count": null,
   "id": "064fe4b1-ee01-4160-94ea-872cdf3202db",
   "metadata": {},
   "outputs": [],
   "source": []
  },
  {
   "cell_type": "code",
   "execution_count": null,
   "id": "d4fa024a-b87e-42e1-a3e9-5386a1c33beb",
   "metadata": {},
   "outputs": [],
   "source": [
    "#Q4"
   ]
  },
  {
   "cell_type": "code",
   "execution_count": null,
   "id": "b8b4ea99-4b08-410e-8d2d-0619859c0a47",
   "metadata": {},
   "outputs": [],
   "source": [
    "# (i) Grading in exam: A+, A, B+, B, C+, C, D, E\n",
    "# This dataset represents qualitative data as it consists of categories or labels representing different grades.\n",
    "# It falls under the subtype of ordinal data, where the categories have a specific order or ranking."
   ]
  },
  {
   "cell_type": "code",
   "execution_count": null,
   "id": "a089bcae-5061-4776-ac6f-17242ad8301c",
   "metadata": {},
   "outputs": [],
   "source": [
    "# (ii) Colour of mangoes: yellow, green, orange, red\n",
    "# This dataset represents qualitative data as it consists of categories or labels representing different colors of mangoes.\n",
    "# It falls under the subtype of nominal data, where the categories do not have a specific order or ranking."
   ]
  },
  {
   "cell_type": "code",
   "execution_count": null,
   "id": "625017cd-4473-40fd-aa1c-f5488606a426",
   "metadata": {},
   "outputs": [],
   "source": [
    "# (iii) Height data of a class: [178.9, 179, 179.5, 176, 177.2, 178.3, 175.8, ...]\n",
    "# This dataset represents quantitative data as it consists of numerical values representing heights of individuals. \n",
    "# It falls under the subtype of continuous data, as the measurements can take on any numerical value within a certain range."
   ]
  },
  {
   "cell_type": "code",
   "execution_count": null,
   "id": "e1734e07-1093-487a-9712-dda793162505",
   "metadata": {},
   "outputs": [],
   "source": [
    "# (iv) Number of mangoes exported by a farm: [500, 600, 478, 672, ...]\n",
    "# This dataset represents quantitative data as it consists of numerical values representing the number of mangoes exported.\n",
    "# It falls under the subtype of discrete data, as the values represent whole numbers or counts."
   ]
  },
  {
   "cell_type": "code",
   "execution_count": null,
   "id": "230e0b08-53b4-4525-8ce7-b3e95c9abe8e",
   "metadata": {},
   "outputs": [],
   "source": []
  },
  {
   "cell_type": "code",
   "execution_count": null,
   "id": "79ff4906-d059-4d4d-91ac-a80725628b8c",
   "metadata": {},
   "outputs": [],
   "source": [
    "#Q5"
   ]
  },
  {
   "cell_type": "code",
   "execution_count": null,
   "id": "761549f2-0654-4a2c-8fae-b596a17b4e95",
   "metadata": {},
   "outputs": [],
   "source": [
    "# Levels of measurement, also known as scales of measurement or data levels, refer to the different ways\n",
    "# in which variables can be measured and categorized. The levels of measurement determine the mathematical\n",
    "# operations that can be performed on the data and the types of statistical analyses that are appropriate for the variable."
   ]
  },
  {
   "cell_type": "code",
   "execution_count": null,
   "id": "779b746f-56bf-48c1-8d8c-f5efc2e9b08a",
   "metadata": {},
   "outputs": [],
   "source": [
    "# There are four commonly recognized levels of measurement:\n",
    "\n",
    "# Nominal Level:\n",
    "# At the nominal level, variables are characterized by categories or labels with no inherent order or numerical significance.\n",
    "# The categories are mutually exclusive and have no quantitative meaning. \n",
    "\n",
    "# Examples of variables at the nominal level include:\n",
    "# Gender (Male, Female)\n",
    "# Eye color (Blue, Brown, Green)\n",
    "\n",
    "# Ordinal Level:\n",
    "# At the ordinal level, variables have categories or labels with a specific order or ranking. \n",
    "# The categories possess a relative positioning, but the numerical difference between categories may not be equal or meaningful.\n",
    "\n",
    "# Examples of variables at the ordinal level include:\n",
    "# Education level (Elementary, High School, Bachelor's, Master's)\n",
    "# Likert scale responses (Strongly Disagree, Disagree, Neutral, Agree, Strongly Agree)\n",
    "\n",
    "# Interval Level:\n",
    "# At the interval level, variables have numerical values where the intervals between values are equal and meaningful.\n",
    "# The zero point is arbitrary and does not indicate the absence of a quantity. \n",
    "\n",
    "# Examples of variables at the interval level include:\n",
    "# Temperature measured in Celsius or Fahrenheit\n",
    "# Calendar dates\n",
    "\n",
    "# Ratio Level:\n",
    "# At the ratio level, variables have numerical values with equal intervals between them,\n",
    "# and there is a true zero point that represents the absence of the quantity. \n",
    "# All basic mathematical operations are applicable to ratio variables. Examples of variables at the ratio level include:\n",
    "# Height\n",
    "# Weight\n"
   ]
  },
  {
   "cell_type": "code",
   "execution_count": null,
   "id": "b9de6b4a-ce76-42ca-a9b0-55f45ea0c013",
   "metadata": {},
   "outputs": [],
   "source": []
  },
  {
   "cell_type": "code",
   "execution_count": null,
   "id": "b25c0d01-cb5e-45bb-9f6b-1d34fda6e7c6",
   "metadata": {},
   "outputs": [],
   "source": [
    "#Q6"
   ]
  },
  {
   "cell_type": "code",
   "execution_count": null,
   "id": "208c23c1-bf93-4b91-93e4-ac43bd98744b",
   "metadata": {},
   "outputs": [],
   "source": [
    "# Understanding the level of measurement is important when analyzing data because it determines the\n",
    "# appropriate statistical techniques, operations, and interpretations that can be applied to the data.\n",
    "# It ensures that the analysis is valid and meaningful, and helps avoid erroneous conclusions or misinterpretations."
   ]
  },
  {
   "cell_type": "code",
   "execution_count": null,
   "id": "315f7796-ce07-4544-a7c6-f2b5aeac70cd",
   "metadata": {},
   "outputs": [],
   "source": [
    "# Suppose we have a dataset consisting of students' grades in a class, \n",
    "# where the grades are represented by categories: A, B, C, D, and F.\n",
    "# The level of measurement for this variable is ordinal because the grades have a specific order or ranking.\n",
    "\n",
    "# If someone were to mistakenly treat these grades as numerical values and perform calculations such as \n",
    "# taking the mean grade, it would lead to misleading results. \n",
    "# Calculating the mean of ordinal data is not appropriate because the numerical difference between grades \n",
    "# may not be equal or meaningful. Treating the grades as numerical values would imply that, for example,\n",
    "# the average of grades A and C is B, which is not a valid interpretation."
   ]
  },
  {
   "cell_type": "code",
   "execution_count": null,
   "id": "23731cec-0390-4fdf-bb96-a4ed59d86683",
   "metadata": {},
   "outputs": [],
   "source": []
  },
  {
   "cell_type": "code",
   "execution_count": null,
   "id": "74affa66-3d76-4b47-8316-be028de1bfe9",
   "metadata": {},
   "outputs": [],
   "source": [
    "#Q7"
   ]
  },
  {
   "cell_type": "code",
   "execution_count": 3,
   "id": "2fb74751-8a93-4742-a37f-92290b58fd44",
   "metadata": {},
   "outputs": [],
   "source": [
    "# Nominal data and ordinal data are both types of categorical data, but they differ in terms of the level of measurement\n",
    "# and the characteristics of the categories they represent.\n",
    "\n",
    "# Nominal data represents categories or labels without any inherent order or ranking.\n",
    "# The categories in nominal data are mutually exclusive and have no quantitative or relative value. \n",
    "# Examples of nominal data include:\n",
    "# Gender (male, female)\n",
    "\n",
    "# In nominal data, the categories are simply different and cannot be ranked or compared numerically.\n",
    "# Each category is treated as a distinct entity, and mathematical operations such as addition, subtraction,\n",
    "# or multiplication are not meaningful. Nominal data can only be categorized, counted, or analyzed through non-parametric statistical tests."
   ]
  },
  {
   "cell_type": "code",
   "execution_count": null,
   "id": "c7bd6b90-e002-46d7-894e-8542fe6ac360",
   "metadata": {},
   "outputs": [],
   "source": [
    "# Ordinal data represents categories or labels with a specific order or ranking.\n",
    "# The categories in ordinal data have a relative positioning or rank, but the numerical\n",
    "# difference between categories may not be equal or meaningful. \n",
    "# Examples of ordinal data include:\n",
    "# Educational levels (elementary, high school, bachelor's, master's)"
   ]
  },
  {
   "cell_type": "code",
   "execution_count": null,
   "id": "28828de3-4e7e-42e2-a056-fef2531ec566",
   "metadata": {},
   "outputs": [],
   "source": [
    "# In ordinal data, the categories have an ordered sequence or hierarchy, allowing for ranking and comparison.\n",
    "# While the categories have a relative value, the magnitude of the differences between them may not be uniform or quantifiable.\n",
    "# Mathematical operations like addition or subtraction are not appropriate for ordinal data. However, non-parametric statistical\n",
    "# tests and measures like mode, median, or rank correlation can be used for analysis."
   ]
  },
  {
   "cell_type": "code",
   "execution_count": 4,
   "id": "c2f2f1dd-5018-41bd-af22-ea2dee47e811",
   "metadata": {},
   "outputs": [],
   "source": [
    "# the main difference between nominal and ordinal data lies in the presence or absence of an inherent order or ranking.\n",
    "# Nominal data consists of categories without a specific order, while ordinal data has categories with a specific order or rank. "
   ]
  },
  {
   "cell_type": "code",
   "execution_count": null,
   "id": "386e80b4-adbd-4ab1-a822-e3cdfc8d18b1",
   "metadata": {},
   "outputs": [],
   "source": []
  },
  {
   "cell_type": "code",
   "execution_count": null,
   "id": "aa2105af-c204-40cd-8bd7-cde968b142eb",
   "metadata": {},
   "outputs": [],
   "source": [
    "#Q8"
   ]
  },
  {
   "cell_type": "code",
   "execution_count": 5,
   "id": "2b39bd64-8560-4a21-9d17-fbd1569f6396",
   "metadata": {},
   "outputs": [],
   "source": [
    "# A common type of plot that can be used to display data in terms of range is a box plot, also known as a box-and-whisker plot.\n",
    "# A box plot provides a visual representation of the minimum, maximum, and quartiles (including the median) of a dataset,\n",
    "# allowing for a quick understanding of the range and distribution of the data."
   ]
  },
  {
   "cell_type": "code",
   "execution_count": null,
   "id": "4dfc6371-8f10-4f79-bdf3-005f109333c1",
   "metadata": {},
   "outputs": [],
   "source": []
  },
  {
   "cell_type": "code",
   "execution_count": null,
   "id": "eb2fe8d2-3907-4f77-8eb2-02b4a62b5bf7",
   "metadata": {},
   "outputs": [],
   "source": [
    "#Q9"
   ]
  },
  {
   "cell_type": "code",
   "execution_count": null,
   "id": "5bf23f31-a088-4967-89c8-68af33b14b2c",
   "metadata": {},
   "outputs": [],
   "source": [
    "# Descriptive statistics involves summarizing and describing the main features of a dataset. \n",
    "# It focuses on organizing, presenting, and analyzing data in a meaningful and concise manner.\n",
    "# Descriptive statistics provide insights into the characteristics, patterns, and trends within the \n",
    "# data without making any generalizations beyond the specific dataset.\n",
    "# It helps in understanding and summarizing the data in a way that is easily interpretable."
   ]
  },
  {
   "cell_type": "code",
   "execution_count": null,
   "id": "57b01776-321c-4dac-81e6-7bd41eefca98",
   "metadata": {},
   "outputs": [],
   "source": [
    "# Suppose you have a dataset of exam scores for a class of students. \n",
    "# Descriptive statistics can be used to calculate the mean, median, and standard deviation of the scores. \n",
    "# The mean provides the average score, the median gives the middle value, and the standard deviation indicates \n",
    "# the spread or variability of the scores. These descriptive measures provide a snapshot of the class's\n",
    "# performance and allow for comparison and understanding of the score distribution."
   ]
  },
  {
   "cell_type": "code",
   "execution_count": null,
   "id": "19a30433-73ef-44a6-b9ac-7f4f12ed1b78",
   "metadata": {},
   "outputs": [],
   "source": []
  },
  {
   "cell_type": "code",
   "execution_count": 6,
   "id": "b6a44ff2-0c0a-4ce1-adc9-e92904011840",
   "metadata": {},
   "outputs": [],
   "source": [
    "# Inferential statistics involves making inferences and drawing conclusions about a population based on a sample of data.\n",
    "# It extends beyond the specific dataset and aims to generalize the findings to a larger population.\n",
    "# Inferential statistics use probability theory and statistical techniques to analyze the sample data\n",
    "# and make predictions or test hypotheses about the population from which the sample was drawn."
   ]
  },
  {
   "cell_type": "code",
   "execution_count": null,
   "id": "5eec306b-e0a6-4c58-bce9-6b6f335c1c00",
   "metadata": {},
   "outputs": [],
   "source": [
    "# Imagine you want to estimate the average height of all adults in a city. \n",
    "# Instead of measuring the height of every adult, which would be impractical,\n",
    "# you take a random sample of 100 adults from different areas of the city and measure their heights. \n",
    "# Using inferential statistics, you can calculate the mean height of the sample and use it to make inferences\n",
    "# about the average height of all adults in the city."
   ]
  },
  {
   "cell_type": "code",
   "execution_count": null,
   "id": "74b51647-ceaa-466c-90fa-c08d5bdf148a",
   "metadata": {},
   "outputs": [],
   "source": []
  },
  {
   "cell_type": "code",
   "execution_count": null,
   "id": "7201f13f-3a76-4941-8fc4-021fed6cff54",
   "metadata": {},
   "outputs": [],
   "source": [
    "#Q10"
   ]
  },
  {
   "cell_type": "code",
   "execution_count": null,
   "id": "61282c92-ca74-43cd-8843-c12a454fb64c",
   "metadata": {},
   "outputs": [],
   "source": [
    "# Measures of Central Tendency:\n",
    "# Measures of central tendency provide a single value that represents the center or typical value of a dataset.\n",
    "# They help summarize the distribution of data by providing a central reference point.\n",
    "# Mean: The mean, or average, is calculated by summing all the values in a dataset and dividing by the total number of values. \n",
    "# It represents the arithmetic center of the data. The mean is sensitive to extreme values and is commonly used when the data \n",
    "# is approximately symmetric and not heavily skewed.\n",
    "\n",
    "# Median: The median is the middle value in a dataset when the values are arranged in ascending or descending order. \n",
    "# It divides the data into two equal halves, with 50% of the values falling below and 50% above. \n",
    "# The median is less affected by extreme values and is suitable when the data is skewed or contains outliers.\n",
    "\n",
    "# Mode: The mode represents the value or values that occur most frequently in a dataset. \n",
    "# It is applicable to both categorical and numerical data. The mode can help identify the most common category or value in the dataset.\n"
   ]
  },
  {
   "cell_type": "code",
   "execution_count": null,
   "id": "6aa48880-3b49-44e1-a3b9-f63b864cd720",
   "metadata": {},
   "outputs": [],
   "source": [
    "# Measures of Variability:\n",
    "# Measures of variability quantify the spread, dispersion, or variation of data points. \n",
    "# They provide information about how the data is distributed around the central tendency measures.\n",
    "# Range: The range is the difference between the maximum and minimum values in a dataset. \n",
    "# It provides a simple measure of the spread of data but can be influenced by outliers.\n",
    "\n",
    "# Variance: The variance measures the average squared deviation of each data point from the mean.\n",
    "# It quantifies the dispersion of data around the mean. A higher variance indicates greater variability in the dataset.\n",
    "\n",
    "# Standard Deviation: The standard deviation is the square root of the variance. \n",
    "# It measures the average deviation of data points from the mean. \n",
    "# The standard deviation is widely used as it represents the spread of data in the same units as the original data,\n",
    "# making it easier to interpret."
   ]
  }
 ],
 "metadata": {
  "kernelspec": {
   "display_name": "Python 3 (ipykernel)",
   "language": "python",
   "name": "python3"
  },
  "language_info": {
   "codemirror_mode": {
    "name": "ipython",
    "version": 3
   },
   "file_extension": ".py",
   "mimetype": "text/x-python",
   "name": "python",
   "nbconvert_exporter": "python",
   "pygments_lexer": "ipython3",
   "version": "3.10.8"
  }
 },
 "nbformat": 4,
 "nbformat_minor": 5
}
