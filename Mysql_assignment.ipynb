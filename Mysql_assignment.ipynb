{
 "cells": [
  {
   "cell_type": "code",
   "execution_count": 1,
   "id": "c27aaff5-aeb5-4a4a-9593-0eba477d0e75",
   "metadata": {},
   "outputs": [],
   "source": [
    "#Q1"
   ]
  },
  {
   "cell_type": "code",
   "execution_count": 2,
   "id": "8be5047e-69e6-4573-90b1-ada77f5e549b",
   "metadata": {},
   "outputs": [],
   "source": [
    "#A database is an organized collection of data stored and accessed electronically. \n",
    "#It is designed to efficiently manage and store large amounts of information in a \n",
    "#structured way, making it easy to retrieve, update, and analyze the data."
   ]
  },
  {
   "cell_type": "code",
   "execution_count": null,
   "id": "9d5aa09a-f7fe-4166-b031-26bbcb27f654",
   "metadata": {},
   "outputs": [],
   "source": [
    "#1."
   ]
  },
  {
   "cell_type": "code",
   "execution_count": 3,
   "id": "d064f6c3-45b1-470b-8cea-69e8afd58541",
   "metadata": {},
   "outputs": [],
   "source": [
    "#Difference between SQl and NOSQL"
   ]
  },
  {
   "cell_type": "code",
   "execution_count": 4,
   "id": "cd1d00f7-bbc7-4b4b-9137-bb60f73bda40",
   "metadata": {},
   "outputs": [],
   "source": [
    "# SQL databases are based on the relational data model, \n",
    "# where data is organized into tables with predefined \n",
    "# schemas. Tables have rows and columns, and relationships\n",
    "# between tables are established through keys."
   ]
  },
  {
   "cell_type": "code",
   "execution_count": 5,
   "id": "90da9922-5eae-43bd-ad84-0fdee0b1809a",
   "metadata": {},
   "outputs": [],
   "source": [
    "# NoSQL databases use various data models, including key-value, document,\n",
    "# columnar, and graph models. These models provide flexibility in storing and representing data."
   ]
  },
  {
   "cell_type": "code",
   "execution_count": null,
   "id": "e426da35-4041-41ef-9d5d-2d68c4cd4c32",
   "metadata": {},
   "outputs": [],
   "source": [
    "#2."
   ]
  },
  {
   "cell_type": "code",
   "execution_count": 6,
   "id": "34a38ba4-6fba-40d6-90dc-32a42eddb13d",
   "metadata": {},
   "outputs": [],
   "source": [
    "#SQL databases enforce a schema, which defines the structure and \n",
    "# constraints of the data. The schema must be defined before data can be inserted."
   ]
  },
  {
   "cell_type": "code",
   "execution_count": null,
   "id": "397c32fc-6f90-4bb5-805b-a00cd4de20a1",
   "metadata": {},
   "outputs": [],
   "source": [
    "#NoSQL databases are schema-less, meaning the data does not have a predefined \n",
    "# structure or schema. Each record can have a different structure, allowing for more dynamic and agile data storage."
   ]
  },
  {
   "cell_type": "code",
   "execution_count": null,
   "id": "039551c7-2a46-4941-bb77-ea6a836e3035",
   "metadata": {},
   "outputs": [],
   "source": [
    "#3."
   ]
  },
  {
   "cell_type": "code",
   "execution_count": null,
   "id": "34ffcaf5-38f8-4220-8f29-0b9db81ca3e7",
   "metadata": {},
   "outputs": [],
   "source": [
    "#SQL databases generally excel in vertical scalability, which means they can \n",
    "#handle increasing workload by adding more resources to a single server."
   ]
  },
  {
   "cell_type": "code",
   "execution_count": null,
   "id": "142a015f-adf0-4b27-9ff4-3b245848ed39",
   "metadata": {},
   "outputs": [],
   "source": [
    "# NoSQL databases are designed for horizontal scalability, which means they can\n",
    "# handle increasing workload by distributing data across multiple servers or clusters."
   ]
  },
  {
   "cell_type": "code",
   "execution_count": null,
   "id": "b111da5e-bfa7-4190-9943-7b1807756312",
   "metadata": {},
   "outputs": [],
   "source": []
  },
  {
   "cell_type": "code",
   "execution_count": null,
   "id": "aa437ce1-389a-4dda-9ea0-12fd251ae0a3",
   "metadata": {},
   "outputs": [],
   "source": [
    "#Q2"
   ]
  },
  {
   "cell_type": "code",
   "execution_count": 1,
   "id": "441891d4-04a0-4ec3-8b46-6a836c7997f4",
   "metadata": {},
   "outputs": [],
   "source": [
    "# DDL stands for Data Definition Language. It is a subset of SQL (Structured Query Language)\n",
    "# that is used to define and manage the structure of a database. DDL statements are used to\n",
    "# create, modify, and delete database objects such as tables, indexes, views, and constraints."
   ]
  },
  {
   "cell_type": "code",
   "execution_count": 2,
   "id": "ef6398e4-59cd-4d1c-82e3-fd5b6084b9be",
   "metadata": {},
   "outputs": [],
   "source": [
    "# CREATE: Used to create database objects such as tables, indexes, views, and schemas"
   ]
  },
  {
   "cell_type": "code",
   "execution_count": null,
   "id": "ea8dca09-3bdb-477c-82e7-f2258c80fdc3",
   "metadata": {},
   "outputs": [],
   "source": [
    "# CREATE TABLE employees (\n",
    "#   id INT,\n",
    "#   name VARCHAR(50),\n",
    "#   age INT\n",
    "# );"
   ]
  },
  {
   "cell_type": "code",
   "execution_count": 3,
   "id": "40e98c31-9e75-43d2-99bf-9cdd1f7f0569",
   "metadata": {},
   "outputs": [],
   "source": [
    "# ALTER: Used to modify the structure of an existing database object. \n",
    "# It can be used to add, modify, or drop columns, constraints, or indexes."
   ]
  },
  {
   "cell_type": "code",
   "execution_count": 4,
   "id": "5b8d8082-cb58-4770-9851-3dd617963f5c",
   "metadata": {},
   "outputs": [],
   "source": [
    "# ALTER TABLE employees\n",
    "# ADD COLUMN salary DECIMAL(10,2);"
   ]
  },
  {
   "cell_type": "code",
   "execution_count": null,
   "id": "fdd4ad0c-0ffb-4984-afa4-90a584d3775a",
   "metadata": {},
   "outputs": [],
   "source": [
    "# DROP: Used to remove a database object from the database."
   ]
  },
  {
   "cell_type": "code",
   "execution_count": null,
   "id": "d553ea6f-f6da-4172-b71b-31e0b9044117",
   "metadata": {},
   "outputs": [],
   "source": [
    "# DROP TABLE employees;"
   ]
  },
  {
   "cell_type": "code",
   "execution_count": 5,
   "id": "c2dfb192-8139-42db-9784-5c2168f1ba89",
   "metadata": {},
   "outputs": [],
   "source": [
    "# TRUNCATE: Used to remove all data from a table, while keeping the table structure intact. "
   ]
  },
  {
   "cell_type": "code",
   "execution_count": null,
   "id": "bd83f570-6900-4deb-8c3a-f95c466d331c",
   "metadata": {},
   "outputs": [],
   "source": [
    "# TRUNCATE TABLE employees;"
   ]
  },
  {
   "cell_type": "code",
   "execution_count": null,
   "id": "0bfe5e36-5a73-4f9b-a679-87f569dede29",
   "metadata": {},
   "outputs": [],
   "source": []
  },
  {
   "cell_type": "code",
   "execution_count": null,
   "id": "efa20b22-f2db-4d7d-8809-c9cadd7bf994",
   "metadata": {},
   "outputs": [],
   "source": [
    "#Q3"
   ]
  },
  {
   "cell_type": "code",
   "execution_count": 1,
   "id": "43a328a0-5187-4878-837e-608dc6466b21",
   "metadata": {},
   "outputs": [],
   "source": [
    "# DML stands for Data Manipulation Language. It is a subset of SQL (Structured Query Language)\n",
    "# that is used to retrieve, insert, update, and delete data within a database. DML statements \n",
    "# allow users to interact with the data stored in the database and perform various operations on it."
   ]
  },
  {
   "cell_type": "code",
   "execution_count": 2,
   "id": "a9081e1a-e3d5-433b-94d2-152ae9d2cab4",
   "metadata": {},
   "outputs": [],
   "source": [
    "# INSERT: Used to add new records or rows into a table. The INSERT statement \n",
    "# specifies the table and the values to be inserted into the respective columns. "
   ]
  },
  {
   "cell_type": "code",
   "execution_count": null,
   "id": "c20439de-1a2f-4c08-96f3-032fc3a9328d",
   "metadata": {},
   "outputs": [],
   "source": [
    "# INSERT INTO table (column1, column2)\n",
    "# VALUES (value1, value2);"
   ]
  },
  {
   "cell_type": "code",
   "execution_count": null,
   "id": "08f96549-f8e9-46fd-93cf-482e57f4eb8e",
   "metadata": {},
   "outputs": [],
   "source": [
    "#UPDATE: Used to modify existing data in a table. The UPDATE statement allows you to\n",
    "#change the values of one or more columns based on specific conditions."
   ]
  },
  {
   "cell_type": "code",
   "execution_count": 4,
   "id": "c254db2c-cee3-42b1-8385-68e16d7cb457",
   "metadata": {},
   "outputs": [],
   "source": [
    "# UPDATE table\n",
    "# SET column1 = value1, column2 = value2\n",
    "# WHERE condition;"
   ]
  },
  {
   "cell_type": "code",
   "execution_count": null,
   "id": "98f84b5f-3866-4bbf-9870-c1db8745bcca",
   "metadata": {},
   "outputs": [],
   "source": [
    "#DELETE: Used to remove one or more records or rows from a table. The DELETE statement \n",
    "#specifies the table and the condition to identify the records to be deleted."
   ]
  },
  {
   "cell_type": "code",
   "execution_count": null,
   "id": "993bef6c-a6d0-40f9-b7c4-9a6b460b3d7f",
   "metadata": {},
   "outputs": [],
   "source": [
    "# DELETE FROM table\n",
    "# WHERE condition;"
   ]
  },
  {
   "cell_type": "code",
   "execution_count": null,
   "id": "5f649141-e040-4c9f-9f8f-a4be910195c9",
   "metadata": {},
   "outputs": [],
   "source": []
  },
  {
   "cell_type": "code",
   "execution_count": null,
   "id": "81a2e1cc-90e4-4c0a-baa2-bbd9273070c8",
   "metadata": {},
   "outputs": [],
   "source": [
    "#Q4"
   ]
  },
  {
   "cell_type": "code",
   "execution_count": 5,
   "id": "bc0daf15-e71c-4520-b48c-58f6b330fb47",
   "metadata": {},
   "outputs": [],
   "source": [
    "# DQL stands for Data Query Language. It is a subset of SQL (Structured Query Language) \n",
    "# that is used specifically for querying and retrieving data from a database. DQL statements\n",
    "# are focused on retrieving information and do not include data manipulation operations like \n",
    "# insertion, updating, or deletion."
   ]
  },
  {
   "cell_type": "code",
   "execution_count": 6,
   "id": "3cc26a85-21d4-4fa1-a2af-a5c2cde85ea4",
   "metadata": {},
   "outputs": [],
   "source": [
    "#The SELECT statement is used to construct queries that fetch data from one or more tables in the database."
   ]
  },
  {
   "cell_type": "code",
   "execution_count": 7,
   "id": "b58f7492-ccfc-4e6b-b5dc-b6f133c424d2",
   "metadata": {},
   "outputs": [],
   "source": [
    "# SELECT column1, column2\n",
    "# FROM table\n",
    "# WHERE condition;\n",
    "\n",
    "# SELECT column1, column2\n",
    "# FROM table\n",
    "# ORDER BY column1 ASC;"
   ]
  },
  {
   "cell_type": "code",
   "execution_count": null,
   "id": "e0e3ef73-95b7-4864-9578-814ed8bf6591",
   "metadata": {},
   "outputs": [],
   "source": []
  },
  {
   "cell_type": "code",
   "execution_count": null,
   "id": "1534a62d-35ef-4a47-9a7f-2ac941e0491a",
   "metadata": {},
   "outputs": [],
   "source": [
    "#Q5"
   ]
  },
  {
   "cell_type": "code",
   "execution_count": 8,
   "id": "f85db3ce-1d78-4d89-aafc-0e7529ab5f9e",
   "metadata": {},
   "outputs": [],
   "source": [
    "#A primary key is a column or a combination of columns that uniquely identifies \n",
    "#each row or record in a table. It serves as a unique identifier for each entry\n",
    "#in the table and ensures that there are no duplicate values for the primary key column(s)."
   ]
  },
  {
   "cell_type": "code",
   "execution_count": 9,
   "id": "9a955db6-a749-4909-a115-6ebdafeb1833",
   "metadata": {},
   "outputs": [],
   "source": [
    "# A foreign key is a column or a combination of columns in one table that refers \n",
    "# to the primary key column(s) of another table. It establishes a relationship \n",
    "# between two tables, known as a parent-child relationship or a referencing-referenced relationship."
   ]
  },
  {
   "cell_type": "code",
   "execution_count": null,
   "id": "cc355361-908a-4842-ab18-a6006f3ad4b8",
   "metadata": {},
   "outputs": [],
   "source": []
  },
  {
   "cell_type": "code",
   "execution_count": null,
   "id": "118790cc-ab07-4afd-880a-edb2a5e74ac8",
   "metadata": {},
   "outputs": [],
   "source": [
    "#Q6"
   ]
  },
  {
   "cell_type": "code",
   "execution_count": null,
   "id": "1c13e5f9-3129-46c1-916f-800e460bae39",
   "metadata": {},
   "outputs": [],
   "source": [
    "pip install mysql-connector-python\n",
    "import mysql.connector\n",
    "\n",
    "# Create a connection object\n",
    "cnx = mysql.connector.connect(\n",
    "    host=\"your_host\",\n",
    "    user=\"your_username\",\n",
    "    password=\"your_password\",\n",
    "    database=\"your_database\"\n",
    ")\n",
    "\n",
    "if cnx.is_connected():\n",
    "    print(\"Connected to MySQL database\")\n",
    "\n",
    "# Perform database operations...\n",
    "\n",
    "# Close the connection\n",
    "cnx.close()\n"
   ]
  },
  {
   "cell_type": "code",
   "execution_count": null,
   "id": "b3d6feda-bbee-4400-82d1-a80c9e4872e5",
   "metadata": {},
   "outputs": [],
   "source": [
    "#The cursor() method is used to create a cursor object associated with\n",
    "#a database connection. The cursor serves as a control structure that \n",
    "#allows you to execute SQL statements and fetch results from the database. \n",
    "#The cursor acts as a pointer or iterator that traverses through the rows returned by a query."
   ]
  },
  {
   "cell_type": "code",
   "execution_count": null,
   "id": "c232c316-4d4a-4939-b26c-d12d18d6693b",
   "metadata": {},
   "outputs": [],
   "source": [
    "import mysql.connector\n",
    "\n",
    "# Establish a connection\n",
    "cnx = mysql.connector.connect(\n",
    "    host=\"your_host\",\n",
    "    user=\"your_username\",\n",
    "    password=\"your_password\",\n",
    "    database=\"your_database\"\n",
    ")\n",
    "\n",
    "# Create a cursor object\n",
    "cursor = cnx.cursor()\n",
    "\n",
    "# Perform database operations using the cursor...\n",
    "\n",
    "# Close the cursor and connection\n",
    "cursor.close()\n",
    "cnx.close()"
   ]
  },
  {
   "cell_type": "code",
   "execution_count": null,
   "id": "4421da09-63f9-4a6b-b7f4-e6191b9bffc1",
   "metadata": {},
   "outputs": [],
   "source": [
    "# The execute() method is used to execute an SQL statement or query using the cursor object.\n",
    "# It takes the SQL statement as a parameter and performs the operation on the database."
   ]
  },
  {
   "cell_type": "code",
   "execution_count": null,
   "id": "605b8795-cc41-4991-a58f-76ead78de7f4",
   "metadata": {},
   "outputs": [],
   "source": [
    " cursor.execute(\"SELECT * FROM your_table\")"
   ]
  },
  {
   "cell_type": "code",
   "execution_count": null,
   "id": "1dc06552-23b1-484b-b051-c073879c86f4",
   "metadata": {},
   "outputs": [],
   "source": [
    "query = \"SELECT * FROM your_table WHERE id = %s\"\n",
    "cursor.execute(query, (1,))"
   ]
  },
  {
   "cell_type": "code",
   "execution_count": null,
   "id": "85907aba-b024-40e1-bed1-9d551cb6fb18",
   "metadata": {},
   "outputs": [],
   "source": []
  },
  {
   "cell_type": "code",
   "execution_count": null,
   "id": "ef7c0134-3433-4c62-a4ce-a22d12ce140d",
   "metadata": {},
   "outputs": [],
   "source": [
    "\n",
    "FROM: The FROM clause specifies the tables or views from which the data will be retrieved.\n",
    "\n",
    "JOIN: If there are any JOIN clauses in the query, they are executed next. JOINs combine rows from multiple tables based on specified conditions.\n",
    "\n",
    "WHERE: The WHERE clause is used to filter the rows based on specific conditions. It is applied after the JOIN clauses and narrows down the result set.\n",
    "\n",
    "GROUP BY: If there is a GROUP BY clause, it is executed next. The GROUP BY clause groups the result set based on specified columns.\n",
    "\n",
    "HAVING: If there is a HAVING clause, it is applied after the GROUP BY clause. The HAVING clause filters the grouped rows based on conditions.\n",
    "\n",
    "SELECT: The SELECT clause determines the columns to be included in the result set. It is executed after the previous clauses have been applied.\n",
    "\n",
    "DISTINCT: If the DISTINCT keyword is used, it eliminates duplicate rows from the result set after the SELECT clause is executed.\n",
    "\n",
    "ORDER BY: The ORDER BY clause is used to sort the result set based on specified columns. It is executed after all previous clauses have been applied.\n",
    "\n",
    "LIMIT/OFFSET: If the LIMIT and OFFSET (or equivalent) keywords are used, they determine the number of rows to be retrieved and the starting position for retrieval. These clauses are executed after all previous clauses have been applied."
   ]
  }
 ],
 "metadata": {
  "kernelspec": {
   "display_name": "Python 3 (ipykernel)",
   "language": "python",
   "name": "python3"
  },
  "language_info": {
   "codemirror_mode": {
    "name": "ipython",
    "version": 3
   },
   "file_extension": ".py",
   "mimetype": "text/x-python",
   "name": "python",
   "nbconvert_exporter": "python",
   "pygments_lexer": "ipython3",
   "version": "3.10.8"
  }
 },
 "nbformat": 4,
 "nbformat_minor": 5
}
