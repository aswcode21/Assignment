{
 "cells": [
  {
   "cell_type": "code",
   "execution_count": 1,
   "id": "d1030a3b-05d0-4e08-884e-ed38e20ef972",
   "metadata": {},
   "outputs": [],
   "source": [
    "#Q1 What is the difference between a t-test and a z-test? Provide an example scenario where you would use each type of test."
   ]
  },
  {
   "cell_type": "code",
   "execution_count": null,
   "id": "04e25aac-e39f-44f5-9b58-b58df29cd9e1",
   "metadata": {},
   "outputs": [],
   "source": [
    "# T-Test:\n",
    "# A t-test is used when you are comparing the means of two groups and you don't know the population standard deviation. \n",
    "# T-tests are particularly suitable for small sample sizes. \n",
    "#There are different types of t-tests: one-sample t-test, independent two-sample t-test, and paired two-sample t-test.\n",
    "\n",
    "# Suppose you are testing a new drug's effectiveness in reducing blood pressure. You have a sample of 30 patients, \n",
    "# and you want to compare their average reduction in blood pressure to a known population mean. \n",
    "# Since you don't know the population standard deviation, you would use a one-sample t-test to determine \n",
    "# if the observed reduction in blood pressure is significantly different from the known population mean."
   ]
  },
  {
   "cell_type": "code",
   "execution_count": null,
   "id": "71131969-e4c1-454e-ac3c-5740b77da312",
   "metadata": {},
   "outputs": [],
   "source": [
    "# Z-Test:\n",
    "# A z-test is used when you are comparing means and you have a large sample size, or when you have complete\n",
    "# information about the population (including its standard deviation). The z-test assumes that the population standard deviation is known.\n",
    "\n",
    "# Imagine you're analyzing the weights of a large population of apples. You have data on 1000 apples, and you want\n",
    "# to test whether a new fertilization method increases the average weight of apples compared to the population mean \n",
    "# weight (which you know from historical data). Since you have a large sample and you know the population standard deviation,\n",
    "# you can use a z-test to determine if the mean weight of apples from the new fertilization method is significantly different\n",
    "# from the known population mean weight."
   ]
  },
  {
   "cell_type": "code",
   "execution_count": null,
   "id": "b2cf1aac-3e1f-4808-a71c-8a862c9a762a",
   "metadata": {},
   "outputs": [],
   "source": []
  },
  {
   "cell_type": "code",
   "execution_count": null,
   "id": "2c7637ce-ae4d-494c-8c2a-04e9ca711e91",
   "metadata": {},
   "outputs": [],
   "source": [
    "#Q2: Differentiate between one-tailed and two-tailed tests."
   ]
  },
  {
   "cell_type": "code",
   "execution_count": null,
   "id": "ccbefe85-134a-4be4-bfa1-9361deef5adf",
   "metadata": {},
   "outputs": [],
   "source": [
    "# One-Tailed Test:\n",
    "# In a one-tailed test, the null hypothesis (H0) is tested against an alternative hypothesis (Ha) in a specific direction. \n",
    "# This means you are interested in whether the sample data is significantly different from the population parameter in\n",
    "# only one particular direction (either greater than or less than), but not both. One-tailed tests are typically used \n",
    "# when there is a specific hypothesis about the direction of the effect.\n",
    "\n",
    "# Example:\n",
    "# Suppose a company claims that their new energy drink increases reaction times in athletes. \n",
    "# You design an experiment to test this claim. Your hypotheses would be:\n",
    "\n",
    "# Null Hypothesis (H0): The energy drink has no effect on reaction times.\n",
    "# Alternative Hypothesis (Ha): The energy drink increases reaction times.\n",
    "# This is a one-tailed test because you are only interested in detecting an increase in reaction times due to the energy drink."
   ]
  },
  {
   "cell_type": "code",
   "execution_count": null,
   "id": "f812ac70-2f29-48af-83fd-6602182ce96c",
   "metadata": {},
   "outputs": [],
   "source": [
    "# Two-Tailed Test:\n",
    "# In a two-tailed test, the null hypothesis (H0) is tested against an alternative hypothesis (Ha) in both directions. \n",
    "# This means you are interested in whether the sample data is significantly different from the population parameter \n",
    "# in either direction (greater than or less than), indicating a potential effect regardless of the direction. \n",
    "# Two-tailed tests are typically used when you want to detect any significant difference without a specific directional hypothesis.\n",
    "\n",
    "# Example:\n",
    "# Suppose you are testing whether a new weight loss program is effective. Your hypotheses would be:\n",
    "\n",
    "# Null Hypothesis (H0): The weight loss program has no effect on weight.\n",
    "# Alternative Hypothesis (Ha): The weight loss program has an effect on weight (either an increase or a decrease)."
   ]
  },
  {
   "cell_type": "code",
   "execution_count": null,
   "id": "8ad37036-2239-45c4-a290-0c878cc4c1e1",
   "metadata": {},
   "outputs": [],
   "source": []
  },
  {
   "cell_type": "code",
   "execution_count": null,
   "id": "44697b5b-b476-45d3-92dd-8545edd1d788",
   "metadata": {},
   "outputs": [],
   "source": [
    "# Q3: Explain the concept of Type 1 and Type 2 errors in hypothesis testing. Provide an example scenario for\n",
    "# each type of error."
   ]
  },
  {
   "cell_type": "code",
   "execution_count": null,
   "id": "485aea23-07ca-43fb-b8a3-5e1ea382d6b2",
   "metadata": {},
   "outputs": [],
   "source": [
    "# A Type 1 error occurs when you reject a null hypothesis that is actually true.\n",
    "# In other words, you conclude that there is a significant effect or difference when, in reality,\n",
    "# there is no such effect or difference. The probability of committing a Type 1 error is denoted by the \n",
    "# symbol α (alpha) and is also known as the significance level of the test.\n",
    "\n",
    "# Example\n",
    "# Imagine a pharmaceutical company is testing a new drug to reduce cholesterol levels.\n",
    "# The null hypothesis (H0) is that the drug has no effect on cholesterol levels. \n",
    "# A Type 1 error would occur if the company incorrectly concludes that the drug is effective (rejects H0)\n",
    "# when, in fact, the drug has no effect on cholesterol levels."
   ]
  },
  {
   "cell_type": "code",
   "execution_count": null,
   "id": "e4aae2b1-31a4-4cb3-bf99-341c45b08769",
   "metadata": {},
   "outputs": [],
   "source": [
    "# A Type 2 error occurs when you fail to reject a null hypothesis that is actually false.\n",
    "# In other words, you conclude that there is no significant effect or difference when, in reality, there is a true effect or difference. \n",
    "# The probability of committing a Type 2 error is denoted by the symbol β (beta).\n",
    "\n",
    "#Example\n",
    "# Continuing with the pharmaceutical example, suppose the drug actually does have a significant effect on cholesterol levels,\n",
    "# but the study fails to detect this effect. A Type 2 error would occur if the study fails to reject the null hypothesis \n",
    "# (fails to detect the effect) even though the drug does have a real impact on cholesterol levels."
   ]
  },
  {
   "cell_type": "code",
   "execution_count": null,
   "id": "185a19e9-a201-4291-819b-ec5e250dfe66",
   "metadata": {},
   "outputs": [],
   "source": []
  },
  {
   "cell_type": "code",
   "execution_count": null,
   "id": "4b42d254-5950-456b-bc5b-c3596d832c4b",
   "metadata": {},
   "outputs": [],
   "source": [
    "# Q4: Explain Bayes's theorem with an example."
   ]
  },
  {
   "cell_type": "code",
   "execution_count": null,
   "id": "732bd702-08c2-4818-8742-8300450e9680",
   "metadata": {},
   "outputs": [],
   "source": [
    "# Bayes's theorem is a fundamental concept in probability theory and statistics that describes how to update the\n",
    "# probability of a hypothesis based on new evidence or information. It provides a way to combine prior knowledge\n",
    "# (prior probabilities) with new data (likelihood) to obtain a revised probability (posterior probability).\n",
    "\n",
    "# P(A/B)=(P(B/A).P(A))/P(B)\n",
    "\n",
    "# Let's illustrate Bayes's theorem with a medical diagnosis example. Suppose you are a doctor and you want to\n",
    "# determine the probability that a patient has a certain disease given the results of a diagnostic test.\n",
    "\n",
    "# Events:\n",
    "\n",
    "# A: The patient has the disease.\n",
    "# B: The test result is positive for the disease.\n",
    "\n",
    "# P(A):The prior probability that a randomly selected patient has the disease (prior knowledge).\n",
    "#P(B/A):The probability that the test is positive given that the patient has the disease (sensitivity of the test).\n",
    "#P'(A): The prior probability that a randomly selected patient does not have the disease.\n",
    "#P'(B/A): The probability that the test is positive given that the patient does not have the disease (false positive rate).\n",
    "\n",
    "# Let's assume:\n",
    "# P(A)=0.01 (1% of the population has the disease).\n",
    "#P(B/A)=0.95 (95% sensitivity, the test correctly identifies 95% of those with the disease).\n",
    "#P'(A)=0.99 (99% of the population does not have the disease).\n",
    "#P'(B/A)=0.05 (5% false positive rate, the test produces a positive result for 5% of healthy individuals).\n",
    "\n",
    "# P(A/B)=(P(B/A).P(A))/P(B)\n",
    "\n",
    "# First calculate P(B):\n",
    "# P(B)=P(B/A).P(A) +  P'(A).P'(B/A)\n",
    "#     =(0.95 *0.01)+(0.05*0.99)=0.0494\n",
    "\n",
    "# P(A/B)=(0.095*0.01)/0.0494=0.193\n",
    "\n"
   ]
  },
  {
   "cell_type": "code",
   "execution_count": null,
   "id": "eafbf7d9-b97a-4588-a6e0-4faee3d8a1c0",
   "metadata": {},
   "outputs": [],
   "source": []
  },
  {
   "cell_type": "code",
   "execution_count": null,
   "id": "6f534347-c5fe-422f-8407-7e558e68216c",
   "metadata": {},
   "outputs": [],
   "source": [
    "# Q5: What is a confidence interval? How to calculate the confidence interval, explain with an example."
   ]
  },
  {
   "cell_type": "code",
   "execution_count": null,
   "id": "8e6e2aab-5d96-4976-850c-c001e782bbee",
   "metadata": {},
   "outputs": [],
   "source": [
    "# A confidence interval is a range of values that is used to estimate the true value of a population parameter,\n",
    "# such as a population mean or proportion, based on a sample from that population. It provides a measure of the \n",
    "# uncertainty associated with the sample estimate.\n",
    "#  For example, a 95% confidence interval for a population mean means that if we were to take many samples and\n",
    "# calculate a confidence interval for each sample, we would expect that about 95% of those intervals would contain the true population mean.\n",
    "\n",
    "\n",
    "# The formula for calculating a confidence interval for a population mean (μ) based on a sample is:\n",
    "\n",
    "# Confidence Interval=Sample Mean±Margin of Error\n",
    "# where\n",
    "# The Sample Mean is the mean of the sample data.\n",
    "# Margin of Error=Critical Value*(Sample Standard Deviation/sqaure root(sample size))"
   ]
  },
  {
   "cell_type": "code",
   "execution_count": null,
   "id": "aa4ca35e-b8f8-40f0-8641-f66fd5a75c42",
   "metadata": {},
   "outputs": [],
   "source": [
    "# Let's say you want to estimate the average time people spend on social media per day. \n",
    "# You collect a random sample of 100 people and find that the sample mean time spent on social media is 2.5 hours, \n",
    "# and the sample standard deviation is 0.8 hours. You want to calculate a 95% confidence interval for the population mean time spent.\n",
    "\n",
    "# Find the critical value: For a 95% confidence interval using a normal distribution, the critical value is approximately 1.96.\n",
    "\n",
    "# Calculate the margin of error:\n",
    "# Margin of Error=1.96*(0.8/square root(100))=0.1568\n",
    "# Calculate the confidence interval:\n",
    "# Lower Limit=Sample Mean−Margin of Error=2.5−0.1568=2.3432\n",
    "# Upper Limit=Sample Mean+Margin of Error=2.5+0.1568=2.6568\n",
    "# So, the 95% confidence interval for the population mean time spent on social media is approximately 2.3432 hours to 2.6568 hours."
   ]
  },
  {
   "cell_type": "code",
   "execution_count": null,
   "id": "aa601f83-74d0-4661-99ff-c3cb2dd54464",
   "metadata": {},
   "outputs": [],
   "source": []
  },
  {
   "cell_type": "code",
   "execution_count": null,
   "id": "645e6f47-cbc2-4b0c-a5d0-a8b72c622dad",
   "metadata": {},
   "outputs": [],
   "source": [
    "# Q6. Use Bayes' Theorem to calculate the probability of an event occurring given prior knowledge of the\n",
    "# event's probability and new evidence. Provide a sample problem and solution."
   ]
  },
  {
   "cell_type": "code",
   "execution_count": null,
   "id": "7f7b1d94-5f09-419a-aea1-bef574f022c4",
   "metadata": {},
   "outputs": [],
   "source": [
    "# Suppose we have a medical test for a certain disease. The test is known to have a false positive rate of 10%,\n",
    "# meaning that 10% of the time, it incorrectly indicates a positive result for a healthy person. \n",
    "# The test also has a false negative rate of 5%, meaning that 5% of the time, it incorrectly indicates a negative \n",
    "# result for a person who actually has the disease. We also know that the overall prevalence of the disease in the population is 2%."
   ]
  },
  {
   "cell_type": "code",
   "execution_count": null,
   "id": "c13d94ab-fabb-4816-92d8-2056e72aea08",
   "metadata": {},
   "outputs": [],
   "source": [
    "# Let's define the events:\n",
    "\n",
    "# Event A: The person has the disease.\n",
    "# Event B: The person tests positive.\n",
    "# We are asked to find P(A/B), the probability that the person has the disease given that they tested positive.\n",
    "# P(A/B)=(P(B/A)*P(A))/P(B)\n",
    "# P(B/A)= This is the probability of testing positive given that the person has the disease. \n",
    "# Since the false negative rate is 5%, the true positive rate is 1−0.05=0.95.\n",
    "# P(A):This is the prior probability of having the disease, which is 2% or 0.02.\n",
    "#P(B):This is the probability of testing positive, which can be calculated using the law of total probability:\n",
    "\n",
    "# P(A/B)=(0.095-0.02)/(0.95-0.02+0.10*(1-0.02))\n",
    "# P(A/B)=0.161\n",
    "# So, the probability that a person who tests positive actually has the disease is approximately 16.1%."
   ]
  },
  {
   "cell_type": "code",
   "execution_count": null,
   "id": "cc36ddf7-2c3f-41cd-a3ce-58b700a63fc3",
   "metadata": {},
   "outputs": [],
   "source": []
  },
  {
   "cell_type": "code",
   "execution_count": null,
   "id": "c4f5ec67-7135-47cc-baee-a56484ef5dbe",
   "metadata": {},
   "outputs": [],
   "source": [
    "# Q7. Calculate the 95% confidence interval for a sample of data with a mean of 50 and a standard deviation\n",
    "# of 5. Interpret the results."
   ]
  },
  {
   "cell_type": "code",
   "execution_count": null,
   "id": "0f28049f-bda5-43a6-af2e-a63a4e4cc6b3",
   "metadata": {},
   "outputs": [],
   "source": [
    "# Confidence Interval=Sample Mean±Margin of Error\n",
    "# The margin of error is determined by the critical value (z-score) for the desired confidence level (95% in this case)\n",
    "# and the standard error of the sample mean.\n",
    "# Margin of Error=Critical Value*(Standard Deviation)/square_root(Sample_size)\n",
    "# For a 95% confidence interval, the critical value is approximately 1.96 \n",
    "# (assuming a large enough sample size for the z-distribution to apply).\n",
    "\n",
    "# Given the information:\n",
    "\n",
    "# Sample Mean= 50\n",
    "# Standard Deviation= 5\n",
    "# Sample Size= Let's assume a reasonable sample size, say, 100.\n",
    "# Calculating the standard error(SE):\n",
    "# SE= standard deviation/square_root(sample size)=(5/square_root(100))=0.5\n",
    "\n",
    "# Calculating the margin of error:\n",
    "\n",
    "# Margin of Error=1.96×0.5=0.98\n",
    "# Lower Bound=Sample mean−Margin of Error=50−0.98=49.02\n",
    "# Upper Bound=Sample mean+Margin of Error=50+0.98=50.98\n",
    "# So, the 95% confidence interval for the population mean based on this sample is approximately \n",
    "# (49.02,50.98)\n",
    "\n",
    "# The 95% confidence interval means that if we were to take many different samples from the same\n",
    "# population and calculate the confidence interval for each sample, about 95% of those intervals would contain the true population mean.\n",
    "\n",
    "# In this case, we are 95% confident that the true population mean lies within the interval of \n",
    "# (49.02,50.98) based on the given sample data. This means we can be reasonably sure that the population \n",
    "# mean is within this range, but there is a 5% chance that our interval does not capture the true population mean."
   ]
  },
  {
   "cell_type": "code",
   "execution_count": null,
   "id": "7f9cc4ed-0d9d-48b8-918e-206730f5c194",
   "metadata": {},
   "outputs": [],
   "source": []
  },
  {
   "cell_type": "code",
   "execution_count": null,
   "id": "d357e957-1584-4421-bba1-a70ecd22e829",
   "metadata": {},
   "outputs": [],
   "source": [
    "# Q8. What is the margin of error in a confidence interval? How does sample size affect the margin of error?\n",
    "# Provide an example of a scenario where a larger sample size would result in a smaller margin of error."
   ]
  },
  {
   "cell_type": "code",
   "execution_count": 1,
   "id": "328780bf-a301-467a-b6dc-643a945c6571",
   "metadata": {},
   "outputs": [],
   "source": [
    "# The margin of error (MoE) in a confidence interval (CI) is a measure of the uncertainty or range around the point estimate \n",
    "# (such as the sample mean) that accounts for sampling variability. It indicates how much the point estimate might vary from \n",
    "# the true population parameter due to random sampling. In other words, the margin of error defines the width of the \n",
    "# confidence interval and quantifies our level of confidence in the estimate.\n",
    "# Mathematically, the margin of error is typically calculated as:\n",
    "\n",
    "# Margin of Error=Critical Value*(Standard Deviation/square_root(Sample Size))\n",
    "# The critical value is based on the desired confidence level and the chosen statistical distribution\n",
    "# (e.g., Z-distribution for large samples or t-distribution for smaller samples). A higher confidence level will result in a\n",
    "# larger critical value, leading to a wider confidence interval.\n",
    "\n",
    "# Effect of Sample Size on Margin of Error:\n",
    "# Sample size plays a significant role in determining the margin of error. As the sample size increases, \n",
    "# the margin of error decreases. This is because larger sample sizes provide more information about the population \n",
    "# and reduce the uncertainty associated with random sampling variability.\n",
    "\n",
    "# Example:\n",
    "\n",
    "# Let's consider an example involving a political poll. Suppose a pollster wants to estimate the proportion of voters\n",
    "# in a city who support a particular candidate. They conduct two separate polls:\n",
    "\n",
    "# Scenario 1:\n",
    "\n",
    "# Sample Size (n): 200\n",
    "# Estimated Proportion (p): 0.60 (60%)\n",
    "# Confidence Level: 95%\n",
    "\n",
    "# Scenario 2:\n",
    "\n",
    "# Sample Size (n): 800\n",
    "# Estimated Proportion (p): 0.60 (60%)\n",
    "# Confidence Level: 95%\n",
    "\n",
    "# In both scenarios, the estimated proportion of supporters is the same (60%), \n",
    "# but the sample size in Scenario 2 is four times larger than in Scenario 1.\n",
    "\n",
    "# Assuming a Z-distribution for the critical value (for simplicity):\n",
    "\n",
    "# For Scenario 1:\n",
    "# MoE(Scenario 1)=1.96×square_root(0.60×(1−0.60))/Square_root(200)≈0.0738\n",
    "\n",
    "# For Scenario 2:\n",
    "# MoE(Scenario 1)=1.96×square_root(0.60×(1−0.60))/Square_root(800)≈0.0369\n",
    "\n",
    "# Interpretation:\n",
    "\n",
    "# In Scenario 1, the margin of error is approximately 0.0738, and in Scenario 2, it is approximately 0.0369.\n",
    "# This means that the confidence interval for the true proportion of supporters is narrower in Scenario 2 due\n",
    "# to the larger sample size. In other words, a larger sample size results in a smaller margin of error, indicating\n",
    "# a more precise estimate of the population parameter.\n",
    "\n",
    "\n"
   ]
  },
  {
   "cell_type": "code",
   "execution_count": null,
   "id": "d894e57b-001f-43fa-9896-8a015638f1e7",
   "metadata": {},
   "outputs": [],
   "source": []
  },
  {
   "cell_type": "code",
   "execution_count": null,
   "id": "aae9ec39-52a5-4b3a-ab84-ad4aadd4a355",
   "metadata": {},
   "outputs": [],
   "source": [
    "# Q9. Calculate the z-score for a data point with a value of 75, a population mean of 70, and a population\n",
    "# standard deviation of 5. Interpret the results."
   ]
  },
  {
   "cell_type": "code",
   "execution_count": null,
   "id": "f2ab1709-216e-4fd0-b220-0293877fe847",
   "metadata": {},
   "outputs": [],
   "source": [
    "# z = (x - μ) / σ\n",
    "# Where:\n",
    "\n",
    "# z is the z-score\n",
    "# x is the data point value (75 in this case)\n",
    "# μ is the population mean (70 in this case)\n",
    "# σ is the population standard deviation (5 in this case)\n",
    "\n",
    "# Plugging in the values:\n",
    "\n",
    "# z = (75 - 70) / 5\n",
    "# z = 5 / 5\n",
    "# z = 1\n",
    "\n",
    "# Interpretation:\n",
    "# The calculated z-score is 1. This means that the data point with a value of 75 is 1 standard deviation \n",
    "# above the population mean of 70. In other words, it is higher than the average value by a moderate amount,\n",
    "# equivalent to one standard deviation. This indicates that the data point is somewhat above the norm in the context \n",
    "# of the population's distribution.\n"
   ]
  },
  {
   "cell_type": "code",
   "execution_count": null,
   "id": "54356ce7-da62-4d9b-a3a6-915155691710",
   "metadata": {},
   "outputs": [],
   "source": []
  },
  {
   "cell_type": "code",
   "execution_count": null,
   "id": "75504802-9a3c-48ea-a51a-663a091d3791",
   "metadata": {},
   "outputs": [],
   "source": [
    "# Q11. In a survey of 500 people, 65% reported being satisfied with their current job. Calculate the 95%\n",
    "# confidence interval for the true proportion of people who are satisfied with their job."
   ]
  },
  {
   "cell_type": "code",
   "execution_count": null,
   "id": "164fbb08-799f-40db-b820-ac1221a57294",
   "metadata": {},
   "outputs": [],
   "source": [
    "# To calculate the confidence interval for a proportion, you can use the following formula:\n",
    "# Confidence Interval = Sample Proportion ± Margin of Error\n",
    "# Where the margin of error is calculated as:\n",
    "# Margin of Error = Z * √(p * (1 - p) / n)\n",
    "# Here:\n",
    "\n",
    "# Sample Proportion (p̂) = 65% = 0.65\n",
    "# Sample Size (n) = 500\n",
    "# Confidence Level = 95% (which corresponds to a Z-score of approximately 1.96 for a two-tailed interval)\n",
    "# Let's plug in the values:\n",
    "\n",
    "# Margin of Error = 1.96 * √(0.65 * (1 - 0.65) / 500)\n",
    "\n",
    "# Margin of Error ≈ 0.0401\n",
    "# Now, calculate the confidence interval:\n",
    "\n",
    "# Lower Bound = Sample Proportion - Margin of Error\n",
    "# Lower Bound = 0.65 - 0.0401 ≈ 0.6099\n",
    "\n",
    "# Upper Bound = Sample Proportion + Margin of Error\n",
    "# Upper Bound = 0.65 + 0.0401 ≈ 0.6899\n",
    "\n",
    "# So, the 95% confidence interval for the true proportion of people who are satisfied with their job is \n",
    "# approximately 0.6099 to 0.6899. This means we can be 95% confident that the true proportion of satisfied \n",
    "# individuals lies within this interval based on the given survey data."
   ]
  },
  {
   "cell_type": "code",
   "execution_count": null,
   "id": "ba071878-eb73-40ca-90af-b5bb6f65ab6f",
   "metadata": {},
   "outputs": [],
   "source": []
  },
  {
   "cell_type": "code",
   "execution_count": null,
   "id": "348079e4-361f-4084-b9d3-1440c0b412fd",
   "metadata": {},
   "outputs": [],
   "source": [
    "# Q12. A researcher is testing the effectiveness of two different teaching methods on student performance.\n",
    "# Sample A has a mean score of 85 with a standard deviation of 6, while sample B has a mean score of 82\n",
    "# with a standard deviation of 5. Conduct a hypothesis test to determine if the two teaching methods have a\n",
    "# significant difference in student performance using a t-test with a significance level of 0.01."
   ]
  },
  {
   "cell_type": "code",
   "execution_count": null,
   "id": "80c6f7e0-baea-49e2-bcd5-84833ef3899f",
   "metadata": {},
   "outputs": [],
   "source": [
    "# Sample A: Mean (μA) = 85, Standard Deviation (σA) = 6\n",
    "# Sample B: Mean (μB) = 82, Standard Deviation (σB) = 5\n",
    "# Significance level (α) = 0.01\n",
    "# Null Hypothesis: H0: μA - μB = 0\n",
    "# Alternative Hypothesis: H1: μA - μB ≠ 0\n",
    "\n",
    "# Since the sample sizes and population standard deviations are known, you can use the pooled two-sample \n",
    "# t-test formula for unequal variances:\n",
    "\n",
    "# t = (x̄A - x̄B) / √((s²A / nA) + (s²B / nB))\n",
    "# Where:\n",
    "\n",
    "# x̄A and x̄B are the sample means\n",
    "# s²A and s²B are the sample variances\n",
    "# nA and nB are the sample sizes\n",
    "\n",
    "# Let's calculate the values:\n",
    "\n",
    "# nA = nB = Since the sample sizes are not provided, let's assume they are equal, say nA = nB = 30.\n",
    "\n",
    "# s²A = 6² = 36\n",
    "# s²B = 5² = 25\n",
    "\n",
    "# x̄A = 85\n",
    "# x̄B = 82\n",
    "\n",
    "# Substitute the values into the formula:\n",
    "\n",
    "# t = (85 - 82) / √((36 / 30) + (25 / 30))\n",
    "# t = 3 / √((1.2) + (0.8333))\n",
    "# t ≈ 3 / √2.0333\n",
    "# t ≈ 1.962\n",
    "\n",
    "# Degrees of Freedom (df) = nA + nB - 2 = 30 + 30 - 2 = 58 (approximately)\n",
    "\n",
    "# Now, you would use a t-distribution table or calculator to find the critical t-value for a two-tailed test with \n",
    "# a significance level of 0.01 and degrees of freedom of 58. Let's assume the critical t-value is approximately ±2.661.\n",
    "\n",
    "# Since the calculated t-value (1.962) is not greater than the critical t-value (2.661), we fail to reject the null hypothesis. \n",
    "# This means that there is not enough evidence to conclude that the two teaching methods have a significant difference in student \n",
    "# performance at the 0.01 significance level.\n"
   ]
  },
  {
   "cell_type": "code",
   "execution_count": null,
   "id": "1a64f969-0929-416d-b3cc-d77341e8ee2c",
   "metadata": {},
   "outputs": [],
   "source": []
  },
  {
   "cell_type": "code",
   "execution_count": null,
   "id": "7e0e12d0-fb70-4032-930e-6ff41e166f12",
   "metadata": {},
   "outputs": [],
   "source": [
    "# Q13. A population has a mean of 60 and a standard deviation of 8. A sample of 50 observations has a mean\n",
    "# of 65. Calculate the 90% confidence interval for the true population mean."
   ]
  },
  {
   "cell_type": "code",
   "execution_count": null,
   "id": "1d604d7c-a52b-417c-820c-7e591bf4359a",
   "metadata": {},
   "outputs": [],
   "source": [
    "# To calculate the confidence interval for the population mean, you can use the formula:\n",
    "\n",
    "# Confidence Interval = Sample Mean ± Margin of Error\n",
    "\n",
    "# Where the margin of error is calculated as:\n",
    "\n",
    "# Margin of Error = Z * (σ / √n)\n",
    "\n",
    "# Here:\n",
    "\n",
    "# Sample Mean (x̄) = 65\n",
    "# Population Mean (μ) = 60\n",
    "# Population Standard Deviation (σ) = 8\n",
    "# Sample Size (n) = 50\n",
    "# Confidence Level = 90% (which corresponds to a Z-score of approximately 1.645 for a one-tailed interval)\n",
    "# Let's plug in the values:\n",
    "\n",
    "# Margin of Error = 1.645 * (8 / √50)\n",
    "\n",
    "# Margin of Error ≈ 2.315\n",
    "\n",
    "# Now, calculate the confidence interval:\n",
    "\n",
    "# Lower Bound = Sample Mean - Margin of Error\n",
    "# Lower Bound = 65 - 2.315 ≈ 62.685\n",
    "\n",
    "# Upper Bound = Sample Mean + Margin of Error\n",
    "# Upper Bound = 65 + 2.315 ≈ 67.315\n",
    "\n",
    "# So, the 90% confidence interval for the true population mean is approximately 62.685 to 67.315.\n",
    "# This means we can be 90% confident that the true population mean lies within this interval based on the given sample data."
   ]
  },
  {
   "cell_type": "code",
   "execution_count": null,
   "id": "29ed92ca-08e8-46f5-bd9a-2efcc21418d3",
   "metadata": {},
   "outputs": [],
   "source": []
  },
  {
   "cell_type": "code",
   "execution_count": null,
   "id": "c156c8d8-aee6-4eb0-8d35-cff4693af31f",
   "metadata": {},
   "outputs": [],
   "source": [
    "# Q14. In a study of the effects of caffeine on reaction time, a sample of 30 participants had an average\n",
    "# reaction time of 0.25 seconds with a standard deviation of 0.05 seconds. Conduct a hypothesis test to\n",
    "# determine if the caffeine has a significant effect on reaction time at a 90% confidence level using a t-test."
   ]
  },
  {
   "cell_type": "code",
   "execution_count": null,
   "id": "9a496cf5-c7be-47f3-92dc-48bd79d02eb7",
   "metadata": {},
   "outputs": [],
   "source": [
    "# Sample Size (n) = 30\n",
    "# Sample Mean (x̄) = 0.25 seconds\n",
    "# Sample Standard Deviation (s) = 0.05 seconds\n",
    "# Confidence Level = 90%\n",
    "# Null Hypothesis: H0: μ = μ0 (where μ0 represents the population mean reaction time without caffeine)\n",
    "# Alternative Hypothesis: H1: μ ≠ μ0\n",
    "\n",
    "# Since the population standard deviation is not given, we'll use the t-distribution for the test. The formula for the t-statistic is:\n",
    "\n",
    "# t = (x̄ - μ0) / (s / √n)\n",
    "\n",
    "# Where:\n",
    "\n",
    "# x̄ is the sample mean\n",
    "# μ0 is the hypothesized population mean (without caffeine)\n",
    "# s is the sample standard deviation\n",
    "# n is the sample size\n",
    "# Let's assume the hypothesized population mean reaction time without caffeine (μ0) is 0.30 seconds (for the purpose of this example).\n",
    "# Substitute the values into the formula:\n",
    "\n",
    "# t = (0.25 - 0.30) / (0.05 / √30)\n",
    "# t = -0.05 / (0.05 / √30)\n",
    "# t = -0.05 / (0.05 / 5.48)\n",
    "# t ≈ -5.48\n",
    "\n",
    "# Degrees of Freedom (df) = n - 1 = 30 - 1 = 29\n",
    "\n",
    "# Now, you would use a t-distribution table or calculator to find the critical t-value for a two-tailed test with \n",
    "# a confidence level of 90% and degrees of freedom of 29. Let's assume the critical t-value is approximately ±1.699.\n",
    "\n",
    "# Since the calculated t-value (-5.48) is much smaller (in absolute value) than the critical t-value (1.699), \n",
    "# we would reject the null hypothesis."
   ]
  },
  {
   "cell_type": "code",
   "execution_count": null,
   "id": "09e529dc-7192-4f3a-8474-6a92dbd3eab0",
   "metadata": {},
   "outputs": [],
   "source": [
    "# Interpretation:\n",
    "# Based on the results of the t-test, at a 90% confidence level, there is strong evidence to suggest that \n",
    "# caffeine has a significant effect on reaction time. The negative t-value indicates that the reaction time with \n",
    "# caffeine is significantly lower than the hypothesized population mean reaction time without caffeine (μ0 = 0.30 seconds)."
   ]
  },
  {
   "cell_type": "code",
   "execution_count": null,
   "id": "5316d099-ab11-4672-9e8e-5ff07f083998",
   "metadata": {},
   "outputs": [],
   "source": []
  }
 ],
 "metadata": {
  "kernelspec": {
   "display_name": "Python 3 (ipykernel)",
   "language": "python",
   "name": "python3"
  },
  "language_info": {
   "codemirror_mode": {
    "name": "ipython",
    "version": 3
   },
   "file_extension": ".py",
   "mimetype": "text/x-python",
   "name": "python",
   "nbconvert_exporter": "python",
   "pygments_lexer": "ipython3",
   "version": "3.10.8"
  }
 },
 "nbformat": 4,
 "nbformat_minor": 5
}
