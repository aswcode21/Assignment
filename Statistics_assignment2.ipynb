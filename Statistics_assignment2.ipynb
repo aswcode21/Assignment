{
 "cells": [
  {
   "cell_type": "code",
   "execution_count": null,
   "id": "de3162c2-e2c6-41cb-8c95-db19183d19db",
   "metadata": {},
   "outputs": [],
   "source": [
    "#Q1"
   ]
  },
  {
   "cell_type": "code",
   "execution_count": 1,
   "id": "3359c9fc-9855-4482-83df-fa1464916b89",
   "metadata": {},
   "outputs": [],
   "source": [
    "# The three measures of central tendency are:\n",
    "\n",
    "# Mean: The mean, also known as the average, is calculated by adding up all the values in a data set \n",
    "# and dividing the sum by the total number of values. It represents the balance point of the data set.\n",
    "\n",
    "# Median: The median is the middle value in a data set when the values are arranged in ascending or descending order.\n",
    "# If there is an even number of values, the median is the average of the two middle values. \n",
    "# The median represents the value that separates the lower and upper halves of the data set.\n",
    "\n",
    "# Mode: The mode is the value that appears most frequently in a data set. \n",
    "# In some cases, there may be multiple modes (bimodal, trimodal, etc.), or there may be no mode\n",
    "# if no value is repeated. The mode represents the most common value(s) in the data set."
   ]
  },
  {
   "cell_type": "code",
   "execution_count": null,
   "id": "0529ace6-2fae-41c0-86cd-91bb37d7f91a",
   "metadata": {},
   "outputs": [],
   "source": []
  },
  {
   "cell_type": "code",
   "execution_count": null,
   "id": "b0161ac8-eec0-489e-b818-131bf2cf5d75",
   "metadata": {},
   "outputs": [],
   "source": [
    "#Q2"
   ]
  },
  {
   "cell_type": "code",
   "execution_count": null,
   "id": "a7a50bbf-2637-4934-b62e-8596bd03c709",
   "metadata": {},
   "outputs": [],
   "source": [
    "# Mean: The mean is the sum of all the values in a dataset divided by the total number of values.\n",
    "# It is calculated by adding up all the values and then dividing by the count.\n",
    "# The mean is sensitive to extreme values, as it takes into account the magnitude of each value. \n",
    "# It provides an overall average value of the dataset.\n",
    "\n",
    "# Median: The median is the middle value in a dataset when the values are arranged in ascending or descending order.\n",
    "# If there is an even number of values, the median is the average of the two middle values. Unlike the mean,\n",
    "# the median is not influenced by extreme values, making it a more robust measure of central tendency. It represents the value that separates the lower and upper halves of the dataset.\n",
    "\n",
    "# Mode: The mode is the value or values that occur most frequently in a dataset. \n",
    "# It represents the highest peak(s) in the distribution of values. \n",
    "# Unlike the mean and median, the mode does not take into account the actual values but focuses on the frequencies of values. \n",
    "# The mode is particularly useful for categorical or discrete data.\n",
    "\n",
    "# Each measure of central tendency has its own strengths and applications. \n",
    "# The mean provides a precise average and is often used when the data is normally distributed or continuous.\n",
    "# The median is useful when there are outliers or the data is skewed, as it is less affected by extreme values.\n",
    "# The mode is commonly used for categorical data or when identifying the most frequently occurring value(s) is important.\n",
    "\n",
    "# the mean reflects the overall average, the median represents the middle value, and the mode represents the most common value(s). \n",
    "# These measures help to summarize and understand the central tendency of a dataset from different perspectives."
   ]
  },
  {
   "cell_type": "code",
   "execution_count": null,
   "id": "4864a729-1a1d-493b-9660-f156330ab979",
   "metadata": {},
   "outputs": [],
   "source": []
  },
  {
   "cell_type": "code",
   "execution_count": null,
   "id": "a2dc0ae5-20a4-4b44-a3c6-9e4a1d33c5e8",
   "metadata": {},
   "outputs": [],
   "source": [
    "#Q3"
   ]
  },
  {
   "cell_type": "code",
   "execution_count": 2,
   "id": "c00ede92-5b28-4cd9-9998-3f584a15cbeb",
   "metadata": {},
   "outputs": [],
   "source": [
    "import numpy as np"
   ]
  },
  {
   "cell_type": "code",
   "execution_count": 4,
   "id": "5129ba0e-56ac-43b0-8da8-51e13f85027b",
   "metadata": {},
   "outputs": [],
   "source": [
    "df=[178,177,176,177,178.2,178,175,179,180,175,178.9,176.2,177,172.5,178,176.5]"
   ]
  },
  {
   "cell_type": "code",
   "execution_count": 5,
   "id": "411a971a-ff8b-4d53-8fdd-485b15a68b95",
   "metadata": {},
   "outputs": [
    {
     "data": {
      "text/plain": [
       "177.01875"
      ]
     },
     "execution_count": 5,
     "metadata": {},
     "output_type": "execute_result"
    }
   ],
   "source": [
    "np.mean(df)"
   ]
  },
  {
   "cell_type": "code",
   "execution_count": 7,
   "id": "f27b945f-81b0-4e8b-8f65-c32cf6cd2d3d",
   "metadata": {},
   "outputs": [
    {
     "data": {
      "text/plain": [
       "177.0"
      ]
     },
     "execution_count": 7,
     "metadata": {},
     "output_type": "execute_result"
    }
   ],
   "source": [
    "np.median(df)"
   ]
  },
  {
   "cell_type": "code",
   "execution_count": 10,
   "id": "a4403244-412b-4053-b896-9b483cf052fa",
   "metadata": {},
   "outputs": [
    {
     "name": "stderr",
     "output_type": "stream",
     "text": [
      "/tmp/ipykernel_854/4057379663.py:2: FutureWarning: Unlike other reduction functions (e.g. `skew`, `kurtosis`), the default behavior of `mode` typically preserves the axis it acts along. In SciPy 1.11.0, this behavior will change: the default value of `keepdims` will become False, the `axis` over which the statistic is taken will be eliminated, and the value None will no longer be accepted. Set `keepdims` to True or False to avoid this warning.\n",
      "  stats.mode(df)\n"
     ]
    },
    {
     "data": {
      "text/plain": [
       "ModeResult(mode=array([177.]), count=array([3]))"
      ]
     },
     "execution_count": 10,
     "metadata": {},
     "output_type": "execute_result"
    }
   ],
   "source": [
    "from scipy import stats\n",
    "stats.mode(df)"
   ]
  },
  {
   "cell_type": "code",
   "execution_count": null,
   "id": "c58cc3e4-b6b8-45ed-adbf-66063db8d231",
   "metadata": {},
   "outputs": [],
   "source": []
  },
  {
   "cell_type": "code",
   "execution_count": null,
   "id": "2d54848f-c655-4a79-b8a6-2f93b2d3d038",
   "metadata": {},
   "outputs": [],
   "source": [
    "#Q4"
   ]
  },
  {
   "cell_type": "code",
   "execution_count": 12,
   "id": "76f89126-5fce-4b66-af9a-807a16f4c2d1",
   "metadata": {},
   "outputs": [],
   "source": [
    "import numpy as np\n",
    "df=[178,177,176,177,178.2,178,175,179,180,175,178.9,176.2,177,172.5,178,176.5]"
   ]
  },
  {
   "cell_type": "code",
   "execution_count": 13,
   "id": "548e0bda-8ab0-45e5-9052-d7373acb54e3",
   "metadata": {},
   "outputs": [
    {
     "data": {
      "text/plain": [
       "3.199023437500001"
      ]
     },
     "execution_count": 13,
     "metadata": {},
     "output_type": "execute_result"
    }
   ],
   "source": [
    "np.var(df)"
   ]
  },
  {
   "cell_type": "code",
   "execution_count": 14,
   "id": "cc6bf1c4-7624-46e0-9918-efeea7536591",
   "metadata": {},
   "outputs": [
    {
     "data": {
      "text/plain": [
       "1.7885814036548633"
      ]
     },
     "execution_count": 14,
     "metadata": {},
     "output_type": "execute_result"
    }
   ],
   "source": [
    "np.std(df)"
   ]
  },
  {
   "cell_type": "code",
   "execution_count": null,
   "id": "fd4e2de7-67c2-4993-8aee-ee587b4ad149",
   "metadata": {},
   "outputs": [],
   "source": []
  },
  {
   "cell_type": "code",
   "execution_count": null,
   "id": "69917e37-cc5c-4ef1-a125-7a20c83d07c3",
   "metadata": {},
   "outputs": [],
   "source": [
    "#Q5"
   ]
  },
  {
   "cell_type": "code",
   "execution_count": 15,
   "id": "38d933d1-0618-4b16-a8ad-96a5e1bcbf1a",
   "metadata": {},
   "outputs": [],
   "source": [
    "# Measures of dispersion, such as range, variance, and standard deviation, are used to describe the spread or variability within a dataset.\n",
    "# They provide insights into how the data points are distributed around the central tendency measures, such as the mean or median.\n",
    "# Here's an explanation of each measure and an example to illustrate their usage:\n",
    "\n",
    "# Range: The range is the simplest measure of dispersion and is calculated as the difference between\n",
    "# the maximum and minimum values in a dataset. It represents the extent of the spread from the lowest to the highest value.\n",
    "# However, the range does not consider the distribution of values in between.\n",
    "# Example: Consider a dataset of exam scores: [75, 80, 82, 85, 90].\n",
    "# The range would be 90 - 75 = 15, indicating that the scores range from 75 to 90.\n",
    "\n",
    "# Variance: The variance measures the average squared deviation of each data point from the mean.\n",
    "# It considers the spread of values around the mean, taking into account the differences between individual \n",
    "# values and the mean. A larger variance indicates greater variability in the dataset.\n",
    "# Example: Using the same exam scores dataset, we can calculate the variance. \n",
    "\n",
    "\n",
    "# These measures of dispersion help to quantify the spread of a dataset and provide insights into the variability\n",
    "# and distribution of values. The range gives a simple indication of the spread, while the variance and standard \n",
    "# deviation provide more detailed information about the dispersion, considering the individual values and their \n",
    "# relationships with the mean.\n"
   ]
  },
  {
   "cell_type": "code",
   "execution_count": null,
   "id": "1f0f86da-883e-49ac-a0f1-e12a0864dfc4",
   "metadata": {},
   "outputs": [],
   "source": []
  },
  {
   "cell_type": "code",
   "execution_count": null,
   "id": "21f74d58-46e0-4b9f-9fbb-353e18533ab5",
   "metadata": {},
   "outputs": [],
   "source": [
    "#Q6"
   ]
  },
  {
   "cell_type": "code",
   "execution_count": null,
   "id": "9bfce9c4-1154-453b-9b01-0afd78b5105c",
   "metadata": {},
   "outputs": [],
   "source": [
    "# A Venn diagram is a graphical representation used to illustrate the relationships and similarities \n",
    "# between different sets of elements. It consists of overlapping circles or other shapes, each representing a \n",
    "# set or a category. The overlapping regions represent the intersections or common elements between the sets."
   ]
  },
  {
   "cell_type": "code",
   "execution_count": null,
   "id": "a76489aa-2ce8-4343-8d16-0a01e982af1b",
   "metadata": {},
   "outputs": [],
   "source": []
  },
  {
   "cell_type": "code",
   "execution_count": null,
   "id": "f79e938c-10b5-458e-a3ce-eb4dd4f97ee6",
   "metadata": {},
   "outputs": [],
   "source": [
    "#Q7"
   ]
  },
  {
   "cell_type": "code",
   "execution_count": 1,
   "id": "4014105c-f071-4fe4-b3b1-e9e67a8ff36c",
   "metadata": {},
   "outputs": [],
   "source": [
    "# To find the union (A ⋃ B) and intersection (A ∩ B) of the given sets A = {2, 3, 4, 5, 6, 7} and B = {0, 2, 6, 8, 10},\n",
    "# we compare the elements in the sets.\n",
    "\n",
    "# (i) A ∩ B (Intersection):\n",
    "# The intersection of two sets consists of the elements that are common to both sets.\n",
    "\n",
    "# A ∩ B = {2, 6}\n",
    "\n",
    "# Therefore, A ∩ B = {2, 6}.\n",
    "\n",
    "# (ii) A ⋃ B (Union):\n",
    "# The union of two sets consists of all the unique elements from both sets, without repetition.\n",
    "\n",
    "# A ⋃ B = {0, 2, 3, 4, 5, 6, 7, 8, 10}\n",
    "\n",
    "# Therefore, A ⋃ B = {0, 2, 3, 4, 5, 6, 7, 8, 10}."
   ]
  },
  {
   "cell_type": "code",
   "execution_count": null,
   "id": "d968c050-89c5-4cf7-8ebb-b4beca11cebe",
   "metadata": {},
   "outputs": [],
   "source": []
  },
  {
   "cell_type": "code",
   "execution_count": null,
   "id": "74f8a49c-8e86-4c01-b2e5-6edd30f01f86",
   "metadata": {},
   "outputs": [],
   "source": [
    "#Q8"
   ]
  },
  {
   "cell_type": "code",
   "execution_count": null,
   "id": "f9557e41-8e31-4b77-883c-64c0c092eadc",
   "metadata": {},
   "outputs": [],
   "source": [
    "# Skewness is a statistical measure that describes the asymmetry or lack of symmetry in the\n",
    "# distribution of data points in a dataset. It provides information about the shape and orientation \n",
    "# of the distribution curve. Skewness can help identify the direction and extent of the skew (departure from symmetry) in the data.\n",
    "\n",
    "# In a symmetrical distribution, the data is evenly distributed around the mean, and the skewness is close to zero.\n",
    "# However, in skewed distributions, the data tends to cluster towards one end of the distribution, resulting in an asymmetrical shape.\n",
    "\n",
    "# There are three types of skewness:\n",
    "\n",
    "# Positive Skewness (Right Skew): In a positively skewed distribution, the tail of the distribution extends towards\n",
    "# the right side, meaning that the right side of the distribution is longer or has more extreme values. \n",
    "# The mean tends to be greater than the median in a positively skewed distribution.\n",
    "\n",
    "# Negative Skewness (Left Skew): In a negatively skewed distribution, the tail of the distribution extends towards the \n",
    "# left side, meaning that the left side of the distribution is longer or has more extreme values.\n",
    "# The mean tends to be less than the median in a negatively skewed distribution.\n",
    "\n",
    "# Zero Skewness: A perfectly symmetrical distribution has zero skewness. This indicates that the data is evenly distributed\n",
    "# around the mean, with no skew towards either end."
   ]
  },
  {
   "cell_type": "code",
   "execution_count": null,
   "id": "7d705ebc-2542-4127-8521-9b6273f56302",
   "metadata": {},
   "outputs": [],
   "source": []
  },
  {
   "cell_type": "code",
   "execution_count": null,
   "id": "d199432d-357e-4816-a17b-626f1dfd2f62",
   "metadata": {},
   "outputs": [],
   "source": [
    "#Q9"
   ]
  },
  {
   "cell_type": "code",
   "execution_count": null,
   "id": "96058c29-cb25-4810-91e9-4fed98f273f6",
   "metadata": {},
   "outputs": [],
   "source": [
    "# In a right-skewed distribution, where the tail of the distribution extends towards the right side, \n",
    "# the position of the median with respect to the mean will be as follows:\n",
    "\n",
    "# The median will typically be lower than the mean in a right-skewed distribution.\n",
    "\n",
    "# This is because in a right-skewed distribution, the tail on the right side contains the larger or more \n",
    "# extreme values. These larger values can pull the mean towards the right, making it higher than the median. \n",
    "# The median, being the middle value that divides the dataset into two equal parts, is less affected by the\n",
    "# extreme values in the right tail and tends to be closer to the lower values on the left side."
   ]
  },
  {
   "cell_type": "code",
   "execution_count": null,
   "id": "9267b4f2-7e6f-4575-b71e-cb2971ffba68",
   "metadata": {},
   "outputs": [],
   "source": []
  },
  {
   "cell_type": "code",
   "execution_count": null,
   "id": "fb9b820e-de6e-4296-a96a-e791ce8c329b",
   "metadata": {},
   "outputs": [],
   "source": [
    "#Q10"
   ]
  },
  {
   "cell_type": "code",
   "execution_count": 2,
   "id": "d86e25b5-7281-4817-957e-86dacf23d886",
   "metadata": {},
   "outputs": [],
   "source": [
    "# Covariance and correlation are both measures used in statistical analysis to assess the relationship between two variables. \n",
    "# While they are related concepts, there are important differences between them:\n",
    "\n",
    "# Covariance:\n",
    "# Covariance measures the direction and magnitude of the linear relationship between two variables.\n",
    "# It indicates how changes in one variable are related to changes in another variable. \n",
    "# A positive covariance indicates a direct relationship (both variables increase or decrease together), \n",
    "# while a negative covariance indicates an inverse relationship (one variable increases while the other decreases). \n",
    "# The magnitude of covariance is not standardized and depends on the scale of the variables. Covariance can range from \n",
    "# negative infinity to positive infinity.\n",
    "\n",
    "# Correlation:\n",
    "# Correlation, on the other hand, measures the strength and direction of the linear relationship between\n",
    "# two variables, but it is normalized to a range between -1 and 1. Correlation is dimensionless and unaffected by \n",
    "# changes in the scale or units of measurement of the variables. A correlation coefficient of +1 indicates a perfect\n",
    "# positive linear relationship, -1 indicates a perfect negative linear relationship, and 0 indicates no linear relationship."
   ]
  },
  {
   "cell_type": "code",
   "execution_count": null,
   "id": "5e7543f4-7e61-4356-9e19-5fc0c55df117",
   "metadata": {},
   "outputs": [],
   "source": [
    "# The main differences between covariance and correlation are:\n",
    "\n",
    "# Scale: Covariance is influenced by the scale of the variables, while correlation is scale-independent and standardized.\n",
    "\n",
    "# Interpretation: Covariance does not provide a clear measure of the strength of the relationship,\n",
    "# whereas correlation provides a standardized measure of the strength and direction of the linear relationship."
   ]
  },
  {
   "cell_type": "code",
   "execution_count": null,
   "id": "d8d298c1-3245-432a-8406-ee521a69c6e4",
   "metadata": {},
   "outputs": [],
   "source": []
  },
  {
   "cell_type": "code",
   "execution_count": null,
   "id": "2b9c5599-2832-4cb5-bef9-96949b01e5c3",
   "metadata": {},
   "outputs": [],
   "source": [
    "#Q11"
   ]
  },
  {
   "cell_type": "code",
   "execution_count": null,
   "id": "c3dc61ce-3b7d-4b39-9380-c6ee5b55b4a2",
   "metadata": {},
   "outputs": [],
   "source": [
    "# Sample Mean = (Sum of all data points) / (Number of data points)\n",
    "\n",
    "# To calculate the sample mean, you add up all the values in the dataset and divide the sum by the total number of data points.\n",
    "\n",
    "# Let's take an example dataset of exam scores: [85, 90, 92, 78, 87].\n",
    "\n",
    "# To calculate the sample mean:\n",
    "\n",
    "# Sum of all data points = 85 + 90 + 92 + 78 + 87 = 432\n",
    "\n",
    "# Number of data points = 5\n",
    "\n",
    "# Sample Mean = 432 / 5 = 86.4"
   ]
  },
  {
   "cell_type": "code",
   "execution_count": null,
   "id": "15e7199e-acba-4653-be91-a240a13e0d44",
   "metadata": {},
   "outputs": [],
   "source": []
  },
  {
   "cell_type": "code",
   "execution_count": null,
   "id": "d526d276-4ae1-47b2-ba78-1af54653f93b",
   "metadata": {},
   "outputs": [],
   "source": [
    "#Q12"
   ]
  },
  {
   "cell_type": "code",
   "execution_count": null,
   "id": "09685c3e-a282-4e85-a08f-a14b71d1b51e",
   "metadata": {},
   "outputs": [],
   "source": [
    "# For a normal distribution, the measures of central tendency (mean, median, and mode) are all equal and located \n",
    "# at the center of the distribution. This is one of the defining characteristics of a symmetric normal distribution.\n",
    "\n",
    "# In a normal distribution, the mean, median, and mode coincide and are located at the peak or center of the distribution.\n",
    "# They are all equal and represent the typical or average value of the dataset. This symmetry arises due to the bell-shaped\n",
    "# nature of the normal distribution, where data points are equally likely to occur on both sides of the mean.\n",
    "\n",
    "# The relationship between the measures of central tendency in a normal distribution can be summarized as follows:\n",
    "\n",
    "# Mean: The mean represents the arithmetic average of the data points in a normal distribution and is located \n",
    "# at the center of the distribution.\n",
    "\n",
    "# Median: The median, which is the middle value when the data is arranged in ascending or descending order, \n",
    "# is also located at the center of the normal distribution. It coincides with the mean.\n",
    "\n",
    "# Mode: The mode, representing the most frequently occurring value(s) in the dataset, is also equal to the\n",
    "# mean and median in a normal distribution. In a symmetric distribution, there is a single mode located at the center."
   ]
  },
  {
   "cell_type": "code",
   "execution_count": null,
   "id": "6e3a0c33-02e3-4f25-b50d-ffbc57bfbebb",
   "metadata": {},
   "outputs": [],
   "source": []
  },
  {
   "cell_type": "code",
   "execution_count": null,
   "id": "8bc19bdb-016c-4116-b429-2d8aee57b259",
   "metadata": {},
   "outputs": [],
   "source": [
    "#Q13"
   ]
  },
  {
   "cell_type": "code",
   "execution_count": null,
   "id": "3704ce39-9678-4b33-b468-d889b69b5c8f",
   "metadata": {},
   "outputs": [],
   "source": [
    "# Covariance and correlation are both measures used to assess the relationship between two variables, \n",
    "# but they differ in several important ways:\n",
    "\n",
    "# Scale:\n",
    "\n",
    "# Covariance is scale-dependent and influenced by the units of measurement of the variables. \n",
    "# The magnitude of covariance is not standardized and depends on the scale of the variables.\n",
    "# Correlation, on the other hand, is scale-independent and standardized to a range between -1 and 1.\n",
    "# It is not affected by changes in the scale or units of measurement of the variables.\n",
    "# Interpretation:\n",
    "\n",
    "# Covariance does not provide a clear measure of the strength of the relationship. \n",
    "# It only indicates the direction (positive or negative) and magnitude of the linear relationship between two variables.\n",
    "# Correlation, on the other hand, provides a standardized measure of the strength and direction of the linear \n",
    "# relationship between two variables. Correlation coefficients range from -1 (perfect negative correlation) to 1 \n",
    "# (perfect positive correlation), with 0 indicating no linear relationship.\n",
    "# Normalization:\n",
    "\n",
    "# Covariance is not normalized and can take any value from negative infinity to positive infinity.\n",
    "# Correlation is always bounded between -1 and 1, providing a standardized measure that is easier to\n",
    "# interpret and compare across different datasets or variables.\n",
    "# Unit of measurement:\n",
    "\n",
    "# Covariance is expressed in the units of the variables being measured.\n",
    "# Correlation is a dimensionless quantity and does not have any specific unit of measurement."
   ]
  },
  {
   "cell_type": "code",
   "execution_count": null,
   "id": "4a82570a-45f6-4353-a805-1dd0bfce75f0",
   "metadata": {},
   "outputs": [],
   "source": []
  },
  {
   "cell_type": "code",
   "execution_count": null,
   "id": "29a997ce-9ef5-47fd-90df-359efc276c48",
   "metadata": {},
   "outputs": [],
   "source": [
    "#Q14"
   ]
  },
  {
   "cell_type": "code",
   "execution_count": null,
   "id": "d40d286f-d4e1-4bd7-b38a-ceb582edf194",
   "metadata": {},
   "outputs": [],
   "source": [
    "# Outliers can have a significant impact on measures of central tendency (mean, median, and mode) and dispersion\n",
    "# (range, variance, and standard deviation). Here's how outliers affect these measures:\n",
    "\n",
    "# Measures of Central Tendency:\n",
    "\n",
    "# Mean: Outliers can substantially affect the mean because it considers the value of each data point.\n",
    "# Since the mean is sensitive to extreme values, even a single outlier can greatly pull the mean towards it, \n",
    "# resulting in a distorted measure of central tendency.\n",
    "# Median: The median is less affected by outliers because it is not influenced by extreme values.\n",
    "# Outliers do not have a significant impact on the median unless they occur within the middle portion \n",
    "# of the dataset where the median is located. The median provides a more robust measure of central tendency in the presence of outliers.\n",
    "# Mode: The mode is minimally affected by outliers since it represents the most frequent value(s) in the dataset. \n",
    "# Outliers, being less frequent, typically do not impact the mode significantly.\n",
    "# Measures of Dispersion:\n",
    "\n",
    "# Range: Outliers can significantly affect the range since it is calculated as the difference between the\n",
    "# maximum and minimum values. Even a single outlier can substantially increase the range if it is an extreme value.\n",
    "# Variance and Standard Deviation: Outliers can have a significant impact on variance and standard deviation because \n",
    "# they contribute to the squared deviations from the mean. Outliers with large deviations from the mean can inflate the\n",
    "# variance and, consequently, the standard deviation."
   ]
  },
  {
   "cell_type": "code",
   "execution_count": null,
   "id": "f353329a-c684-454b-a3ba-ab49ec4cae46",
   "metadata": {},
   "outputs": [],
   "source": []
  },
  {
   "cell_type": "code",
   "execution_count": null,
   "id": "ea49649f-0454-4be3-9674-19fc6bf81dea",
   "metadata": {},
   "outputs": [],
   "source": []
  }
 ],
 "metadata": {
  "kernelspec": {
   "display_name": "Python 3 (ipykernel)",
   "language": "python",
   "name": "python3"
  },
  "language_info": {
   "codemirror_mode": {
    "name": "ipython",
    "version": 3
   },
   "file_extension": ".py",
   "mimetype": "text/x-python",
   "name": "python",
   "nbconvert_exporter": "python",
   "pygments_lexer": "ipython3",
   "version": "3.10.8"
  }
 },
 "nbformat": 4,
 "nbformat_minor": 5
}
