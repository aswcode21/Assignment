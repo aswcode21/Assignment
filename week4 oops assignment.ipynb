{
 "cells": [
  {
   "cell_type": "code",
   "execution_count": null,
   "id": "a4fb1e9e-4d58-42e9-aec7-1fcf97fba473",
   "metadata": {},
   "outputs": [],
   "source": [
    "#Question1"
   ]
  },
  {
   "cell_type": "code",
   "execution_count": 19,
   "id": "6809628c-9f9c-43b7-8ba6-12ac24e8c3cb",
   "metadata": {},
   "outputs": [],
   "source": [
    "class vehicle:\n",
    "    def __init__(self,name_of_vehicle,max_speed,average_of_vehicle):\n",
    "        self.name_of_vehicle=name_of_vehicle;\n",
    "        self.max_speed=max_speed;\n",
    "        self.average_of_vehicle=average_of_vehicle;\n",
    "    \n",
    "    def return_vehicle_details(self):\n",
    "        return self.name_of_vehicle,self.max_speed,self.average_of_vehicle\n",
    "    "
   ]
  },
  {
   "cell_type": "code",
   "execution_count": 15,
   "id": "17e39282-9f8d-46b6-a814-452def5c8262",
   "metadata": {},
   "outputs": [],
   "source": [
    "vh1=vehicle(\"Honda\",180,10)"
   ]
  },
  {
   "cell_type": "code",
   "execution_count": 16,
   "id": "1d438815-6a42-4935-b3e3-caa9bf3c8984",
   "metadata": {},
   "outputs": [
    {
     "data": {
      "text/plain": [
       "('Honda', 180, 10)"
      ]
     },
     "execution_count": 16,
     "metadata": {},
     "output_type": "execute_result"
    }
   ],
   "source": [
    "vh1.return_vehicle_details()"
   ]
  },
  {
   "cell_type": "code",
   "execution_count": null,
   "id": "22afaaf2-bec7-4da7-b272-6bae3a63f831",
   "metadata": {},
   "outputs": [],
   "source": []
  },
  {
   "cell_type": "code",
   "execution_count": null,
   "id": "504fac23-2e87-4a2f-bc83-4c62c83e26a4",
   "metadata": {},
   "outputs": [],
   "source": [
    "#Question2"
   ]
  },
  {
   "cell_type": "code",
   "execution_count": 18,
   "id": "bccfaa5a-167d-4611-b370-3c11412174d6",
   "metadata": {},
   "outputs": [],
   "source": [
    "class car(vehicle):\n",
    "    def seating_capacity(self,capacity):\n",
    "        self.capacity=capacity\n",
    "        return self.name_of_vehicle,self.capacity    "
   ]
  },
  {
   "cell_type": "code",
   "execution_count": 21,
   "id": "ac199ede-2a89-43c8-87ff-31c161795600",
   "metadata": {},
   "outputs": [],
   "source": [
    "c=car(\"Swift\",200,15)"
   ]
  },
  {
   "cell_type": "code",
   "execution_count": 22,
   "id": "f04ec61d-abad-4fd5-bbf8-e7ae937e4b8c",
   "metadata": {},
   "outputs": [
    {
     "data": {
      "text/plain": [
       "('Swift', 5)"
      ]
     },
     "execution_count": 22,
     "metadata": {},
     "output_type": "execute_result"
    }
   ],
   "source": [
    "c.seating_capacity(5)"
   ]
  },
  {
   "cell_type": "code",
   "execution_count": null,
   "id": "01876109-9ec1-4b80-a687-01c11ef7dac2",
   "metadata": {},
   "outputs": [],
   "source": []
  },
  {
   "cell_type": "code",
   "execution_count": null,
   "id": "89125a2a-1419-40fd-81aa-5c472cfe7f60",
   "metadata": {},
   "outputs": [],
   "source": [
    "#Question3"
   ]
  },
  {
   "cell_type": "code",
   "execution_count": 23,
   "id": "29e7decf-69a4-4664-b50b-45451300201d",
   "metadata": {},
   "outputs": [],
   "source": [
    "#When a class is derived from more than one base class it is called multiple Inheritance. The derived class inherits all the features of the base case."
   ]
  },
  {
   "cell_type": "code",
   "execution_count": 24,
   "id": "c2bfcda5-8e3e-4587-b364-1d49c1c41679",
   "metadata": {},
   "outputs": [
    {
     "name": "stdout",
     "output_type": "stream",
     "text": [
      "Mammals can give direct birth.\n",
      "Winged animals can flap.\n"
     ]
    }
   ],
   "source": [
    "class Mammal:\n",
    "    def mammal_info(self):\n",
    "        print(\"Mammals can give direct birth.\")\n",
    "\n",
    "class WingedAnimal:\n",
    "    def winged_animal_info(self):\n",
    "        print(\"Winged animals can flap.\")\n",
    "\n",
    "class Bat(Mammal, WingedAnimal):\n",
    "    pass\n",
    "\n",
    "# create an object of Bat class\n",
    "b1 = Bat()\n",
    "\n",
    "b1.mammal_info()\n",
    "b1.winged_animal_info()"
   ]
  },
  {
   "cell_type": "code",
   "execution_count": null,
   "id": "99f78cf8-8246-4c29-9910-08de5e95d137",
   "metadata": {},
   "outputs": [],
   "source": []
  },
  {
   "cell_type": "code",
   "execution_count": null,
   "id": "68f3fd59-0c43-468f-89b4-6335568cd238",
   "metadata": {},
   "outputs": [],
   "source": [
    "#Question4"
   ]
  },
  {
   "cell_type": "code",
   "execution_count": 25,
   "id": "313df9f2-4552-4f8e-b3d5-f208620138d6",
   "metadata": {},
   "outputs": [],
   "source": [
    "class Geek:\n",
    "    def __init__(self, age = 0):\n",
    "         self._age = age\n",
    "      \n",
    "    # getter method\n",
    "    def get_age(self):\n",
    "        return self._age\n",
    "      \n",
    "    # setter method\n",
    "    def set_age(self, x):\n",
    "        self._age = x\n",
    "  "
   ]
  },
  {
   "cell_type": "code",
   "execution_count": 26,
   "id": "e4445b01-0a3d-4223-995c-e4ef144b7a00",
   "metadata": {},
   "outputs": [
    {
     "name": "stdout",
     "output_type": "stream",
     "text": [
      "21\n",
      "21\n"
     ]
    }
   ],
   "source": [
    "raj = Geek()\n",
    "  \n",
    " # setting the age using setter\n",
    "raj.set_age(21)\n",
    "  \n",
    "# retrieving age using getter\n",
    "print(raj.get_age())\n",
    "  \n",
    "print(raj._age)"
   ]
  },
  {
   "cell_type": "code",
   "execution_count": 32,
   "id": "aa59442b-ed3d-4cb2-9f68-4bc7ab894cc6",
   "metadata": {},
   "outputs": [],
   "source": [
    "#using @property decorators\n",
    "class Geeks:\n",
    "    def __init__(self):\n",
    "        self._age = 0\n",
    "       \n",
    "     # using property decorator\n",
    "     # a getter function\n",
    "    @property\n",
    "    def age(self):\n",
    "            print(\"getter method called\")\n",
    "            return self._age\n",
    "       \n",
    "     # a setter function\n",
    "    @age.setter\n",
    "    def age(self, a):\n",
    "            if(a < 18):\n",
    "                raise ValueError(\"Sorry you age is below eligibility criteria\")\n",
    "            print(\"setter method called\")\n",
    "            self._age = a\n",
    "  "
   ]
  },
  {
   "cell_type": "code",
   "execution_count": 33,
   "id": "3f67a8db-45ea-4fa0-b25c-72e929edd81d",
   "metadata": {},
   "outputs": [
    {
     "name": "stdout",
     "output_type": "stream",
     "text": [
      "setter method called\n",
      "getter method called\n",
      "19\n"
     ]
    }
   ],
   "source": [
    "mark = Geeks()\n",
    "  \n",
    "mark.age = 19\n",
    "  \n",
    "print(mark.age)"
   ]
  },
  {
   "cell_type": "code",
   "execution_count": null,
   "id": "07b8fdb6-286c-4f0f-b101-616406d79288",
   "metadata": {},
   "outputs": [],
   "source": []
  },
  {
   "cell_type": "code",
   "execution_count": null,
   "id": "6b12331c-11f0-4d37-adda-d5d268539a7f",
   "metadata": {},
   "outputs": [],
   "source": [
    "#Question5\n",
    "#When a child class method overrides(or, provides it's own implementation) the parent class method of the same name, parameters and return type, it is known as method overriding.\n",
    "\n",
    "#In this case, the child class's method is called the overriding method and the parent class's method is called the overriden method."
   ]
  },
  {
   "cell_type": "code",
   "execution_count": 34,
   "id": "208fb8d3-f3ef-4a76-8f3c-1c7a4eaac8d7",
   "metadata": {},
   "outputs": [],
   "source": [
    "class Shape:\n",
    "    # properties \n",
    "    data1 = \"abc\"\n",
    "\n",
    "    # function no_of_sides \n",
    "    def no_of_sides(self):\n",
    "        print(\"My sides need to be defined. I am from shape class.\")\n",
    "\n",
    "    # function two_dimensional \n",
    "    def two_dimensional(self):\n",
    "        print(\"I am a 2D object. I am from shape class\")\n",
    "        \n",
    "class Square (Shape):\n",
    "    data2 = \"XYZ\"\n",
    "\n",
    "    def no_of_sides (self):\n",
    "        print(\"I have 4 sides. I am from Square class\")\n",
    "\n",
    "    def color(self):\n",
    "        print(\"I have teal color. I am from Square class.\")        "
   ]
  },
  {
   "cell_type": "code",
   "execution_count": null,
   "id": "87bac401-e0ef-43a8-9c53-cbfd61a43d32",
   "metadata": {},
   "outputs": [],
   "source": [
    "# Create an object of Square class \n",
    "sq = Square() \n",
    "# Override the no_of_sides of parent class \n",
    "sq.no_of_sides() \n",
    "# Will inherit this method from the parent class\n",
    "sq.two_dimensional() \n",
    "# It's own method color \n",
    "sq.color()"
   ]
  }
 ],
 "metadata": {
  "kernelspec": {
   "display_name": "Python 3 (ipykernel)",
   "language": "python",
   "name": "python3"
  },
  "language_info": {
   "codemirror_mode": {
    "name": "ipython",
    "version": 3
   },
   "file_extension": ".py",
   "mimetype": "text/x-python",
   "name": "python",
   "nbconvert_exporter": "python",
   "pygments_lexer": "ipython3",
   "version": "3.10.8"
  }
 },
 "nbformat": 4,
 "nbformat_minor": 5
}
