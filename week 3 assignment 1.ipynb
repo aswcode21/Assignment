{
 "cells": [
  {
   "cell_type": "code",
   "execution_count": null,
   "id": "c5546a3c-275c-4a00-a623-41b6cf751972",
   "metadata": {},
   "outputs": [],
   "source": [
    "#Python assignment Questions"
   ]
  },
  {
   "cell_type": "code",
   "execution_count": null,
   "id": "82c83611-ff03-4be0-a6ca-9414fa5909d6",
   "metadata": {},
   "outputs": [],
   "source": [
    "#Question1"
   ]
  },
  {
   "cell_type": "code",
   "execution_count": 27,
   "id": "bebe7ada-974f-46a6-9eca-1d5a22ae0c04",
   "metadata": {},
   "outputs": [],
   "source": [
    "#def keyword is used to create a function in python\n",
    "def odd_list():\n",
    "    l1=[]\n",
    "    for i in range(1,25):\n",
    "        if i%2!=0:\n",
    "              l1.append(i)\n",
    "    return l1                    "
   ]
  },
  {
   "cell_type": "code",
   "execution_count": 28,
   "id": "56838291-f03e-4338-9870-127bcf9349d7",
   "metadata": {},
   "outputs": [],
   "source": [
    "l2=odd_list()"
   ]
  },
  {
   "cell_type": "code",
   "execution_count": 29,
   "id": "2b7df025-cdfe-4aaa-bb78-de41578b16b8",
   "metadata": {},
   "outputs": [
    {
     "data": {
      "text/plain": [
       "[1, 3, 5, 7, 9, 11, 13, 15, 17, 19, 21, 23]"
      ]
     },
     "execution_count": 29,
     "metadata": {},
     "output_type": "execute_result"
    }
   ],
   "source": [
    "l2"
   ]
  },
  {
   "cell_type": "code",
   "execution_count": null,
   "id": "14034f46-aa27-4c29-a54c-da73e98f1d01",
   "metadata": {},
   "outputs": [],
   "source": []
  },
  {
   "cell_type": "code",
   "execution_count": 30,
   "id": "7833ad24-e760-4047-95a3-8b4d59d48c25",
   "metadata": {},
   "outputs": [],
   "source": [
    "#Question2"
   ]
  },
  {
   "cell_type": "code",
   "execution_count": null,
   "id": "2c2db0d6-e6aa-49ea-a1c4-1e864f34c515",
   "metadata": {},
   "outputs": [],
   "source": [
    "\"\"\"*args in function definitions in Python is used to pass a variable number of arguments to a function\"\"\""
   ]
  },
  {
   "cell_type": "code",
   "execution_count": null,
   "id": "fd39d790-7d03-497e-ac8f-029c247d1168",
   "metadata": {},
   "outputs": [],
   "source": [
    "\"\"\"maps each keyword to the value that we pass alongside it \"\"\""
   ]
  },
  {
   "cell_type": "code",
   "execution_count": 31,
   "id": "4d7d7421-d09e-4532-8bd5-8e13ed6674aa",
   "metadata": {},
   "outputs": [],
   "source": [
    "def test11(*args):\n",
    "    return args"
   ]
  },
  {
   "cell_type": "code",
   "execution_count": 32,
   "id": "c725ca10-4e71-4c9d-a1b0-9d48bd25fc95",
   "metadata": {},
   "outputs": [
    {
     "data": {
      "text/plain": [
       "(1, 2, 3)"
      ]
     },
     "execution_count": 32,
     "metadata": {},
     "output_type": "execute_result"
    }
   ],
   "source": [
    "test11(1,2,3)"
   ]
  },
  {
   "cell_type": "code",
   "execution_count": 33,
   "id": "c6e31d9e-f67f-4a76-b4c4-5a7473b778e7",
   "metadata": {},
   "outputs": [],
   "source": [
    "def test15(**kwargs):\n",
    "    return kwargs"
   ]
  },
  {
   "cell_type": "code",
   "execution_count": 35,
   "id": "6946d379-b989-419f-8f42-1ef7fda56844",
   "metadata": {},
   "outputs": [
    {
     "data": {
      "text/plain": [
       "{'a': [1, 2, 3, 4], 'b': 'aman', 'c': 23.45}"
      ]
     },
     "execution_count": 35,
     "metadata": {},
     "output_type": "execute_result"
    }
   ],
   "source": [
    "test15(a=[1,2,3,4],b='aman',c=23.45)"
   ]
  },
  {
   "cell_type": "code",
   "execution_count": null,
   "id": "8cc4c508-b337-4001-8ddb-8327a763e63e",
   "metadata": {},
   "outputs": [],
   "source": []
  },
  {
   "cell_type": "code",
   "execution_count": null,
   "id": "3b6cd9ca-fba8-455f-b10f-ccdbf2ef1ec3",
   "metadata": {},
   "outputs": [],
   "source": [
    "#Question3"
   ]
  },
  {
   "cell_type": "code",
   "execution_count": 36,
   "id": "84f49a1f-522c-4744-86db-4e924ca43165",
   "metadata": {},
   "outputs": [],
   "source": [
    "#An iterator in Python is an object that is used to iterate over iterable objects like lists, tuples, dicts, and sets\n",
    "#The Python iterators object is initialized using the iter() method"
   ]
  },
  {
   "cell_type": "code",
   "execution_count": 47,
   "id": "e320782e-07d8-4179-9596-2674d58781f4",
   "metadata": {},
   "outputs": [
    {
     "data": {
      "text/plain": [
       "'P'"
      ]
     },
     "execution_count": 47,
     "metadata": {},
     "output_type": "execute_result"
    }
   ],
   "source": [
    "string = \"PWSKILLS\"\n",
    "ch_iterator = iter(string)\n",
    "next(ch_iterator)"
   ]
  },
  {
   "cell_type": "code",
   "execution_count": 48,
   "id": "f08e182a-70b4-443a-82db-f38da9887ccb",
   "metadata": {},
   "outputs": [
    {
     "data": {
      "text/plain": [
       "'W'"
      ]
     },
     "execution_count": 48,
     "metadata": {},
     "output_type": "execute_result"
    }
   ],
   "source": [
    "next(ch_iterator)"
   ]
  },
  {
   "cell_type": "code",
   "execution_count": 49,
   "id": "7751dc91-f858-43ca-a4f3-76aa92353b40",
   "metadata": {},
   "outputs": [
    {
     "data": {
      "text/plain": [
       "'S'"
      ]
     },
     "execution_count": 49,
     "metadata": {},
     "output_type": "execute_result"
    }
   ],
   "source": [
    "next(ch_iterator)"
   ]
  },
  {
   "cell_type": "code",
   "execution_count": 1,
   "id": "ee65bc84-1688-4fc3-95e1-37a3cc58a220",
   "metadata": {},
   "outputs": [],
   "source": [
    "l=[2,4,6,8,10,12,14,16,18,20]"
   ]
  },
  {
   "cell_type": "code",
   "execution_count": 2,
   "id": "4254c17a-0b18-481e-aa87-80601e486755",
   "metadata": {},
   "outputs": [],
   "source": [
    "a=iter(l)"
   ]
  },
  {
   "cell_type": "code",
   "execution_count": 3,
   "id": "1b17e53a-4960-4a49-9108-b1051ddb6f87",
   "metadata": {},
   "outputs": [
    {
     "data": {
      "text/plain": [
       "2"
      ]
     },
     "execution_count": 3,
     "metadata": {},
     "output_type": "execute_result"
    }
   ],
   "source": [
    "next(a)"
   ]
  },
  {
   "cell_type": "code",
   "execution_count": 4,
   "id": "f99e72e0-90f0-48aa-ba27-0358fe21a9e2",
   "metadata": {},
   "outputs": [
    {
     "data": {
      "text/plain": [
       "4"
      ]
     },
     "execution_count": 4,
     "metadata": {},
     "output_type": "execute_result"
    }
   ],
   "source": [
    "next(a)"
   ]
  },
  {
   "cell_type": "code",
   "execution_count": 5,
   "id": "c45795e0-ad88-41bb-81d4-c981b2c49042",
   "metadata": {},
   "outputs": [
    {
     "data": {
      "text/plain": [
       "6"
      ]
     },
     "execution_count": 5,
     "metadata": {},
     "output_type": "execute_result"
    }
   ],
   "source": [
    "next(a)"
   ]
  },
  {
   "cell_type": "code",
   "execution_count": 6,
   "id": "208a97ca-88a1-474e-826b-e874e43c5fac",
   "metadata": {},
   "outputs": [
    {
     "data": {
      "text/plain": [
       "8"
      ]
     },
     "execution_count": 6,
     "metadata": {},
     "output_type": "execute_result"
    }
   ],
   "source": [
    "next(a)"
   ]
  },
  {
   "cell_type": "code",
   "execution_count": 7,
   "id": "5623aa68-0969-445e-a17b-b241d5b07b99",
   "metadata": {},
   "outputs": [
    {
     "data": {
      "text/plain": [
       "10"
      ]
     },
     "execution_count": 7,
     "metadata": {},
     "output_type": "execute_result"
    }
   ],
   "source": [
    "next(a)"
   ]
  },
  {
   "cell_type": "code",
   "execution_count": 11,
   "id": "fb29c4bb-d0a0-4f44-8b6e-17e07af341ae",
   "metadata": {},
   "outputs": [
    {
     "name": "stdout",
     "output_type": "stream",
     "text": [
      "2\n",
      "4\n",
      "6\n",
      "8\n",
      "10\n"
     ]
    }
   ],
   "source": [
    "for i in range(0,5):\n",
    "    print(l[i])"
   ]
  },
  {
   "cell_type": "code",
   "execution_count": null,
   "id": "45578f4b-7834-4479-9758-69de8eaf259b",
   "metadata": {},
   "outputs": [],
   "source": []
  },
  {
   "cell_type": "code",
   "execution_count": 8,
   "id": "4238c695-e619-430d-9a80-365b002cdfe3",
   "metadata": {},
   "outputs": [],
   "source": [
    "#Question4"
   ]
  },
  {
   "cell_type": "code",
   "execution_count": null,
   "id": "1404e809-7791-467a-8fd1-72ce0f381e2b",
   "metadata": {},
   "outputs": [],
   "source": [
    "# A generator is a function that returns an iterator that produces a sequence of values when iterated over.\n",
    "# Generators are useful when we want to produce a large sequence of values, but we don't want to store all of them in memory at once."
   ]
  },
  {
   "cell_type": "code",
   "execution_count": 67,
   "id": "9f7e4d8a-bbd8-4509-8fb8-4798ee287cbc",
   "metadata": {},
   "outputs": [],
   "source": [
    "# The yield keyword is used to produce a value from the generator and pause the generator function's execution until the next value is requested."
   ]
  },
  {
   "cell_type": "code",
   "execution_count": 12,
   "id": "9ec0fdad-cfb4-4912-9266-56d3f90aa8ed",
   "metadata": {},
   "outputs": [],
   "source": [
    "def test_fib1():\n",
    "    a,b=0,1\n",
    "    while True:\n",
    "        yield a\n",
    "        a,b=b,a+b"
   ]
  },
  {
   "cell_type": "code",
   "execution_count": 3,
   "id": "5d55dfdf-5f21-4290-a82d-89e98c518bb1",
   "metadata": {},
   "outputs": [
    {
     "name": "stdout",
     "output_type": "stream",
     "text": [
      "0\n",
      "1\n",
      "1\n",
      "2\n",
      "3\n",
      "5\n",
      "8\n",
      "13\n",
      "21\n",
      "34\n"
     ]
    }
   ],
   "source": [
    "def test_fib1():\n",
    "    a,b=0,1\n",
    "    while True:\n",
    "        yield a\n",
    "        a,b=b,a+b\n",
    "fib=test_fib1()\n",
    "for i in range(10):\n",
    "    print(next(fib))"
   ]
  },
  {
   "cell_type": "code",
   "execution_count": null,
   "id": "cc172076-1218-4615-a292-7712fdd038e5",
   "metadata": {},
   "outputs": [],
   "source": []
  },
  {
   "cell_type": "code",
   "execution_count": 4,
   "id": "686d260c-0ccd-4bea-9a2d-29c27cd36d1b",
   "metadata": {},
   "outputs": [],
   "source": [
    "#Question5"
   ]
  },
  {
   "cell_type": "code",
   "execution_count": 16,
   "id": "91c09a9c-5f37-45aa-b76d-b6ea29ccfab5",
   "metadata": {},
   "outputs": [
    {
     "name": "stdout",
     "output_type": "stream",
     "text": [
      "2 is a prime number!\n",
      "3 is a prime number!\n",
      "5 is a prime number!\n",
      "7 is a prime number!\n",
      "11 is a prime number!\n",
      "13 is a prime number!\n",
      "17 is a prime number!\n",
      "19 is a prime number!\n",
      "23 is a prime number!\n",
      "29 is a prime number!\n",
      "31 is a prime number!\n",
      "37 is a prime number!\n",
      "41 is a prime number!\n",
      "43 is a prime number!\n",
      "47 is a prime number!\n",
      "53 is a prime number!\n",
      "59 is a prime number!\n",
      "61 is a prime number!\n",
      "67 is a prime number!\n",
      "71 is a prime number!\n",
      "73 is a prime number!\n",
      "79 is a prime number!\n",
      "83 is a prime number!\n",
      "89 is a prime number!\n",
      "97 is a prime number!\n",
      "101 is a prime number!\n",
      "103 is a prime number!\n",
      "107 is a prime number!\n",
      "109 is a prime number!\n",
      "113 is a prime number!\n",
      "127 is a prime number!\n",
      "131 is a prime number!\n",
      "137 is a prime number!\n",
      "139 is a prime number!\n",
      "149 is a prime number!\n",
      "151 is a prime number!\n",
      "157 is a prime number!\n",
      "163 is a prime number!\n",
      "167 is a prime number!\n",
      "173 is a prime number!\n",
      "179 is a prime number!\n",
      "181 is a prime number!\n",
      "191 is a prime number!\n",
      "193 is a prime number!\n",
      "197 is a prime number!\n",
      "199 is a prime number!\n",
      "211 is a prime number!\n",
      "223 is a prime number!\n",
      "227 is a prime number!\n",
      "229 is a prime number!\n",
      "233 is a prime number!\n",
      "239 is a prime number!\n",
      "241 is a prime number!\n",
      "251 is a prime number!\n",
      "257 is a prime number!\n",
      "263 is a prime number!\n",
      "269 is a prime number!\n",
      "271 is a prime number!\n",
      "277 is a prime number!\n",
      "281 is a prime number!\n",
      "283 is a prime number!\n",
      "293 is a prime number!\n",
      "307 is a prime number!\n",
      "311 is a prime number!\n",
      "313 is a prime number!\n",
      "317 is a prime number!\n",
      "331 is a prime number!\n",
      "337 is a prime number!\n",
      "347 is a prime number!\n",
      "349 is a prime number!\n",
      "353 is a prime number!\n",
      "359 is a prime number!\n",
      "367 is a prime number!\n",
      "373 is a prime number!\n",
      "379 is a prime number!\n",
      "383 is a prime number!\n",
      "389 is a prime number!\n",
      "397 is a prime number!\n",
      "401 is a prime number!\n",
      "409 is a prime number!\n",
      "419 is a prime number!\n",
      "421 is a prime number!\n",
      "431 is a prime number!\n",
      "433 is a prime number!\n",
      "439 is a prime number!\n",
      "443 is a prime number!\n",
      "449 is a prime number!\n",
      "457 is a prime number!\n",
      "461 is a prime number!\n",
      "463 is a prime number!\n",
      "467 is a prime number!\n",
      "479 is a prime number!\n",
      "487 is a prime number!\n",
      "491 is a prime number!\n",
      "499 is a prime number!\n",
      "503 is a prime number!\n",
      "509 is a prime number!\n",
      "521 is a prime number!\n",
      "523 is a prime number!\n",
      "541 is a prime number!\n",
      "547 is a prime number!\n",
      "557 is a prime number!\n",
      "563 is a prime number!\n",
      "569 is a prime number!\n",
      "571 is a prime number!\n",
      "577 is a prime number!\n",
      "587 is a prime number!\n",
      "593 is a prime number!\n",
      "599 is a prime number!\n",
      "601 is a prime number!\n",
      "607 is a prime number!\n",
      "613 is a prime number!\n",
      "617 is a prime number!\n",
      "619 is a prime number!\n",
      "631 is a prime number!\n",
      "641 is a prime number!\n",
      "643 is a prime number!\n",
      "647 is a prime number!\n",
      "653 is a prime number!\n",
      "659 is a prime number!\n",
      "661 is a prime number!\n",
      "673 is a prime number!\n",
      "677 is a prime number!\n",
      "683 is a prime number!\n",
      "691 is a prime number!\n",
      "701 is a prime number!\n",
      "709 is a prime number!\n",
      "719 is a prime number!\n",
      "727 is a prime number!\n",
      "733 is a prime number!\n",
      "739 is a prime number!\n",
      "743 is a prime number!\n",
      "751 is a prime number!\n",
      "757 is a prime number!\n",
      "761 is a prime number!\n",
      "769 is a prime number!\n",
      "773 is a prime number!\n",
      "787 is a prime number!\n",
      "797 is a prime number!\n",
      "809 is a prime number!\n",
      "811 is a prime number!\n",
      "821 is a prime number!\n",
      "823 is a prime number!\n",
      "827 is a prime number!\n",
      "829 is a prime number!\n",
      "839 is a prime number!\n",
      "853 is a prime number!\n",
      "857 is a prime number!\n",
      "859 is a prime number!\n",
      "863 is a prime number!\n",
      "877 is a prime number!\n",
      "881 is a prime number!\n",
      "883 is a prime number!\n",
      "887 is a prime number!\n",
      "907 is a prime number!\n",
      "911 is a prime number!\n",
      "919 is a prime number!\n",
      "929 is a prime number!\n",
      "937 is a prime number!\n",
      "941 is a prime number!\n",
      "947 is a prime number!\n",
      "953 is a prime number!\n",
      "967 is a prime number!\n",
      "971 is a prime number!\n",
      "977 is a prime number!\n",
      "983 is a prime number!\n",
      "991 is a prime number!\n",
      "997 is a prime number!\n"
     ]
    }
   ],
   "source": [
    "for num in range(1,1001):\n",
    "    if num > 1:\n",
    "        for i in range(2,num):\n",
    "            if (num % i) == 0:\n",
    "                break\n",
    "        else:\n",
    "            print(num,\"is a prime number!\")\n"
   ]
  },
  {
   "cell_type": "code",
   "execution_count": 115,
   "id": "4b5ce6f2-3803-4100-8328-1b8217fe7ef9",
   "metadata": {},
   "outputs": [],
   "source": [
    "def genprimes(limit):  \n",
    "                      \n",
    "    D = {}            \n",
    "    q = 2\n",
    "\n",
    "    while q <= limit:\n",
    "        if q not in D:\n",
    "           # yield q\n",
    "            D[q * q] = [q]\n",
    "        else:\n",
    "            for p in D[q]:\n",
    "                D.setdefault(p + q, []).append(p)\n",
    "            del D[q]\n",
    "        q += 1\n",
    "    return D    \n",
    "    \n",
    "mySet = genprimes(1000)\n",
    "    \n",
    "count = 0\n",
    "for elem in iter(mySet):\n",
    "    count = count + 1\n",
    "    if count == 20:\n",
    "        break\n",
    "        print(elem)"
   ]
  },
  {
   "cell_type": "code",
   "execution_count": null,
   "id": "17d72806-79de-4e57-b115-9ca9a4fa133c",
   "metadata": {},
   "outputs": [],
   "source": []
  },
  {
   "cell_type": "code",
   "execution_count": null,
   "id": "7d71a83d-edf1-4adc-9fc3-9411e87a72a4",
   "metadata": {},
   "outputs": [],
   "source": [
    "#Question 6"
   ]
  },
  {
   "cell_type": "code",
   "execution_count": 109,
   "id": "97c953c9-f85a-49ee-a835-b9773d43ae47",
   "metadata": {},
   "outputs": [
    {
     "name": "stdout",
     "output_type": "stream",
     "text": [
      "0\n",
      "1\n",
      "1\n",
      "2\n",
      "3\n",
      "5\n",
      "8\n",
      "13\n",
      "21\n",
      "34\n"
     ]
    }
   ],
   "source": [
    "def test_fib1():\n",
    "    a,b=0,1\n",
    "    while True:\n",
    "        yield a\n",
    "        a,b=b,a+b\n",
    "fib=test_fib1()\n",
    "for i in range(10):\n",
    "    print(next(fib))"
   ]
  },
  {
   "cell_type": "code",
   "execution_count": null,
   "id": "92632da2-a4a1-4a11-b378-bef5d8b85d03",
   "metadata": {},
   "outputs": [],
   "source": []
  },
  {
   "cell_type": "code",
   "execution_count": null,
   "id": "79ab1655-cf39-43e1-b87f-9be464640021",
   "metadata": {},
   "outputs": [],
   "source": [
    "#Question7"
   ]
  },
  {
   "cell_type": "code",
   "execution_count": 117,
   "id": "e97063a0-ba00-4d20-b131-c8d9260b4142",
   "metadata": {},
   "outputs": [
    {
     "name": "stdout",
     "output_type": "stream",
     "text": [
      "['P', 'W', 'S', 'K', 'I', 'L', 'L', 'S']\n"
     ]
    }
   ],
   "source": [
    "h_letters = []\n",
    "\n",
    "for letter in 'PWSKILLS':\n",
    "    h_letters.append(letter)\n",
    "\n",
    "print(h_letters)"
   ]
  },
  {
   "cell_type": "code",
   "execution_count": null,
   "id": "c6bfe36f-f5c8-4010-b81f-08d539eef555",
   "metadata": {},
   "outputs": [],
   "source": []
  },
  {
   "cell_type": "code",
   "execution_count": null,
   "id": "3acb3332-6382-45d8-81d2-2c066a3a04d3",
   "metadata": {},
   "outputs": [],
   "source": [
    "#Question 8"
   ]
  },
  {
   "cell_type": "code",
   "execution_count": null,
   "id": "9eb0d2aa-2db1-4c3c-861a-8672723933d7",
   "metadata": {},
   "outputs": [],
   "source": []
  }
 ],
 "metadata": {
  "kernelspec": {
   "display_name": "Python 3 (ipykernel)",
   "language": "python",
   "name": "python3"
  },
  "language_info": {
   "codemirror_mode": {
    "name": "ipython",
    "version": 3
   },
   "file_extension": ".py",
   "mimetype": "text/x-python",
   "name": "python",
   "nbconvert_exporter": "python",
   "pygments_lexer": "ipython3",
   "version": "3.10.8"
  }
 },
 "nbformat": 4,
 "nbformat_minor": 5
}
