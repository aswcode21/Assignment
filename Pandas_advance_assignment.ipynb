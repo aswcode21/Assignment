{
 "cells": [
  {
   "cell_type": "code",
   "execution_count": 1,
   "id": "f70ca3c7-766d-41ff-8f99-283c1361dbb6",
   "metadata": {},
   "outputs": [],
   "source": [
    "#Q1"
   ]
  },
  {
   "cell_type": "code",
   "execution_count": null,
   "id": "792d8a41-1bfe-43ce-a696-008a58731cbd",
   "metadata": {},
   "outputs": [],
   "source": [
    "read_csv(): This function is used to read data from a CSV file and create a pandas DataFrame.\n",
    "import pandas as pd\n",
    "\n",
    "# Read the CSV file into a DataFrame\n",
    "data = pd.read_csv('data.csv')\n",
    "print(data)"
   ]
  },
  {
   "cell_type": "code",
   "execution_count": null,
   "id": "95b71c61-4466-4b49-9209-94e3584e1684",
   "metadata": {},
   "outputs": [],
   "source": [
    "head(): This function is used to view the first few rows of a DataFrame.\n",
    "import pandas as pd\n",
    "\n",
    "# Create a DataFrame\n",
    "data = pd.DataFrame({'Name': ['Alice', 'Bob', 'Charlie'],\n",
    "                     'Age': [25, 30, 35],\n",
    "                     'Country': ['USA', 'Canada', 'UK']})\n",
    "\n",
    "# Display the first 2 rows of the DataFrame\n",
    "print(data.head(2))"
   ]
  },
  {
   "cell_type": "code",
   "execution_count": null,
   "id": "dc9d32c3-314e-4a82-9e2d-b7315a40c011",
   "metadata": {},
   "outputs": [],
   "source": [
    "describe(): This function generates descriptive statistics of a DataFrame, such as count, mean, min, max, etc.\n",
    "import pandas as pd\n",
    "\n",
    "# Create a DataFrame\n",
    "data = pd.DataFrame({'Age': [25, 30, 35, 40, 45]})\n",
    "\n",
    "# Generate descriptive statistics\n",
    "print(data.describe())"
   ]
  },
  {
   "cell_type": "code",
   "execution_count": null,
   "id": "197584c2-a667-4d32-8c84-c06d15ad066b",
   "metadata": {},
   "outputs": [],
   "source": [
    "groupby(): This function is used for grouping rows based on one or more columns in a DataFrame.\n",
    "import pandas as pd\n",
    "\n",
    "# Create a DataFrame\n",
    "data = pd.DataFrame({'Name': ['Alice', 'Bob', 'Charlie', 'Alice', 'Bob'],\n",
    "                     'Age': [25, 30, 35, 40, 45],\n",
    "                     'Country': ['USA', 'Canada', 'UK', 'USA', 'Canada']})\n",
    "\n",
    "# Group the DataFrame by 'Name' column\n",
    "grouped_data = data.groupby('Name')\n",
    "\n",
    "# Iterate over the groups\n",
    "for name, group in grouped_data:\n",
    "    print(f\"Group: {name}\")\n",
    "    print(group)"
   ]
  },
  {
   "cell_type": "code",
   "execution_count": null,
   "id": "390d72ba-6b67-4272-9642-32bb85d0aee8",
   "metadata": {},
   "outputs": [],
   "source": [
    "to_csv(): This function is used to write the contents of a DataFrame to a CSV file.\n",
    "import pandas as pd\n",
    "\n",
    "# Create a DataFrame\n",
    "data = pd.DataFrame({'Name': ['Alice', 'Bob', 'Charlie'],\n",
    "                     'Age': [25, 30, 35],\n",
    "                     'Country': ['USA', 'Canada', 'UK']})\n",
    "\n",
    "# Write the DataFrame to a CSV file\n",
    "data.to_csv('output.csv', index=False)"
   ]
  },
  {
   "cell_type": "code",
   "execution_count": null,
   "id": "39a441ca-5228-41d9-858b-4189d19beed8",
   "metadata": {},
   "outputs": [],
   "source": []
  },
  {
   "cell_type": "code",
   "execution_count": null,
   "id": "4fc63960-5dae-4844-a971-d21fd4a620e4",
   "metadata": {},
   "outputs": [],
   "source": [
    "#Q2"
   ]
  },
  {
   "cell_type": "code",
   "execution_count": 3,
   "id": "9aad01f8-9557-45f6-a5f2-2a3beb977f78",
   "metadata": {},
   "outputs": [
    {
     "name": "stdout",
     "output_type": "stream",
     "text": [
      "    A   B   C\n",
      "1  10  40  70\n",
      "3  20  50  80\n",
      "5  30  60  90\n"
     ]
    }
   ],
   "source": [
    "import pandas as pd\n",
    "\n",
    "def reindex_dataframe(df):\n",
    "    # Reset the index with a new index starting from 1 and incrementing by 2\n",
    "    df.index = pd.RangeIndex(start=1, step=2, stop=len(df)*2 + 1)\n",
    "    return df\n",
    "\n",
    "# Example usage:\n",
    "# Assuming you have a DataFrame named 'df' with columns 'A', 'B', and 'C'\n",
    "df = pd.DataFrame({'A': [10, 20, 30], 'B': [40, 50, 60], 'C': [70, 80, 90]})\n",
    "reindexed_df = reindex_dataframe(df)\n",
    "print(reindexed_df)"
   ]
  },
  {
   "cell_type": "code",
   "execution_count": null,
   "id": "a53f9842-4340-465e-8d8e-bc6044ca1d9d",
   "metadata": {},
   "outputs": [],
   "source": []
  },
  {
   "cell_type": "code",
   "execution_count": null,
   "id": "186ea0b0-8e2c-4c7c-bda0-10cc915a2bfc",
   "metadata": {},
   "outputs": [],
   "source": [
    "#Q3"
   ]
  },
  {
   "cell_type": "code",
   "execution_count": 4,
   "id": "13e046d9-4af8-4e80-a397-ee9740973a1f",
   "metadata": {},
   "outputs": [
    {
     "name": "stdout",
     "output_type": "stream",
     "text": [
      "Sum of the first three values: 60\n"
     ]
    }
   ],
   "source": [
    "import pandas as pd\n",
    "\n",
    "def calculate_sum_of_values(df):\n",
    "    # Access the 'Values' column and calculate the sum of the first three values\n",
    "    values_sum = df['Values'].head(3).sum()\n",
    "    print(\"Sum of the first three values:\", values_sum)\n",
    "\n",
    "# Example usage:\n",
    "# Assuming you have a DataFrame named 'df' with a column 'Values'\n",
    "df = pd.DataFrame({'Values': [10, 20, 30, 40, 50]})\n",
    "calculate_sum_of_values(df)\n"
   ]
  },
  {
   "cell_type": "code",
   "execution_count": null,
   "id": "caf47315-8f64-4e52-a100-6ea82957de0e",
   "metadata": {},
   "outputs": [],
   "source": []
  },
  {
   "cell_type": "code",
   "execution_count": 5,
   "id": "31ac545b-05e2-41b9-afa5-610c5f2480f8",
   "metadata": {},
   "outputs": [],
   "source": [
    "#Q4"
   ]
  },
  {
   "cell_type": "code",
   "execution_count": 6,
   "id": "08c5803f-c78a-4b26-a6f0-24507e688b64",
   "metadata": {},
   "outputs": [
    {
     "name": "stdout",
     "output_type": "stream",
     "text": [
      "                          Text  Word_Count\n",
      "0          Hello, how are you?           4\n",
      "1             I am doing well.           4\n",
      "2  This is a pandas DataFrame.           5\n"
     ]
    }
   ],
   "source": [
    "import pandas as pd\n",
    "\n",
    "def add_word_count_column(df):\n",
    "    # Split the 'Text' column by whitespace and count the number of resulting words\n",
    "    df['Word_Count'] = df['Text'].str.split().str.len()\n",
    "    return df\n",
    "\n",
    "# Example usage:\n",
    "# Assuming you have a DataFrame named 'df' with a column 'Text'\n",
    "df = pd.DataFrame({'Text': ['Hello, how are you?', 'I am doing well.', 'This is a pandas DataFrame.']})\n",
    "df = add_word_count_column(df)\n",
    "print(df)"
   ]
  },
  {
   "cell_type": "code",
   "execution_count": null,
   "id": "7f45ce68-1f1b-42b5-b234-75e5b527ad29",
   "metadata": {},
   "outputs": [],
   "source": []
  },
  {
   "cell_type": "code",
   "execution_count": null,
   "id": "71aed833-879d-405e-bcac-2a27754b8ac2",
   "metadata": {},
   "outputs": [],
   "source": [
    "#Q5"
   ]
  },
  {
   "cell_type": "code",
   "execution_count": null,
   "id": "aed4a4a7-aafa-4210-a248-7501fcefb641",
   "metadata": {},
   "outputs": [],
   "source": [
    "# DataFrame.size returns the total number of elements in the DataFrame.\n",
    "# It gives the product of the number of rows and columns in the DataFrame.\n",
    "# The returned value is an integer representing the size of the DataFrame.\n",
    "# It does not provide information about the shape or structure of the DataFrame."
   ]
  },
  {
   "cell_type": "code",
   "execution_count": null,
   "id": "5288875d-2aef-4e4c-b722-0586db4eeff1",
   "metadata": {},
   "outputs": [],
   "source": [
    "# DataFrame.shape returns a tuple representing the dimensions of the DataFrame.\n",
    "# It provides the number of rows followed by the number of columns in the DataFrame.\n",
    "# The returned value is a tuple in the format (rows, columns).\n",
    "# It is a useful attribute to quickly understand the structure and shape of the DataFrame."
   ]
  },
  {
   "cell_type": "code",
   "execution_count": 1,
   "id": "b3341820-df1b-486b-ba7a-07aa7a372695",
   "metadata": {},
   "outputs": [
    {
     "name": "stdout",
     "output_type": "stream",
     "text": [
      "DataFrame.size: 9\n",
      "DataFrame.shape: (3, 3)\n"
     ]
    }
   ],
   "source": [
    "import pandas as pd\n",
    "\n",
    "# Example DataFrame\n",
    "df = pd.DataFrame({'A': [1, 2, 3], 'B': [4, 5, 6], 'C': [7, 8, 9]})\n",
    "\n",
    "# Example 1: DataFrame.size\n",
    "size = df.size\n",
    "print(\"DataFrame.size:\", size)\n",
    "# Output: DataFrame.size: 9\n",
    "# The DataFrame has 3 rows and 3 columns, so the size is 3 * 3 = 9.\n",
    "\n",
    "# Example 2: DataFrame.shape\n",
    "shape = df.shape\n",
    "print(\"DataFrame.shape:\", shape)\n",
    "# Output: DataFrame.shape: (3, 3)\n",
    "# The DataFrame has 3 rows and 3 columns, so the shape is (3, 3)."
   ]
  },
  {
   "cell_type": "code",
   "execution_count": null,
   "id": "cb48f111-063d-4a10-827f-49a3ec483a02",
   "metadata": {},
   "outputs": [],
   "source": []
  },
  {
   "cell_type": "code",
   "execution_count": null,
   "id": "e9aed77b-5bc1-4cfe-8fe2-df2939e67061",
   "metadata": {},
   "outputs": [],
   "source": [
    "#Q6"
   ]
  },
  {
   "cell_type": "code",
   "execution_count": null,
   "id": "acbabba3-326c-42ab-822f-42914691fb6c",
   "metadata": {},
   "outputs": [],
   "source": [
    "# To read an Excel file in pandas, you can use the read_excel() function. \n",
    "# This function allows you to read the contents of an Excel file into a pandas DataFrame."
   ]
  },
  {
   "cell_type": "code",
   "execution_count": 2,
   "id": "6306b134-25f3-47d8-b111-d80d8500f97c",
   "metadata": {},
   "outputs": [
    {
     "name": "stdout",
     "output_type": "stream",
     "text": [
      "       EEID        Full Name                 Job Title  Department  \\\n",
      "0    E02387      Emily Davis                Sr. Manger          IT   \n",
      "1    E04105    Theodore Dinh       Technical Architect          IT   \n",
      "2    E02572     Luna Sanders                  Director     Finance   \n",
      "3    E02832  Penelope Jordan  Computer Systems Manager          IT   \n",
      "4    E01639        Austin Vo               Sr. Analyst     Finance   \n",
      "..      ...              ...                       ...         ...   \n",
      "995  E03094     Wesley Young               Sr. Analyst   Marketing   \n",
      "996  E01909     Lillian Khan                   Analyst     Finance   \n",
      "997  E04398      Oliver Yang                  Director   Marketing   \n",
      "998  E02521      Lily Nguyen               Sr. Analyst     Finance   \n",
      "999  E03545      Sofia Cheng            Vice President  Accounting   \n",
      "\n",
      "              Business Unit  Gender  Ethnicity  Age  Hire Date  Annual Salary  \\\n",
      "0    Research & Development  Female      Black   55 2016-04-08         141604   \n",
      "1             Manufacturing    Male      Asian   59 1997-11-29          99975   \n",
      "2       Speciality Products  Female  Caucasian   50 2006-10-26         163099   \n",
      "3             Manufacturing  Female  Caucasian   26 2019-09-27          84913   \n",
      "4             Manufacturing    Male      Asian   55 1995-11-20          95409   \n",
      "..                      ...     ...        ...  ...        ...            ...   \n",
      "995     Speciality Products    Male  Caucasian   33 2016-09-18          98427   \n",
      "996     Speciality Products  Female      Asian   44 2010-05-31          47387   \n",
      "997     Speciality Products    Male      Asian   31 2019-06-10         176710   \n",
      "998     Speciality Products  Female      Asian   33 2012-01-28          95960   \n",
      "999               Corporate  Female      Asian   63 2020-07-26         216195   \n",
      "\n",
      "     Bonus %        Country       City  Exit Date  \n",
      "0       0.15  United States    Seattle 2021-10-16  \n",
      "1       0.00          China  Chongqing        NaT  \n",
      "2       0.20  United States    Chicago        NaT  \n",
      "3       0.07  United States    Chicago        NaT  \n",
      "4       0.00  United States    Phoenix        NaT  \n",
      "..       ...            ...        ...        ...  \n",
      "995     0.00  United States   Columbus        NaT  \n",
      "996     0.00          China    Chengdu 2018-01-08  \n",
      "997     0.15  United States      Miami        NaT  \n",
      "998     0.00          China    Chengdu        NaT  \n",
      "999     0.31  United States      Miami        NaT  \n",
      "\n",
      "[1000 rows x 14 columns]\n"
     ]
    }
   ],
   "source": [
    "import pandas as pd\n",
    "\n",
    "# Read the Excel file into a DataFrame\n",
    "data = pd.read_excel('output.xlsx')\n",
    "\n",
    "# Print the DataFrame\n",
    "print(data)"
   ]
  },
  {
   "cell_type": "code",
   "execution_count": null,
   "id": "241a2a3e-fc1a-465e-aa44-15b9ac02403b",
   "metadata": {},
   "outputs": [],
   "source": []
  },
  {
   "cell_type": "code",
   "execution_count": null,
   "id": "90b27134-6e19-4903-a5da-d1fad02dfcbf",
   "metadata": {},
   "outputs": [],
   "source": [
    "#Q7"
   ]
  },
  {
   "cell_type": "code",
   "execution_count": 3,
   "id": "4471c634-bb96-40bc-81fb-c9fe4d496189",
   "metadata": {},
   "outputs": [
    {
     "name": "stdout",
     "output_type": "stream",
     "text": [
      "               Email Username\n",
      "0   john@example.com     john\n",
      "1   jane@example.com     jane\n",
      "2  smith@example.com    smith\n"
     ]
    }
   ],
   "source": [
    "import pandas as pd\n",
    "\n",
    "def extract_username(df):\n",
    "    # Split the 'Email' column by '@' and extract the first part (username)\n",
    "    df['Username'] = df['Email'].str.split('@').str[0]\n",
    "    return df\n",
    "\n",
    "# Example usage:\n",
    "# Assuming you have a DataFrame named 'df' with a column 'Email'\n",
    "df = pd.DataFrame({'Email': ['john@example.com', 'jane@example.com', 'smith@example.com']})\n",
    "df = extract_username(df)\n",
    "print(df)"
   ]
  },
  {
   "cell_type": "code",
   "execution_count": null,
   "id": "01f9fdc6-a83b-4d8c-987a-db60c4dadd1a",
   "metadata": {},
   "outputs": [],
   "source": []
  },
  {
   "cell_type": "code",
   "execution_count": null,
   "id": "10919c27-1f51-4144-998d-d51b41fc9c17",
   "metadata": {},
   "outputs": [],
   "source": [
    "#Q8"
   ]
  },
  {
   "cell_type": "code",
   "execution_count": 4,
   "id": "cd572563-c6a5-4f6f-86a0-c5b5dcdcb5d2",
   "metadata": {},
   "outputs": [
    {
     "name": "stdout",
     "output_type": "stream",
     "text": [
      "   A  B  C\n",
      "1  8  2  7\n",
      "2  6  9  4\n",
      "4  9  1  2\n"
     ]
    }
   ],
   "source": [
    "import pandas as pd\n",
    "\n",
    "def select_rows(df):\n",
    "    selected_rows = df[(df['A'] > 5) & (df['B'] < 10)]\n",
    "    return selected_rows\n",
    "\n",
    "# Example usage:\n",
    "# Assuming you have a DataFrame named 'df' with columns 'A', 'B', and 'C'\n",
    "df = pd.DataFrame({'A': [3, 8, 6, 2, 9],\n",
    "                   'B': [5, 2, 9, 3, 1],\n",
    "                   'C': [1, 7, 4, 5, 2]})\n",
    "\n",
    "selected_df = select_rows(df)\n",
    "print(selected_df)"
   ]
  },
  {
   "cell_type": "code",
   "execution_count": null,
   "id": "8d10da24-91d5-4afd-9a7b-52c7ffa502ec",
   "metadata": {},
   "outputs": [],
   "source": []
  },
  {
   "cell_type": "code",
   "execution_count": null,
   "id": "61862092-e122-473e-901e-da5b538c81f0",
   "metadata": {},
   "outputs": [],
   "source": [
    "#Q9"
   ]
  },
  {
   "cell_type": "code",
   "execution_count": 5,
   "id": "8b74c824-1238-4958-8e33-a8705c74683c",
   "metadata": {},
   "outputs": [
    {
     "name": "stdout",
     "output_type": "stream",
     "text": [
      "Mean: 30.0\n",
      "Median: 30.0\n",
      "Standard Deviation: 15.811388300841896\n"
     ]
    }
   ],
   "source": [
    "import pandas as pd\n",
    "\n",
    "def calculate_stats(df):\n",
    "    values_column = df['Values']\n",
    "    \n",
    "    # Calculate mean\n",
    "    mean = values_column.mean()\n",
    "    \n",
    "    # Calculate median\n",
    "    median = values_column.median()\n",
    "    \n",
    "    # Calculate standard deviation\n",
    "    std_dev = values_column.std()\n",
    "    \n",
    "    return mean, median, std_dev\n",
    "\n",
    "# Example usage:\n",
    "# Assuming you have a DataFrame named 'df' with a column 'Values'\n",
    "df = pd.DataFrame({'Values': [10, 20, 30, 40, 50]})\n",
    "mean, median, std_dev = calculate_stats(df)\n",
    "print(\"Mean:\", mean)\n",
    "print(\"Median:\", median)\n",
    "print(\"Standard Deviation:\", std_dev)"
   ]
  },
  {
   "cell_type": "code",
   "execution_count": null,
   "id": "a669a55c-5947-414a-be65-b8454d1ecd78",
   "metadata": {},
   "outputs": [],
   "source": []
  },
  {
   "cell_type": "code",
   "execution_count": null,
   "id": "565e27de-bfbd-4b24-afe6-80fc89b61133",
   "metadata": {},
   "outputs": [],
   "source": [
    "#Q10"
   ]
  },
  {
   "cell_type": "code",
   "execution_count": 6,
   "id": "bec7f9f4-cc6b-47c6-b758-7ff96f7b9605",
   "metadata": {},
   "outputs": [
    {
     "name": "stdout",
     "output_type": "stream",
     "text": [
      "    Sales       Date  MovingAverage\n",
      "0      10 2022-01-01      10.000000\n",
      "1      15 2022-01-02      12.500000\n",
      "2      20 2022-01-03      15.000000\n",
      "3      18 2022-01-04      15.750000\n",
      "4      25 2022-01-05      17.600000\n",
      "5      22 2022-01-06      18.333333\n",
      "6      19 2022-01-07      18.428571\n",
      "7      17 2022-01-08      19.428571\n",
      "8      23 2022-01-09      20.571429\n",
      "9      20 2022-01-10      20.571429\n",
      "10     15 2022-01-11      20.142857\n",
      "11     12 2022-01-12      18.285714\n"
     ]
    }
   ],
   "source": [
    "import pandas as pd\n",
    "\n",
    "def calculate_moving_average(df):\n",
    "    window_size = 7\n",
    "    df['MovingAverage'] = df['Sales'].rolling(window=window_size, min_periods=1).mean()\n",
    "    return df\n",
    "\n",
    "# Example usage:\n",
    "# Assuming you have a DataFrame named 'df' with columns 'Sales' and 'Date'\n",
    "df = pd.DataFrame({'Sales': [10, 15, 20, 18, 25, 22, 19, 17, 23, 20, 15, 12],\n",
    "                   'Date': pd.date_range(start='2022-01-01', periods=12, freq='D')})\n",
    "df = calculate_moving_average(df)\n",
    "print(df)"
   ]
  },
  {
   "cell_type": "code",
   "execution_count": null,
   "id": "753cb09f-1cf4-4c37-bcbd-6b1075461d4e",
   "metadata": {},
   "outputs": [],
   "source": []
  },
  {
   "cell_type": "code",
   "execution_count": null,
   "id": "92a3c707-0bfe-45d2-be5c-c29050682079",
   "metadata": {},
   "outputs": [],
   "source": [
    "#Q11"
   ]
  },
  {
   "cell_type": "code",
   "execution_count": 7,
   "id": "37e33579-2058-4a4b-9fc5-6dea71ed6f23",
   "metadata": {},
   "outputs": [
    {
     "name": "stdout",
     "output_type": "stream",
     "text": [
      "        Date    Weekday\n",
      "0 2023-01-01     Sunday\n",
      "1 2023-01-02     Monday\n",
      "2 2023-01-03    Tuesday\n",
      "3 2023-01-04  Wednesday\n",
      "4 2023-01-05   Thursday\n"
     ]
    }
   ],
   "source": [
    "import pandas as pd\n",
    "\n",
    "def add_weekday_column(df):\n",
    "    df['Weekday'] = df['Date'].dt.day_name()\n",
    "    return df\n",
    "\n",
    "# Example usage:\n",
    "# Assuming you have a DataFrame named 'df' with a column 'Date'\n",
    "df = pd.DataFrame({'Date': pd.to_datetime(['2023-01-01', '2023-01-02', '2023-01-03', '2023-01-04', '2023-01-05'])})\n",
    "df = add_weekday_column(df)\n",
    "print(df)"
   ]
  },
  {
   "cell_type": "code",
   "execution_count": null,
   "id": "15a1aa10-389c-4d96-bdbe-5ed0b19f337d",
   "metadata": {},
   "outputs": [],
   "source": []
  },
  {
   "cell_type": "code",
   "execution_count": null,
   "id": "c19c19ee-4cf4-4525-91ad-cc2af0b2fcbb",
   "metadata": {},
   "outputs": [],
   "source": [
    "#Q12"
   ]
  },
  {
   "cell_type": "code",
   "execution_count": 8,
   "id": "584a2ca9-ad9a-46c4-bf8c-1f5a9e661621",
   "metadata": {},
   "outputs": [
    {
     "name": "stdout",
     "output_type": "stream",
     "text": [
      "        Date\n",
      "0 2023-01-01\n",
      "1 2023-01-15\n",
      "2 2023-01-31\n"
     ]
    }
   ],
   "source": [
    "import pandas as pd\n",
    "\n",
    "def select_rows_by_date_range(df, start_date, end_date):\n",
    "    mask = (df['Date'] >= start_date) & (df['Date'] <= end_date)\n",
    "    selected_rows = df[mask]\n",
    "    return selected_rows\n",
    "\n",
    "# Example usage:\n",
    "# Assuming you have a DataFrame named 'df' with a column 'Date'\n",
    "df = pd.DataFrame({'Date': pd.to_datetime(['2023-01-01', '2023-01-15', '2023-01-31', '2023-02-05'])})\n",
    "start_date = pd.to_datetime('2023-01-01')\n",
    "end_date = pd.to_datetime('2023-01-31')\n",
    "selected_df = select_rows_by_date_range(df, start_date, end_date)\n",
    "print(selected_df)"
   ]
  },
  {
   "cell_type": "code",
   "execution_count": null,
   "id": "7578bc4c-d635-4783-a74b-a1c5724383fc",
   "metadata": {},
   "outputs": [],
   "source": []
  },
  {
   "cell_type": "code",
   "execution_count": null,
   "id": "29d73fe9-80a0-4b27-83d4-4c4352dd247a",
   "metadata": {},
   "outputs": [],
   "source": [
    "#Q13"
   ]
  },
  {
   "cell_type": "code",
   "execution_count": 9,
   "id": "1ab15886-eadb-4c27-8c1c-1e16d4823978",
   "metadata": {},
   "outputs": [],
   "source": [
    "#The first and foremost necessary library that needs to be imported to use the basic functions of pandas is the pandas library itself."
   ]
  },
  {
   "cell_type": "code",
   "execution_count": null,
   "id": "533000a1-f587-46db-b528-57fb7a18da22",
   "metadata": {},
   "outputs": [],
   "source": [
    "import pandas as pd"
   ]
  }
 ],
 "metadata": {
  "kernelspec": {
   "display_name": "Python 3 (ipykernel)",
   "language": "python",
   "name": "python3"
  },
  "language_info": {
   "codemirror_mode": {
    "name": "ipython",
    "version": 3
   },
   "file_extension": ".py",
   "mimetype": "text/x-python",
   "name": "python",
   "nbconvert_exporter": "python",
   "pygments_lexer": "ipython3",
   "version": "3.10.8"
  }
 },
 "nbformat": 4,
 "nbformat_minor": 5
}
