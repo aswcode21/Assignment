{
 "cells": [
  {
   "cell_type": "code",
   "execution_count": 1,
   "id": "63b65c8e-67d6-41ec-99f6-692f5515f326",
   "metadata": {},
   "outputs": [],
   "source": [
    "#Q1"
   ]
  },
  {
   "cell_type": "code",
   "execution_count": 2,
   "id": "35df3c48-72b5-407b-979d-0496776eb797",
   "metadata": {},
   "outputs": [
    {
     "name": "stdout",
     "output_type": "stream",
     "text": [
      "0     4\n",
      "1     8\n",
      "2    15\n",
      "3    16\n",
      "4    23\n",
      "5    42\n",
      "dtype: int64\n"
     ]
    }
   ],
   "source": [
    "import pandas as pd\n",
    "\n",
    "# Create a Pandas Series\n",
    "data = [4, 8, 15, 16, 23, 42]\n",
    "series = pd.Series(data)\n",
    "\n",
    "# Print the Series\n",
    "print(series)"
   ]
  },
  {
   "cell_type": "code",
   "execution_count": null,
   "id": "4ae627de-55db-4da4-b1be-34d6843fba6f",
   "metadata": {},
   "outputs": [],
   "source": []
  },
  {
   "cell_type": "code",
   "execution_count": 3,
   "id": "aa1a31dd-050c-4105-9b6c-f5167ba3fa06",
   "metadata": {},
   "outputs": [],
   "source": [
    "#Q2"
   ]
  },
  {
   "cell_type": "code",
   "execution_count": 5,
   "id": "e27780fb-06c2-4545-b367-19adec2e84cc",
   "metadata": {},
   "outputs": [
    {
     "name": "stdout",
     "output_type": "stream",
     "text": [
      "0     1\n",
      "1     2\n",
      "2     3\n",
      "3     4\n",
      "4     5\n",
      "5     6\n",
      "6     7\n",
      "7     8\n",
      "8     9\n",
      "9    10\n",
      "dtype: int64\n"
     ]
    }
   ],
   "source": [
    "import pandas as pd\n",
    "\n",
    "# Create a list with 10 elements\n",
    "my_list = [1, 2, 3, 4, 5, 6, 7, 8, 9, 10]\n",
    "\n",
    "# Convert the list to a Pandas Series\n",
    "my_series = pd.Series(my_list)\n",
    "\n",
    "# Print the Series\n",
    "print(my_series)"
   ]
  },
  {
   "cell_type": "code",
   "execution_count": null,
   "id": "d6707d3f-3046-4e17-9b0d-e7149a4a1e31",
   "metadata": {},
   "outputs": [],
   "source": []
  },
  {
   "cell_type": "code",
   "execution_count": null,
   "id": "5db66a0a-5b27-4372-b168-ddc5c9f7d07c",
   "metadata": {},
   "outputs": [],
   "source": [
    "#Q3"
   ]
  },
  {
   "cell_type": "code",
   "execution_count": 7,
   "id": "4aae2d45-1a16-4fb3-b932-b68807f6052e",
   "metadata": {},
   "outputs": [
    {
     "name": "stdout",
     "output_type": "stream",
     "text": [
      "     Name  Age  gender\n",
      "0   Alice   25  Female\n",
      "1     Bob   30    Male\n",
      "2  Claire   27  Female\n"
     ]
    }
   ],
   "source": [
    "import pandas as pd\n",
    "\n",
    "# Create a dictionary with data for three columns\n",
    "data = {\n",
    "    'Name': ['Alice', 'Bob','Claire'],\n",
    "    'Age': [25, 30, 27],\n",
    "    'gender': ['Female', 'Male', 'Female']\n",
    "}\n",
    "\n",
    "# Create a Pandas DataFrame\n",
    "df = pd.DataFrame(data)\n",
    "\n",
    "# Print the DataFrame\n",
    "print(df)"
   ]
  },
  {
   "cell_type": "code",
   "execution_count": null,
   "id": "51c0ec22-03b3-4faa-b69e-1f2451261c72",
   "metadata": {},
   "outputs": [],
   "source": []
  },
  {
   "cell_type": "code",
   "execution_count": 8,
   "id": "da2d7064-48df-4891-a18d-c96c31e7a659",
   "metadata": {},
   "outputs": [],
   "source": [
    "#Q4"
   ]
  },
  {
   "cell_type": "code",
   "execution_count": null,
   "id": "274d6787-1826-4c02-bf56-122a818fc241",
   "metadata": {},
   "outputs": [],
   "source": [
    "#In pandas, a DataFrame is a two-dimensional labeled data structure that\n",
    "#is commonly used to represent tabular data, similar to a spreadsheet or a \n",
    "#SQL table. It consists of rows and columns, where each column can contain different data types."
   ]
  },
  {
   "cell_type": "code",
   "execution_count": null,
   "id": "4404453f-be0c-445f-964e-146726ad60e4",
   "metadata": {},
   "outputs": [],
   "source": [
    "#On the other hand, a Series is a one-dimensional labeled array-like object in pandas.\n",
    "#It can be thought of as a single column of data with row labels or indices. It is similar\n",
    "t#o a NumPy array but includes additional functionalities, such as index labels and support for different data types."
   ]
  },
  {
   "cell_type": "code",
   "execution_count": 9,
   "id": "62d95e66-35d7-4952-a444-9f44ae644ad6",
   "metadata": {},
   "outputs": [
    {
     "name": "stdout",
     "output_type": "stream",
     "text": [
      "    Name  Age\n",
      "0   John   25\n",
      "1  Alice   30\n",
      "2    Bob   35\n",
      "0    25\n",
      "1    30\n",
      "2    35\n",
      "Name: Age, dtype: int64\n"
     ]
    }
   ],
   "source": [
    "import pandas as pd\n",
    "\n",
    "# Create a dictionary with data for two columns\n",
    "data = {\n",
    "    'Name': ['John', 'Alice', 'Bob'],\n",
    "    'Age': [25, 30, 35]\n",
    "}\n",
    "\n",
    "# Create a DataFrame from the dictionary\n",
    "df = pd.DataFrame(data)\n",
    "\n",
    "# Create a Series from the 'Age' column\n",
    "age_series = df['Age']\n",
    "\n",
    "# Print the DataFrame\n",
    "print(df)\n",
    "\n",
    "# Print the Series\n",
    "print(age_series)"
   ]
  },
  {
   "cell_type": "code",
   "execution_count": null,
   "id": "e20322d7-21e2-427e-8afc-b066ebb6c1ea",
   "metadata": {},
   "outputs": [],
   "source": []
  },
  {
   "cell_type": "code",
   "execution_count": null,
   "id": "d6c5683c-74cf-48f2-8678-aa165c5c91ff",
   "metadata": {},
   "outputs": [],
   "source": [
    "#Q5"
   ]
  },
  {
   "cell_type": "code",
   "execution_count": null,
   "id": "9625b230-e6d6-4882-8756-905557cf4fe3",
   "metadata": {},
   "outputs": [],
   "source": [
    "#Pandas provides a wide range of functions to manipulate data in a DataFrame."
   ]
  },
  {
   "cell_type": "code",
   "execution_count": null,
   "id": "10534eb3-3d57-4544-a798-7506b4cb0240",
   "metadata": {},
   "outputs": [],
   "source": [
    "#Filtering: You can filter data in a DataFrame using functions like loc[], iloc[], or boolean indexing.\n",
    "#filtered_df = df.loc[df['Age'] > 30]"
   ]
  },
  {
   "cell_type": "code",
   "execution_count": 10,
   "id": "5314f580-85ac-4f7d-a077-b5208678136b",
   "metadata": {},
   "outputs": [],
   "source": [
    "#Sorting: You can sort the DataFrame based on one or more columns using the sort_values() function.\n",
    "#sorted_df = df.sort_values('Age', ascending=False)"
   ]
  },
  {
   "cell_type": "code",
   "execution_count": 11,
   "id": "69b1fffc-4de6-4b0b-8ea6-d2de3fad928b",
   "metadata": {},
   "outputs": [],
   "source": [
    "#Aggregation: Functions like groupby(), sum(), mean(), count(), etc., allow you to perform aggregations on the DataFrame.\n",
    "#grouped_df = df.groupby('City')['Age'].mean()"
   ]
  },
  {
   "cell_type": "code",
   "execution_count": null,
   "id": "cad50988-63b9-4ba3-a13e-f4bdabce7b1d",
   "metadata": {},
   "outputs": [],
   "source": [
    "#Merging and Joining: The merge() function enables you to combine two DataFrames based on \n",
    "#common columns, similar to a database join operation.\n",
    "#merged_df = pd.merge(df1, df2, on='ID')"
   ]
  },
  {
   "cell_type": "code",
   "execution_count": null,
   "id": "b756b69c-6b15-4eb3-a9dd-d19dc6e3109b",
   "metadata": {},
   "outputs": [],
   "source": []
  },
  {
   "cell_type": "code",
   "execution_count": null,
   "id": "4233344d-9184-4d24-a1cc-f9cad73cd9bc",
   "metadata": {},
   "outputs": [],
   "source": [
    "#Q6"
   ]
  },
  {
   "cell_type": "code",
   "execution_count": null,
   "id": "41e00c86-76fc-4f4c-961a-49df3fba35d3",
   "metadata": {},
   "outputs": [],
   "source": [
    "#Among the options provided, both Series and DataFrame are mutable in nature, while Panel is not mutable.\n"
   ]
  }
 ],
 "metadata": {
  "kernelspec": {
   "display_name": "Python 3 (ipykernel)",
   "language": "python",
   "name": "python3"
  },
  "language_info": {
   "codemirror_mode": {
    "name": "ipython",
    "version": 3
   },
   "file_extension": ".py",
   "mimetype": "text/x-python",
   "name": "python",
   "nbconvert_exporter": "python",
   "pygments_lexer": "ipython3",
   "version": "3.10.8"
  }
 },
 "nbformat": 4,
 "nbformat_minor": 5
}
