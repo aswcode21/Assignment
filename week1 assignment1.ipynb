{
 "cells": [
  {
   "cell_type": "code",
   "execution_count": null,
   "id": "2fbdac4b-6001-4919-9310-980b1a55ca67",
   "metadata": {},
   "outputs": [],
   "source": [
    "#Question1"
   ]
  },
  {
   "cell_type": "code",
   "execution_count": 1,
   "id": "47388db3-1490-44c6-b6f7-3d373e21e310",
   "metadata": {},
   "outputs": [],
   "source": [
    "str=\"aman swain\""
   ]
  },
  {
   "cell_type": "code",
   "execution_count": 11,
   "id": "94793235-8991-4d52-bb0d-ff889202b4f4",
   "metadata": {},
   "outputs": [
    {
     "data": {
      "text/plain": [
       "str"
      ]
     },
     "execution_count": 11,
     "metadata": {},
     "output_type": "execute_result"
    }
   ],
   "source": [
    "type(str)"
   ]
  },
  {
   "cell_type": "code",
   "execution_count": 3,
   "id": "0e046bfa-603e-410f-a5a5-00ada97efbdf",
   "metadata": {},
   "outputs": [],
   "source": [
    "l=['hello',34,56.76,\"good\"]"
   ]
  },
  {
   "cell_type": "code",
   "execution_count": 9,
   "id": "9651591a-a394-414d-a3d8-c760daf25629",
   "metadata": {},
   "outputs": [
    {
     "data": {
      "text/plain": [
       "list"
      ]
     },
     "execution_count": 9,
     "metadata": {},
     "output_type": "execute_result"
    }
   ],
   "source": [
    "type(l)"
   ]
  },
  {
   "cell_type": "code",
   "execution_count": 10,
   "id": "f19e275e-29c1-4b1a-bf68-0fe793615ffa",
   "metadata": {},
   "outputs": [],
   "source": [
    "f=345.765"
   ]
  },
  {
   "cell_type": "code",
   "execution_count": 12,
   "id": "07a89fbf-d52d-4b26-aab3-ccc6fef8f1e9",
   "metadata": {},
   "outputs": [
    {
     "data": {
      "text/plain": [
       "float"
      ]
     },
     "execution_count": 12,
     "metadata": {},
     "output_type": "execute_result"
    }
   ],
   "source": [
    "type(f)"
   ]
  },
  {
   "cell_type": "code",
   "execution_count": 7,
   "id": "2eff0b59-d6a2-4dce-a5d8-0d180c2df84b",
   "metadata": {},
   "outputs": [],
   "source": [
    "t=(\"aman\",34.54,\"Rocky\",[1,2,'a'])"
   ]
  },
  {
   "cell_type": "code",
   "execution_count": 15,
   "id": "98d09eba-316c-4c34-b74f-5e99451d80bd",
   "metadata": {},
   "outputs": [
    {
     "data": {
      "text/plain": [
       "tuple"
      ]
     },
     "execution_count": 15,
     "metadata": {},
     "output_type": "execute_result"
    }
   ],
   "source": [
    "type(t)"
   ]
  },
  {
   "cell_type": "code",
   "execution_count": null,
   "id": "47a9e178-a552-4eb2-9f71-8d88d30390ab",
   "metadata": {},
   "outputs": [],
   "source": []
  },
  {
   "cell_type": "code",
   "execution_count": null,
   "id": "13aa2850-1da9-4d6a-b5a1-517d261066eb",
   "metadata": {},
   "outputs": [],
   "source": [
    "#Question2"
   ]
  },
  {
   "cell_type": "code",
   "execution_count": 13,
   "id": "9ec485a4-f7a2-442b-9de9-2400ebf3aa65",
   "metadata": {},
   "outputs": [],
   "source": [
    "var=''"
   ]
  },
  {
   "cell_type": "code",
   "execution_count": 14,
   "id": "310fa49a-b247-4683-8d4b-b82b3384f3c6",
   "metadata": {},
   "outputs": [
    {
     "data": {
      "text/plain": [
       "str"
      ]
     },
     "execution_count": 14,
     "metadata": {},
     "output_type": "execute_result"
    }
   ],
   "source": [
    "type(var)"
   ]
  },
  {
   "cell_type": "code",
   "execution_count": 17,
   "id": "d70f2a3a-9c63-4587-80ad-83f44d1e2cc1",
   "metadata": {},
   "outputs": [],
   "source": [
    "var2 = '[ DS , ML , Python]'"
   ]
  },
  {
   "cell_type": "code",
   "execution_count": 18,
   "id": "041050d2-8a8e-4694-95bb-d36cfc4766fa",
   "metadata": {},
   "outputs": [
    {
     "data": {
      "text/plain": [
       "str"
      ]
     },
     "execution_count": 18,
     "metadata": {},
     "output_type": "execute_result"
    }
   ],
   "source": [
    "type(var2)"
   ]
  },
  {
   "cell_type": "code",
   "execution_count": 19,
   "id": "3eeccc64-dab7-4117-aa49-237f6040f751",
   "metadata": {},
   "outputs": [],
   "source": [
    "var3 = [ 'DS' , 'ML' , 'Python']"
   ]
  },
  {
   "cell_type": "code",
   "execution_count": 20,
   "id": "04afb0f9-5cba-44f9-a948-fdf5530cc18b",
   "metadata": {},
   "outputs": [
    {
     "data": {
      "text/plain": [
       "list"
      ]
     },
     "execution_count": 20,
     "metadata": {},
     "output_type": "execute_result"
    }
   ],
   "source": [
    "type(var3)"
   ]
  },
  {
   "cell_type": "code",
   "execution_count": 21,
   "id": "b31e2362-cff3-46a2-aa78-e3ec5dbca3a3",
   "metadata": {},
   "outputs": [],
   "source": [
    "var4 = 1."
   ]
  },
  {
   "cell_type": "code",
   "execution_count": 22,
   "id": "afbd2e16-7493-4b95-90aa-a998f4b4d47b",
   "metadata": {},
   "outputs": [
    {
     "data": {
      "text/plain": [
       "str"
      ]
     },
     "execution_count": 22,
     "metadata": {},
     "output_type": "execute_result"
    }
   ],
   "source": [
    "type(var2)"
   ]
  },
  {
   "cell_type": "code",
   "execution_count": null,
   "id": "889f9a73-5c59-4607-a7f6-f662b829f250",
   "metadata": {},
   "outputs": [],
   "source": []
  },
  {
   "cell_type": "code",
   "execution_count": 23,
   "id": "62c25fd7-c403-45f1-bd42-46d1bff1e04c",
   "metadata": {},
   "outputs": [],
   "source": [
    "#Question3"
   ]
  },
  {
   "cell_type": "code",
   "execution_count": 24,
   "id": "d2bf34f3-6a9e-4d3c-a1dc-cba9fc2e1ba8",
   "metadata": {},
   "outputs": [],
   "source": [
    "/ :-this is used as division operator to perform division"
   ]
  },
  {
   "cell_type": "code",
   "execution_count": 25,
   "id": "550df99a-2ce6-43ec-8ab7-38bc83aaca4c",
   "metadata": {},
   "outputs": [],
   "source": [
    "% :-modulus operator used for fetching remainder after division"
   ]
  },
  {
   "cell_type": "code",
   "execution_count": 26,
   "id": "7fd837f0-3b70-40ed-a417-73cbbb3b2f4c",
   "metadata": {},
   "outputs": [],
   "source": [
    "// :-floor division operator that rounds the result down to the nearest whole number"
   ]
  },
  {
   "cell_type": "code",
   "execution_count": 27,
   "id": "74b3a2cb-1e13-4713-a83a-5f36ef0898f8",
   "metadata": {},
   "outputs": [],
   "source": [
    "** :-exponent operator used to get the exponential value for preceding variable"
   ]
  },
  {
   "cell_type": "code",
   "execution_count": null,
   "id": "d8a86456-37f0-46cd-92e9-de899013d8a9",
   "metadata": {},
   "outputs": [],
   "source": []
  },
  {
   "cell_type": "code",
   "execution_count": null,
   "id": "75b42b03-30ca-488b-a389-f45292f79c2c",
   "metadata": {},
   "outputs": [],
   "source": [
    "#Question4"
   ]
  },
  {
   "cell_type": "code",
   "execution_count": 28,
   "id": "61d242ff-5ffe-4bde-aba5-dbb19ab2326f",
   "metadata": {},
   "outputs": [],
   "source": [
    "l=[\"apple\",1,2,34.45,[2,3,4,6],34,{45,67,'welcome'},('hi','no'),5,6]"
   ]
  },
  {
   "cell_type": "code",
   "execution_count": 29,
   "id": "9307e814-c576-4fe2-a482-0265e9b6f0be",
   "metadata": {},
   "outputs": [
    {
     "name": "stdout",
     "output_type": "stream",
     "text": [
      "apple <class 'str'>\n",
      "1 <class 'int'>\n",
      "2 <class 'int'>\n",
      "34.45 <class 'float'>\n",
      "[2, 3, 4, 6] <class 'list'>\n",
      "34 <class 'int'>\n",
      "{67, 45, 'welcome'} <class 'set'>\n",
      "('hi', 'no') <class 'tuple'>\n",
      "5 <class 'int'>\n",
      "6 <class 'int'>\n"
     ]
    }
   ],
   "source": [
    "for i in l:\n",
    "    print(i,type(i))"
   ]
  },
  {
   "cell_type": "code",
   "execution_count": null,
   "id": "571c77ee-97dc-47a7-8faf-14bc036c4249",
   "metadata": {},
   "outputs": [],
   "source": []
  },
  {
   "cell_type": "code",
   "execution_count": null,
   "id": "3db773c5-bf63-414e-ac78-1772bf0fe596",
   "metadata": {},
   "outputs": [],
   "source": [
    "l1=[2,3,4,5,34,54,65,6,4,3,56,3,55,6,3,45,6,6,5,7,5,6,3,5,6]"
   ]
  },
  {
   "cell_type": "code",
   "execution_count": 6,
   "id": "d5e719f3-a851-4414-956f-71670c4639a8",
   "metadata": {},
   "outputs": [
    {
     "data": {
      "text/plain": [
       "[3, 54, 6, 3, 3, 6, 3, 45, 6, 6, 6, 3, 6]"
      ]
     },
     "execution_count": 6,
     "metadata": {},
     "output_type": "execute_result"
    }
   ],
   "source": [
    "l1=[2,3,4,5,34,54,65,6,4,3,56,3,55,6,3,45,6,6,5,7,5,6,3,5,6]\n",
    "list(filter(lambda x: x%3==0,l1))"
   ]
  },
  {
   "cell_type": "code",
   "execution_count": 7,
   "id": "80671e45-9f47-4bf8-831d-9eb7b41a31d7",
   "metadata": {},
   "outputs": [
    {
     "data": {
      "text/plain": [
       "[2, 4, 5, 34, 65, 4, 56, 55, 5, 7, 5, 5]"
      ]
     },
     "execution_count": 7,
     "metadata": {},
     "output_type": "execute_result"
    }
   ],
   "source": [
    "list(filter(lambda x: x%3!=0,l1))"
   ]
  },
  {
   "cell_type": "code",
   "execution_count": 15,
   "id": "708f0749-b64a-4130-8df4-06e2d262c18e",
   "metadata": {},
   "outputs": [
    {
     "name": "stdout",
     "output_type": "stream",
     "text": [
      "3  divisible\n",
      "4  not divisible\n",
      "34  not divisible\n",
      "54  divisible\n",
      "6  divisible\n",
      "4  not divisible\n",
      "3  divisible\n",
      "3  divisible\n",
      "55  not divisible\n",
      "6  divisible\n",
      "3  divisible\n",
      "45  divisible\n",
      "6  divisible\n",
      "6  divisible\n",
      "7  not divisible\n",
      "6  divisible\n",
      "3  divisible\n",
      "6  divisible\n"
     ]
    }
   ],
   "source": [
    "for i in l1:\n",
    "    if i%3==0:\n",
    "        print(i,\" divisible\")\n",
    "    elif i%3==1:\n",
    "        print(i,\" not divisible\")"
   ]
  },
  {
   "cell_type": "code",
   "execution_count": null,
   "id": "804cf0da-a1c5-4db4-b5b9-d0b3b2bac994",
   "metadata": {},
   "outputs": [],
   "source": []
  }
 ],
 "metadata": {
  "kernelspec": {
   "display_name": "Python 3 (ipykernel)",
   "language": "python",
   "name": "python3"
  },
  "language_info": {
   "codemirror_mode": {
    "name": "ipython",
    "version": 3
   },
   "file_extension": ".py",
   "mimetype": "text/x-python",
   "name": "python",
   "nbconvert_exporter": "python",
   "pygments_lexer": "ipython3",
   "version": "3.10.8"
  }
 },
 "nbformat": 4,
 "nbformat_minor": 5
}
