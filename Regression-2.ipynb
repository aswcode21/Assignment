{
 "cells": [
  {
   "cell_type": "markdown",
   "id": "29f63c3e-3f9d-4cb6-9e5d-2d091e82ac71",
   "metadata": {},
   "source": [
    "# Q1. Explain the concept of R-squared in linear regression models. How is it calculated, and what does it represent?"
   ]
  },
  {
   "cell_type": "markdown",
   "id": "61392965-75b4-412f-96ef-b747b9292738",
   "metadata": {},
   "source": [
    "R-squared, also known as the coefficient of determination, is a statistical metric commonly used to assess the goodness of fit of a linear regression model. It provides insight into how well the independent variable(s) in the model explain the variability of the dependent variable.\n",
    "\n",
    "Mathematically, R-squared is calculated as follows:\n",
    "\n",
    "R^2=1−(SSres/SStot)\n",
    "\n",
    "Where:\n",
    "\n",
    "SSres(Sum of Squares Residual) is the sum of the squared differences between the actual dependent variable values and the predicted values from the regression model.\n",
    "\n",
    "SStot(Total Sum of Squares) is the sum of the squared differences between the actual dependent variable values and the mean of the dependent variable.\n",
    "\n",
    "R-squared ranges between 0 and 1. Here's what the values of R-squared typically represent:\n",
    "\n",
    "\n",
    "R^2=0: The model doesn't explain any variability in the dependent variable. The predicted values are essentially equivalent to using the mean of the dependent variable for all observations.\n",
    "\n",
    "0<R^2<1: The model explains a portion of the variability in the dependent variable. Higher values of R-squared indicate that a larger proportion of the variability is explained by the independent variable(s) in the model.\n",
    "\n",
    "R^2=1: The model perfectly explains all the variability in the dependent variable. This is very rare and may indicate potential overfitting."
   ]
  },
  {
   "cell_type": "markdown",
   "id": "ed71abb4-e316-4f2b-92c7-64400be0c33c",
   "metadata": {},
   "source": [
    "It's important to note that R-squared has some limitations:\n",
    "\n",
    "Misinterpretation of Fit: A high R-squared doesn't necessarily imply that the model is a good fit or that it has a causal relationship. It only measures the proportion of variance explained, not the appropriateness of the model itself.\n",
    "\n",
    "Number of Variables: Adding more variables to the model will generally increase the R-squared value, even if those variables have no real predictive power. This can lead to overfitting.\n",
    "\n",
    "Nonlinear Relationships: R-squared might not be suitable for assessing models with nonlinear relationships between variables.\n",
    "\n",
    "Outliers: R-squared is sensitive to outliers, and even a single outlier can significantly impact the R-squared value.\n",
    "\n",
    "Extrapolation: R-squared doesn't indicate how well the model extrapolates beyond the range of the observed data."
   ]
  },
  {
   "cell_type": "code",
   "execution_count": null,
   "id": "659d3f8f-1610-4112-b59a-db848b0b32ca",
   "metadata": {},
   "outputs": [],
   "source": []
  },
  {
   "cell_type": "markdown",
   "id": "9597d8ad-4f37-4e58-80d2-bd26937d30a7",
   "metadata": {},
   "source": [
    "# Q2. Define adjusted R-squared and explain how it differs from the regular R-squared."
   ]
  },
  {
   "cell_type": "markdown",
   "id": "ec02c1b8-b19c-4b36-bd7f-0cf35457b4b8",
   "metadata": {},
   "source": [
    "Adjusted R-squared is a modified version of the regular R-squared that takes into account the number of predictor variables in a linear regression model. While the regular R-squared provides a measure of the proportion of variance explained by the independent variables, adjusted R-squared adjusts this value to account for the complexity of the model, particularly the number of predictors used."
   ]
  },
  {
   "cell_type": "markdown",
   "id": "6cde09f2-a2d6-498c-897e-54d1ddae7fe9",
   "metadata": {},
   "source": [
    "Adjusted R \n",
    "2\n",
    " =1−[(1−R^2)⋅(n−1)/n−k−1]\n",
    "    \n",
    "Where:\n",
    "\n",
    "R^2 is the regular R-squared value.\n",
    "\n",
    "n is the number of observations in the dataset.\n",
    "\n",
    "k is the number of predictor variables in the model.\n",
    "\n",
    "Model Selection: Adjusted R-squared helps in model selection by favoring simpler models that can explain the variance effectively with fewer variables. It strikes a balance between model complexity and explanatory power.\n",
    "\n",
    "Comparison Across Models: When comparing different models with varying numbers of predictor variables, adjusted R-squared provides a fairer comparison by accounting for the complexity introduced by the additional variables.\n",
    "\n",
    "Penalty for Adding Variables: As you add more predictor variables to a model, the regular R-squared will typically increase, even if those variables don't contribute much to explaining the variance. This can lead to overfitting. Adjusted R-squared penalizes the addition of variables that do not improve the model's explanatory power significantly. The penalty term in the formula, \n",
    "(n-1)/(n-k-1) increases thereby adjusting the R-squared value downward if the added variables do not provide substantial explanatory improvement."
   ]
  },
  {
   "cell_type": "code",
   "execution_count": null,
   "id": "ae482113-b3a1-47a1-8289-1c686f20b145",
   "metadata": {},
   "outputs": [],
   "source": []
  },
  {
   "cell_type": "markdown",
   "id": "e74bb091-8414-4dc6-b3ce-6e80815d2ee9",
   "metadata": {},
   "source": [
    "# Q3. When is it more appropriate to use adjusted R-squared?"
   ]
  },
  {
   "cell_type": "markdown",
   "id": "426ef63d-7659-42ba-9703-4c86e42d3a12",
   "metadata": {},
   "source": [
    "Adjusted R-squared is more appropriate to use in situations where you are comparing and evaluating multiple regression models with different numbers of predictor variables. It provides a more balanced assessment of model performance by taking into account the trade-off between model complexity and explanatory power. Here are some situations where adjusted R-squared is particularly useful:\n",
    "\n",
    "Model Comparison: When you have several potential regression models with varying numbers of predictor variables, using adjusted R-squared helps you compare the models more fairly. It penalizes the inclusion of unnecessary variables that might inflate the regular R-squared, thereby guiding you to choose a model that strikes a better balance between explanatory power and simplicity.\n",
    "\n",
    "Variable Selection: If you're in the process of selecting which predictor variables to include in your model, adjusted R-squared can guide you in identifying the subset of variables that collectively contribute the most to explaining the variance in the dependent variable. It encourages you to avoid overfitting by favoring models with fewer, meaningful variables.\n",
    "\n",
    "Avoiding Overfitting: Adjusted R-squared assists in preventing overfitting, where a model captures noise or random fluctuations in the data rather than true patterns. By penalizing the addition of unnecessary variables, adjusted R-squared discourages models that might overly tailor themselves to the specific dataset at the cost of generalizability.\n",
    "\n",
    "Sample Size Considerations: In situations where the sample size is relatively small compared to the number of variables, the regular R-squared might give an inflated impression of model performance due to chance correlations. Adjusted R-squared helps account for this by considering the sample size and number of variables together.\n",
    "\n",
    "Complex Models: If you're working with complex models that include many predictor variables, using adjusted R-squared becomes crucial. Complex models are more likely to have a higher regular R-squared, but they might not be truly better if they're incorporating irrelevant or redundant variables. Adjusted R-squared guides you to prefer models that genuinely explain the variation."
   ]
  },
  {
   "cell_type": "code",
   "execution_count": null,
   "id": "d3f817dc-064d-4efc-bd5d-0644bd61c166",
   "metadata": {},
   "outputs": [],
   "source": []
  },
  {
   "cell_type": "markdown",
   "id": "695d1c48-76a3-4b64-8367-8de7f30db5fa",
   "metadata": {},
   "source": [
    "# Q4. What are RMSE, MSE, and MAE in the context of regression analysis? How are these metrics calculated, and what do they represent?"
   ]
  },
  {
   "cell_type": "markdown",
   "id": "71c1646e-ce2b-4669-aeb6-184e930be655",
   "metadata": {},
   "source": [
    "MAE: A metric that tells us the mean absolute difference between the predicted values and the actual values in a dataset. The lower the MAE, the better a model fits a dataset.\n",
    "\n",
    "MAE = 1/n * Σ|yi – ŷi|\n",
    "\n",
    "where:\n",
    "\n",
    "Σ is a symbol that means “sum”\n",
    "yi is the observed value for the ith observation\n",
    "ŷi is the predicted value for the ith observation\n",
    "n is the sample size\n",
    "\n",
    "MAE has the same unit of measurement as the dependent variable, making it more interpretable than MSE and RMSE.\n",
    "\n",
    "\n",
    "MSE (Mean Squared Error):\n",
    "MSE is similar to RMSE but without the square root operation. It measures the average of the squared differences between predicted and actual values.\n",
    "Mathematically, MSE is calculated as follows:\n",
    "MSE= 1/n * Σ(yi – ŷi)^2\n",
    "\n",
    "MSE is directly interpretable but lacks the same unit of measurement as the dependent variable.\n",
    "\n",
    "\n",
    "\n",
    "RMSE: A metric that tells us the square root of the average squared difference between the predicted values and the actual values in a dataset. The lower the RMSE, the better a model fits a dataset.\n",
    "\n",
    "RMSE = √Σ(yi – ŷi)2 / n\n",
    "\n",
    "where:\n",
    "\n",
    "Σ is a symbol that means “sum”\n",
    "ŷi is the predicted value for the ith observation\n",
    "yi is the observed value for the ith observation\n",
    "n is the sample size\n",
    "\n"
   ]
  },
  {
   "cell_type": "code",
   "execution_count": null,
   "id": "cf36829e-8109-4273-a480-d3e75735fded",
   "metadata": {},
   "outputs": [],
   "source": []
  },
  {
   "cell_type": "markdown",
   "id": "4964266c-6399-4de1-9cd0-fca27fbbd0f3",
   "metadata": {},
   "source": [
    "# Q5. Discuss the advantages and disadvantages of using RMSE, MSE, and MAE as evaluation metrics in regression analysis."
   ]
  },
  {
   "cell_type": "markdown",
   "id": "61110b08-dd50-4d4e-b34a-dd842c8430fd",
   "metadata": {},
   "source": [
    "RMSE (Root Mean Squared Error):\n",
    "\n",
    "Advantages:\n",
    "\n",
    "Sensitivity to Large Errors: RMSE gives higher weight to larger errors due to the squared term. This can be beneficial when large errors are more concerning and need to be penalized more heavily.\n",
    "\n",
    "Mathematical Properties: RMSE has mathematical properties that make it suitable for optimization algorithms and mathematical analysis. Its squared nature also makes it differentiable, which can be important for certain optimization techniques.\n",
    "\n",
    "Disadvantages:\n",
    "\n",
    "Sensitivity to Outliers: RMSE is sensitive to outliers in the data because it squares the errors. Outliers can disproportionately influence the metric and potentially mislead model evaluation.\n",
    "\n",
    "Unit of Measurement: RMSE is not in the same unit as the dependent variable, which might make it less interpretable in some cases.\n",
    "\n",
    "\n",
    "\n",
    "MSE (Mean Squared Error):\n",
    "\n",
    "Advantages:\n",
    "\n",
    "Mathematical Simplicity: Like RMSE, MSE has mathematical properties that make it suitable for optimization and analysis. It's used in various mathematical algorithms and procedures.\n",
    "Disadvantages:\n",
    "\n",
    "Unit of Measurement: Similar to RMSE, MSE is not in the same unit as the dependent variable, which can hinder its interpretability.\n",
    "\n",
    "Sensitivity to Outliers: MSE also suffers from sensitivity to outliers, as it squares the errors. Outliers can significantly affect the metric and potentially mislead the evaluation.\n",
    "\n",
    "\n",
    "\n",
    "MAE (Mean Absolute Error):\n",
    "\n",
    "Advantages:\n",
    "\n",
    "Robustness to Outliers: MAE is less sensitive to outliers compared to RMSE and MSE because it takes the absolute value of errors. This makes it a more robust metric when dealing with data containing extreme values.\n",
    "\n",
    "Interpretability: MAE is in the same unit as the dependent variable, making it more easily interpretable. It represents the average magnitude of errors.\n",
    "\n",
    "Disadvantages:\n",
    "\n",
    "Neglects Error Magnitude: MAE treats all errors equally and does not distinguish between small and large errors. It might not adequately penalize large errors that are more critical in some applications."
   ]
  },
  {
   "cell_type": "code",
   "execution_count": null,
   "id": "16e399ad-29b8-4e94-996f-52371c7050cd",
   "metadata": {},
   "outputs": [],
   "source": []
  },
  {
   "cell_type": "markdown",
   "id": "587c6002-2505-4e85-aced-eb40ffbacf54",
   "metadata": {},
   "source": [
    "# Q6. Explain the concept of Lasso regularization. How does it differ from Ridge regularization, and when is it more appropriate to use?"
   ]
  },
  {
   "cell_type": "markdown",
   "id": "65730c55-f0cd-418c-947a-88f61f4568e6",
   "metadata": {},
   "source": [
    "What is Lasso Regularization (L1)?\n",
    "\n",
    "Lasso (Least Absolute Shrinkage and Selection Operator) regularization is a technique used in regression analysis to prevent overfitting by adding a penalty term to the linear regression cost function. Lasso encourages the model to select a subset of important predictor variables while pushing the coefficients of less important variables towards zero. This results in a simpler and more interpretable model.\n",
    "\n",
    "It stands for Least Absolute Shrinkage and Selection Operator\n",
    "It adds L1 the penalty\n",
    "\n",
    "L1 is the sum of the absolute value of the beta coefficients.\n",
    "\n",
    "Cost function = Loss + λ Σ ||w||\n",
    "\n",
    "Here,\n",
    "\n",
    "Loss = sum of squared residual (1/n * Σ(yi – ŷi)^2)\n",
    "\n",
    "λ = penalty\n",
    "\n",
    "w = slope of the curve\n",
    "\n",
    "\n",
    "What is Ridge Regularization (L2)\n",
    "\n",
    "Ridge Regularization:\n",
    "In Ridge, the penalty term added to the cost function is the squared sum of the coefficients of the predictor variables.\n",
    "\n",
    "Ridge regularization tends to shrink the coefficients towards zero, but it doesn't force them to become exactly zero. This can lead to a model that includes all predictor variables but with their magnitudes reduced.\n",
    "\n",
    "It adds L2 as the penalty\n",
    "\n",
    "L2 is the sum of the square of the magnitude of beta coefficients\n",
    "\n",
    "Cost function = Loss + λ + Σ ||w||2\n",
    "\n",
    "Here,\n",
    "\n",
    "Loss = sum of squared residual\n",
    "\n",
    "λ = penalty\n",
    "\n",
    "w = slope of the curve\n",
    "\n",
    "λ is the penalty term for the model. As λ increases cost function increases, the coefficient of the equation decreases and leads to shrinkage.\n"
   ]
  },
  {
   "cell_type": "markdown",
   "id": "996fb210-7d31-4874-97c6-8c4a6210d5b9",
   "metadata": {},
   "source": [
    "When to Use Lasso vs. Ridge:\n",
    "\n",
    "Lasso Regularization:\n",
    "\n",
    "Use Lasso when you suspect that many of the predictor variables are irrelevant or have low impact on the outcome. Lasso's ability to drive coefficients to zero makes it suitable for feature selection.\n",
    "When you want a simpler model with fewer predictor variables, enhancing model interpretability.\n",
    "Ridge Regularization:\n",
    "\n",
    "Use Ridge when you have a situation where all or most predictor variables are relevant, but some might have high multicollinearity (correlation) with each other.\n",
    "When you want to control the effect of multicollinearity by shrinking the coefficients without eliminating variables entirely.\n",
    "Ridge regularization can be more stable than Lasso when dealing with datasets that have a small number of observations compared to the number of predictor variables."
   ]
  },
  {
   "cell_type": "code",
   "execution_count": 21,
   "id": "0b98bc4c-2fe4-419b-a196-5bdba2a56dbe",
   "metadata": {},
   "outputs": [],
   "source": [
    "import numpy as np\n",
    "import pandas as pd\n",
    "import matplotlib.pyplot as plt\n",
    "import seaborn as sns\n",
    "\n",
    "from sklearn.preprocessing import PolynomialFeatures\n",
    "\n",
    "from sklearn.linear_model import LinearRegression\n",
    "\n",
    "from sklearn.model_selection import train_test_split\n",
    "\n",
    "from sklearn.preprocessing import StandardScaler\n",
    "\n",
    "from sklearn.linear_model import Ridge\n",
    "\n",
    "from sklearn.metrics import mean_absolute_error, mean_squared_error\n",
    "\n",
    "from sklearn.linear_model import RidgeCV\n",
    "\n",
    "from sklearn.linear_model import LassoCV\n",
    "\n",
    "from sklearn.linear_model import ElasticNetCV\n",
    "\n",
    "%matplotlib inline"
   ]
  },
  {
   "cell_type": "code",
   "execution_count": 10,
   "id": "7209a5bb-fdd9-462a-955e-5684943037da",
   "metadata": {},
   "outputs": [
    {
     "data": {
      "text/html": [
       "<div>\n",
       "<style scoped>\n",
       "    .dataframe tbody tr th:only-of-type {\n",
       "        vertical-align: middle;\n",
       "    }\n",
       "\n",
       "    .dataframe tbody tr th {\n",
       "        vertical-align: top;\n",
       "    }\n",
       "\n",
       "    .dataframe thead th {\n",
       "        text-align: right;\n",
       "    }\n",
       "</style>\n",
       "<table border=\"1\" class=\"dataframe\">\n",
       "  <thead>\n",
       "    <tr style=\"text-align: right;\">\n",
       "      <th></th>\n",
       "      <th>No</th>\n",
       "      <th>X1 transaction date</th>\n",
       "      <th>X2 house age</th>\n",
       "      <th>X3 distance to the nearest MRT station</th>\n",
       "      <th>X4 number of convenience stores</th>\n",
       "      <th>X5 latitude</th>\n",
       "      <th>X6 longitude</th>\n",
       "      <th>Y house price of unit area</th>\n",
       "    </tr>\n",
       "  </thead>\n",
       "  <tbody>\n",
       "    <tr>\n",
       "      <th>0</th>\n",
       "      <td>1</td>\n",
       "      <td>2012.917</td>\n",
       "      <td>32.0</td>\n",
       "      <td>84.87882</td>\n",
       "      <td>10</td>\n",
       "      <td>24.98298</td>\n",
       "      <td>121.54024</td>\n",
       "      <td>37.9</td>\n",
       "    </tr>\n",
       "    <tr>\n",
       "      <th>1</th>\n",
       "      <td>2</td>\n",
       "      <td>2012.917</td>\n",
       "      <td>19.5</td>\n",
       "      <td>306.59470</td>\n",
       "      <td>9</td>\n",
       "      <td>24.98034</td>\n",
       "      <td>121.53951</td>\n",
       "      <td>42.2</td>\n",
       "    </tr>\n",
       "    <tr>\n",
       "      <th>2</th>\n",
       "      <td>3</td>\n",
       "      <td>2013.583</td>\n",
       "      <td>13.3</td>\n",
       "      <td>561.98450</td>\n",
       "      <td>5</td>\n",
       "      <td>24.98746</td>\n",
       "      <td>121.54391</td>\n",
       "      <td>47.3</td>\n",
       "    </tr>\n",
       "    <tr>\n",
       "      <th>3</th>\n",
       "      <td>4</td>\n",
       "      <td>2013.500</td>\n",
       "      <td>13.3</td>\n",
       "      <td>561.98450</td>\n",
       "      <td>5</td>\n",
       "      <td>24.98746</td>\n",
       "      <td>121.54391</td>\n",
       "      <td>54.8</td>\n",
       "    </tr>\n",
       "    <tr>\n",
       "      <th>4</th>\n",
       "      <td>5</td>\n",
       "      <td>2012.833</td>\n",
       "      <td>5.0</td>\n",
       "      <td>390.56840</td>\n",
       "      <td>5</td>\n",
       "      <td>24.97937</td>\n",
       "      <td>121.54245</td>\n",
       "      <td>43.1</td>\n",
       "    </tr>\n",
       "  </tbody>\n",
       "</table>\n",
       "</div>"
      ],
      "text/plain": [
       "   No  X1 transaction date  X2 house age  \\\n",
       "0   1             2012.917          32.0   \n",
       "1   2             2012.917          19.5   \n",
       "2   3             2013.583          13.3   \n",
       "3   4             2013.500          13.3   \n",
       "4   5             2012.833           5.0   \n",
       "\n",
       "   X3 distance to the nearest MRT station  X4 number of convenience stores  \\\n",
       "0                                84.87882                               10   \n",
       "1                               306.59470                                9   \n",
       "2                               561.98450                                5   \n",
       "3                               561.98450                                5   \n",
       "4                               390.56840                                5   \n",
       "\n",
       "   X5 latitude  X6 longitude  Y house price of unit area  \n",
       "0     24.98298     121.54024                        37.9  \n",
       "1     24.98034     121.53951                        42.2  \n",
       "2     24.98746     121.54391                        47.3  \n",
       "3     24.98746     121.54391                        54.8  \n",
       "4     24.97937     121.54245                        43.1  "
      ]
     },
     "execution_count": 10,
     "metadata": {},
     "output_type": "execute_result"
    }
   ],
   "source": [
    "df= pd.read_csv('Real estate.csv')\n",
    "df.head()"
   ]
  },
  {
   "cell_type": "code",
   "execution_count": 23,
   "id": "d8c7874f-ccdd-433a-b716-b822c3db2e11",
   "metadata": {},
   "outputs": [
    {
     "data": {
      "text/plain": [
       "(414, 119)"
      ]
     },
     "execution_count": 23,
     "metadata": {},
     "output_type": "execute_result"
    }
   ],
   "source": [
    "X= df.drop('Y house price of unit area', axis=1)\n",
    "Y=df['Y house price of unit area']\n",
    "polynomial_converter= PolynomialFeatures(degree=3, include_bias=False)\n",
    "poly_features= polynomial_converter.fit_transform(X)\n",
    "poly_features.shape"
   ]
  },
  {
   "cell_type": "code",
   "execution_count": 24,
   "id": "4f9a1a4d-e959-4929-847c-94d71b52bffd",
   "metadata": {},
   "outputs": [],
   "source": [
    "x_train, x_test,y_train, y_test = train_test_split(X, Y, test_size = 0.2, random_state = 42)"
   ]
  },
  {
   "cell_type": "code",
   "execution_count": 25,
   "id": "79a51f5b-8698-4db7-b340-40e45b731cac",
   "metadata": {},
   "outputs": [
    {
     "name": "stdout",
     "output_type": "stream",
     "text": [
      "54.601960673374805\n"
     ]
    }
   ],
   "source": [
    "lin_reg = LinearRegression()\n",
    "lin_reg.fit(x_train, y_train)\n",
    "lin_reg_y_pred = lin_reg.predict(x_test)\n",
    "mse = mean_squared_error(y_test, lin_reg_y_pred)\n",
    "print(mse)"
   ]
  },
  {
   "cell_type": "code",
   "execution_count": 26,
   "id": "d9ee2855-cd6b-4c28-903f-aa91368bfb22",
   "metadata": {},
   "outputs": [
    {
     "name": "stdout",
     "output_type": "stream",
     "text": [
      "61.21425974283951\n"
     ]
    }
   ],
   "source": [
    "# Fitting the model on Linear Regression:\n",
    "from sklearn.linear_model import Lasso\n",
    "lasso = Lasso()\n",
    "lasso.fit(x_train, y_train)\n",
    "y_pred_lasso = lasso.predict(x_test)\n",
    "mse = mean_squared_error(y_test, y_pred_lasso)\n",
    "print(mse)"
   ]
  },
  {
   "cell_type": "code",
   "execution_count": 27,
   "id": "4c8182b4-1056-450f-882e-a99cda05cec0",
   "metadata": {},
   "outputs": [
    {
     "name": "stdout",
     "output_type": "stream",
     "text": [
      "57.67278144006664\n"
     ]
    }
   ],
   "source": [
    "# Fitting the model on Lasso Regression:\n",
    "from sklearn.linear_model import Ridge\n",
    "ridge = Ridge()\n",
    "ridge.fit(x_train, y_train)\n",
    "y_pred_ridge = ridge.predict(x_test)\n",
    "mse = mean_squared_error(y_test, y_pred_ridge)\n",
    "print(mse)"
   ]
  },
  {
   "cell_type": "code",
   "execution_count": 28,
   "id": "fff7d8f5-c200-48ef-ad1d-362483b8aadf",
   "metadata": {},
   "outputs": [
    {
     "data": {
      "text/plain": [
       "[Text(0, 0, 'Linear'), Text(1, 0, 'Lasso'), Text(2, 0, 'Ridge')]"
      ]
     },
     "execution_count": 28,
     "metadata": {},
     "output_type": "execute_result"
    },
    {
     "data": {
      "text/plain": [
       "<Figure size 3000x600 with 0 Axes>"
      ]
     },
     "metadata": {},
     "output_type": "display_data"
    },
    {
     "data": {
      "image/png": "[encoded data removed]",
      "text/plain": [
       "<Figure size 640x480 with 1 Axes>"
      ]
     },
     "metadata": {},
     "output_type": "display_data"
    }
   ],
   "source": [
    "# Fitting the model on Ridge Regression:\n",
    "plt.figure(figsize=(30,6))\n",
    "x = ['Linear', 'Lasso', 'Ridge']\n",
    "y1 = np.array([-0.004709, -0.005994, 0.005700])\n",
    "y2 = np.array([1.007691, 0.958896,  1.135925])\n",
    "y3 = np.array([221.632669, 0.000000, 7.304642])\n",
    "y4 = np.array([-8.841321, -0.000000, -0.915969])\n",
    "fig, axes = plt.subplots(ncols=1, nrows=1)\n",
    "plt.bar(x, y1, color = 'black')\n",
    "plt.bar(x, y2, bottom=y1, color='b')\n",
    "plt.bar(x, y3, bottom=y1+y2, color='g')\n",
    "plt.bar(x, y4, bottom=y1+y2+y3, color='r')\n",
    "plt.xlabel(\"Models\")\n",
    "plt.ylabel(\"Coefficients\")\n",
    "plt.legend([\"X3\", \"X4\", \"X5\", \"X6\"])\n",
    "plt.title(\"Comparing coefficients of different models\")\n",
    "axes.set_xticklabels(['Linear', 'Lasso', 'Ridge'])"
   ]
  },
  {
   "cell_type": "markdown",
   "id": "13ced0c0-93d5-45d7-bd5d-0bb0e79c6aeb",
   "metadata": {},
   "source": [
    "Inspecting the coefficients, we can see that Lasso and Ridge Regression had shrunk the coefficients, and thus the coefficients are close to zero. On the contrary, Linear Regression still has a substantial value of the coefficient for the X5 column.\\"
   ]
  },
  {
   "cell_type": "code",
   "execution_count": null,
   "id": "dc256281-fa63-49fc-94d1-ecaae0a3aa42",
   "metadata": {},
   "outputs": [],
   "source": []
  },
  {
   "cell_type": "markdown",
   "id": "00b7a638-5aee-4de6-bd4e-db535f462f20",
   "metadata": {},
   "source": [
    "# Q7. How do regularized linear models help to prevent overfitting in machine learning? Provide an example to illustrate."
   ]
  },
  {
   "cell_type": "code",
   "execution_count": 29,
   "id": "0aa4a7fe-0e55-4644-ba0f-3874a64b2a4f",
   "metadata": {},
   "outputs": [
    {
     "name": "stdout",
     "output_type": "stream",
     "text": [
      "Linear Regression MSE: 0.9759382193626609\n",
      "Lasso Regression MSE: 1.2373419162524666\n"
     ]
    }
   ],
   "source": [
    "import numpy as np\n",
    "from sklearn.model_selection import train_test_split\n",
    "from sklearn.linear_model import LinearRegression, Lasso\n",
    "from sklearn.metrics import mean_squared_error\n",
    "\n",
    "# Generate sample data\n",
    "np.random.seed(42)\n",
    "X = np.random.rand(100, 5)  # Five predictor variables\n",
    "y = 3 * X[:, 0] - 2 * X[:, 1] + 5 * X[:, 2] + np.random.randn(100)  # True relationship with noise\n",
    "\n",
    "# Split the dataset into training and testing sets\n",
    "X_train, X_test, y_train, y_test = train_test_split(X, y, test_size=0.2, random_state=42)\n",
    "\n",
    "# Fit a regular linear regression model\n",
    "linear_model = LinearRegression()\n",
    "linear_model.fit(X_train, y_train)\n",
    "linear_predictions = linear_model.predict(X_test)\n",
    "linear_mse = mean_squared_error(y_test, linear_predictions)\n",
    "print(f\"Linear Regression MSE: {linear_mse}\")\n",
    "\n",
    "# Fit a Lasso regularization model\n",
    "lasso_model = Lasso(alpha=0.1)  # Regularization parameter (alpha)\n",
    "lasso_model.fit(X_train, y_train)\n",
    "lasso_predictions = lasso_model.predict(X_test)\n",
    "lasso_mse = mean_squared_error(y_test, lasso_predictions)\n",
    "print(f\"Lasso Regression MSE: {lasso_mse}\")\n"
   ]
  },
  {
   "cell_type": "markdown",
   "id": "3a219fd9-5b7a-4789-a25c-7e0a3182377a",
   "metadata": {},
   "source": [
    "In this example, the true relationship between the predictor variables and the target variable is known, but we add some noise to simulate real-world data. When using a standard linear regression model, the model might try to fit the noise along with the true relationship, leading to overfitting. However, by using Lasso regularization, the model is penalized for having large coefficients, and some coefficients might be pushed towards zero. This results in a simpler model that focuses on the important predictor variables, reducing overfitting and improving generalization to new data."
   ]
  },
  {
   "cell_type": "code",
   "execution_count": null,
   "id": "7c4052d8-7c36-4727-a0af-79293f376ec9",
   "metadata": {},
   "outputs": [],
   "source": []
  },
  {
   "cell_type": "markdown",
   "id": "5d03a819-1e4b-493c-b332-6fc1a96fdf41",
   "metadata": {},
   "source": [
    "# Q8. Discuss the limitations of regularized linear models and explain why they may not always be the best choice for regression analysis."
   ]
  },
  {
   "cell_type": "markdown",
   "id": "3a0878b4-0895-4661-b105-b88857ededfa",
   "metadata": {},
   "source": [
    "Loss of Important Variables: While regularization helps in reducing the impact of irrelevant or redundant variables, it can also drive some coefficients to exactly zero. This can lead to the loss of potentially important variables from the model, resulting in a simplified model that might not capture all the nuances of the underlying data.\n",
    "\n",
    "Parameter Tuning: Regularized models have hyperparameters (e.g., alpha) that need to be tuned. Finding the optimal values for these hyperparameters can be challenging and might require additional time and computational resources, especially when dealing with large datasets.\n",
    "\n",
    "Bias-Variance Trade-off: Regularized models bias the model towards simpler solutions by shrinking coefficients. However, in some cases, you might want a model that captures more complex relationships in the data, even at the risk of fitting noise. Regularized models might not be suitable in situations where you're willing to accept a higher variance for potentially better performance.\n",
    "\n",
    "Limited to Linear Relationships: Regularized linear models assume linear relationships between predictor variables and the target variable. If the underlying relationship is highly nonlinear, regularized linear models might not capture the complexities of the data accurately.\n",
    "\n",
    "Interpretability: While regularization can help in feature selection and reducing the impact of noise, it can make the model less interpretable. Coefficients might be shrunk towards zero or eliminated entirely, making it harder to understand the relationships between variables and the target."
   ]
  },
  {
   "cell_type": "code",
   "execution_count": null,
   "id": "88636ee2-f8e8-438b-9ddf-5d6d9d936a3a",
   "metadata": {},
   "outputs": [],
   "source": []
  },
  {
   "cell_type": "markdown",
   "id": "ed4282e8-2126-4b19-b965-19f95bccb75e",
   "metadata": {},
   "source": [
    "# Q9. You are comparing the performance of two regression models using different evaluation metrics. Model A has an RMSE of 10, while Model B has an MAE of 8. Which model would you choose as the better performer, and why? Are there any limitations to your choice of metric?"
   ]
  },
  {
   "cell_type": "markdown",
   "id": "e7f6481d-ffe0-42d4-8d07-0c2360356091",
   "metadata": {},
   "source": [
    "RMSE puts more weight on larger errors due to the squared term.\n",
    "It's sensitive to outliers because outliers contribute more to the squared error.\n",
    "In your case, Model A has an RMSE of 10, indicating that, on average, the predicted values deviate from the actual values by about 10 units.\n",
    "\n",
    "MAE treats all errors equally due to the absolute value.\n",
    "It's less sensitive to outliers compared to RMSE.\n",
    "In your case, Model B has an MAE of 8, indicating that, on average, the absolute difference between predicted and actual values is 8 units.\n",
    "\n",
    "If your priority is to minimize the impact of larger errors and outliers, Model A with the lower RMSE might be preferred.\n",
    "If your priority is to minimize the average magnitude of errors, Model B with the lower MAE might be preferred."
   ]
  },
  {
   "cell_type": "code",
   "execution_count": null,
   "id": "11bc78f0-6459-46d1-b6c6-0371078fd585",
   "metadata": {},
   "outputs": [],
   "source": []
  },
  {
   "cell_type": "markdown",
   "id": "4f615f4f-7977-4931-9796-1b78c5dc8048",
   "metadata": {},
   "source": [
    "# Q10. You are comparing the performance of two regularized linear models using different types of regularization. Model A uses Ridge regularization with a regularization parameter of 0.1, while Model B uses Lasso regularization with a regularization parameter of 0.5. Which model would you choose as the better performer, and why? Are there any trade-offs or limitations to your choice of regularization method?"
   ]
  },
  {
   "cell_type": "markdown",
   "id": "1bf3ada7-5e0c-41ed-8595-8d9555bf1e01",
   "metadata": {},
   "source": [
    "\n",
    "Choosing the better performer between Model A (Ridge regularization) and Model B (Lasso regularization) with the provided regularization parameters involves considering the characteristics of each regularization method and their impact on the models. Let's discuss the implications of each regularization method and the trade-offs involved:\n",
    "\n",
    "Ridge Regularization:\n",
    "\n",
    "Ridge adds a penalty term that is the squared sum of the coefficients of the predictor variables.\n",
    "Ridge doesn't force coefficients to become exactly zero; it only shrinks them towards zero.\n",
    "A regularization parameter (α) controls the strength of the penalty. Smaller α values result in weaker regularization, and larger α values increase the strength of regularization.\n",
    "\n",
    "\n",
    "Lasso Regularization:\n",
    "\n",
    "Lasso adds a penalty term that is the absolute sum of the coefficients of the predictor variables.\n",
    "Lasso can drive some coefficients all the way to zero, effectively performing feature selection.\n",
    "The regularization parameter (α) also controls the strength of the penalty. Larger α values result in stronger regularization.\n",
    "\n",
    "\n",
    "Choosing the better model:\n",
    "\n",
    "If you suspect that many predictor variables are irrelevant or redundant, Lasso regularization might be preferable. Its ability to drive coefficients to zero can simplify the model and potentially improve interpretability.\n",
    "If you believe that most predictor variables are relevant but might have multicollinearity issues, Ridge regularization could be a better choice. It shrinks coefficients without eliminating variables entirely."
   ]
  },
  {
   "cell_type": "markdown",
   "id": "0af8a305-516e-47e3-9018-c4ea13f9a5a2",
   "metadata": {},
   "source": [
    "Trade-offs and limitations:\n",
    "\n",
    "Feature Selection vs. Coefficient Shrinkage: Lasso's feature selection capability can be advantageous for identifying the most important variables, but it can also lead to omitting potentially relevant variables from the model.\n",
    "Multicollinearity Handling: Ridge's coefficient shrinkage can help handle multicollinearity among predictor variables by reducing their impact. However, it doesn't necessarily eliminate variables, which could be desired in some cases.\n",
    "Interpretability: Lasso can result in a sparser model with fewer variables, enhancing interpretability. On the other hand, Ridge might not reduce the number of variables as dramatically.\n",
    "Parameter Tuning: The choice of the regularization parameter (α) is crucial. It requires tuning through techniques like cross-validation to find the best value for your specific dataset."
   ]
  },
  {
   "cell_type": "code",
   "execution_count": null,
   "id": "5880e5ac-9e3b-44f5-b4ca-ef60e0ee5626",
   "metadata": {},
   "outputs": [],
   "source": []
  }
 ],
 "metadata": {
  "kernelspec": {
   "display_name": "Python 3 (ipykernel)",
   "language": "python",
   "name": "python3"
  },
  "language_info": {
   "codemirror_mode": {
    "name": "ipython",
    "version": 3
   },
   "file_extension": ".py",
   "mimetype": "text/x-python",
   "name": "python",
   "nbconvert_exporter": "python",
   "pygments_lexer": "ipython3",
   "version": "3.10.8"
  }
 },
 "nbformat": 4,
 "nbformat_minor": 5
}
